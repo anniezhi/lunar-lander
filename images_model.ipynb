{
 "cells": [
  {
   "cell_type": "markdown",
   "metadata": {},
   "source": [
    "In this notebook I will consider a number of CNN architectures to predict actions based on images. Initially I will test their accuracy on the training data but later in the notebook I make my final evaluation on their performance on the unseen test data. The best performing model will be saved as task2.mod."
   ]
  },
  {
   "cell_type": "code",
   "execution_count": 2,
   "metadata": {},
   "outputs": [
    {
     "name": "stderr",
     "output_type": "stream",
     "text": [
      "2023-05-01 16:49:13.031889: I tensorflow/core/platform/cpu_feature_guard.cc:193] This TensorFlow binary is optimized with oneAPI Deep Neural Network Library (oneDNN) to use the following CPU instructions in performance-critical operations:  AVX2 FMA\n",
      "To enable them in other operations, rebuild TensorFlow with the appropriate compiler flags.\n",
      "2023-05-01 16:49:13.620523: W tensorflow/compiler/xla/stream_executor/platform/default/dso_loader.cc:64] Could not load dynamic library 'libnvinfer.so.7'; dlerror: libnvinfer.so.7: cannot open shared object file: No such file or directory; LD_LIBRARY_PATH: /local/home/xiazhi/miniconda3/envs/rl/lib/python3.10/site-packages/cv2/../../lib64:\n",
      "2023-05-01 16:49:13.620572: W tensorflow/compiler/xla/stream_executor/platform/default/dso_loader.cc:64] Could not load dynamic library 'libnvinfer_plugin.so.7'; dlerror: libnvinfer_plugin.so.7: cannot open shared object file: No such file or directory; LD_LIBRARY_PATH: /local/home/xiazhi/miniconda3/envs/rl/lib/python3.10/site-packages/cv2/../../lib64:\n",
      "2023-05-01 16:49:13.620577: W tensorflow/compiler/tf2tensorrt/utils/py_utils.cc:38] TF-TRT Warning: Cannot dlopen some TensorRT libraries. If you would like to use Nvidia GPU with TensorRT, please make sure the missing libraries mentioned above are installed properly.\n"
     ]
    }
   ],
   "source": [
    "import os \n",
    "import random\n",
    "import numpy as np\n",
    "import cv2\n",
    "import pandas as pd\n",
    "\n",
    "\n",
    "import matplotlib.pyplot as plt\n",
    "%matplotlib inline \n",
    "from matplotlib import ticker\n",
    "import seaborn as sns\n",
    "\n",
    "from sklearn.model_selection import train_test_split\n",
    "from sklearn import metrics\n",
    "from imblearn.under_sampling import RandomUnderSampler\n",
    "from sklearn.utils import shuffle\n",
    "\n",
    "import keras\n",
    "from keras.models import Sequential\n",
    "from keras.layers import Input, Dropout, Flatten, Conv2D, MaxPooling2D, Dense, Activation, Convolution2D\n",
    "from keras.optimizers import RMSprop\n",
    "from tensorflow.keras.optimizers import Adam as adam\n",
    "from keras.utils import np_utils\n",
    "\n",
    "from keras import backend as K\n",
    "\n",
    "K.set_image_data_format('channels_first')"
   ]
  },
  {
   "cell_type": "code",
   "execution_count": 37,
   "metadata": {},
   "outputs": [
    {
     "name": "stderr",
     "output_type": "stream",
     "text": [
      "/tmp/ipykernel_1995889/1893904967.py:15: DeprecationWarning: `np.float` is a deprecated alias for the builtin `float`. To silence this warning, use `float` by itself. Doing this will not modify any behavior and is safe. If you specifically wanted the numpy scalar type, use `np.float64` here.\n",
      "Deprecated in NumPy 1.20; for more details and guidance: https://numpy.org/devdocs/release/1.20.0-notes.html#deprecations\n",
      "  data = np.ndarray((count, ROWS, COLS, CHANNELS), dtype=np.float)\n"
     ]
    },
    {
     "name": "stdout",
     "output_type": "stream",
     "text": [
      "Processed 0 of 64323\n",
      "Processed 1000 of 64323\n",
      "Processed 2000 of 64323\n",
      "Processed 3000 of 64323\n",
      "Processed 4000 of 64323\n",
      "Processed 5000 of 64323\n",
      "Processed 6000 of 64323\n",
      "Processed 7000 of 64323\n",
      "Processed 8000 of 64323\n",
      "Processed 9000 of 64323\n",
      "Processed 10000 of 64323\n",
      "Processed 11000 of 64323\n",
      "Processed 12000 of 64323\n",
      "Processed 13000 of 64323\n",
      "Processed 14000 of 64323\n",
      "Processed 15000 of 64323\n",
      "Processed 16000 of 64323\n",
      "Processed 17000 of 64323\n",
      "Processed 18000 of 64323\n",
      "Processed 19000 of 64323\n",
      "Processed 20000 of 64323\n",
      "Processed 21000 of 64323\n",
      "Processed 22000 of 64323\n",
      "Processed 23000 of 64323\n",
      "Processed 24000 of 64323\n",
      "Processed 25000 of 64323\n",
      "Processed 26000 of 64323\n",
      "Processed 27000 of 64323\n",
      "Processed 28000 of 64323\n",
      "Processed 29000 of 64323\n",
      "Processed 30000 of 64323\n",
      "Processed 31000 of 64323\n",
      "Processed 32000 of 64323\n",
      "Processed 33000 of 64323\n",
      "Processed 34000 of 64323\n",
      "Processed 35000 of 64323\n",
      "Processed 36000 of 64323\n",
      "Processed 37000 of 64323\n",
      "Processed 38000 of 64323\n",
      "Processed 39000 of 64323\n",
      "Processed 40000 of 64323\n",
      "Processed 41000 of 64323\n",
      "Processed 42000 of 64323\n",
      "Processed 43000 of 64323\n",
      "Processed 44000 of 64323\n",
      "Processed 45000 of 64323\n",
      "Processed 46000 of 64323\n",
      "Processed 47000 of 64323\n",
      "Processed 48000 of 64323\n",
      "Processed 49000 of 64323\n",
      "Processed 50000 of 64323\n",
      "Processed 51000 of 64323\n",
      "Processed 52000 of 64323\n",
      "Processed 53000 of 64323\n",
      "Processed 54000 of 64323\n",
      "Processed 55000 of 64323\n",
      "Processed 56000 of 64323\n",
      "Processed 57000 of 64323\n",
      "Processed 58000 of 64323\n",
      "Processed 59000 of 64323\n",
      "Processed 60000 of 64323\n",
      "Processed 61000 of 64323\n",
      "Processed 62000 of 64323\n",
      "Processed 63000 of 64323\n",
      "Processed 64000 of 64323\n",
      "Train shape: (64323, 64, 64, 1)\n"
     ]
    }
   ],
   "source": [
    "# Set up some parmaeters for data loading\n",
    "TRAIN_DIR = './data/'\n",
    "sample_rate = 1\n",
    "ROWS = 64\n",
    "COLS = 64\n",
    "CHANNELS = 1\n",
    "\n",
    "# generate filenames from the data folder and do sampling\n",
    "image_filenames = [TRAIN_DIR+i for i in os.listdir(TRAIN_DIR) if not i.startswith('.')] # use this for full dataset\n",
    "image_filenames = random.sample(image_filenames, int(len(image_filenames)*sample_rate))\n",
    "\n",
    "# Create a data array for image data\n",
    "count = len(image_filenames)\n",
    "# data = np.ndarray((count, CHANNELS, ROWS, COLS), dtype=np.float)\n",
    "data = np.ndarray((count, ROWS, COLS, CHANNELS), dtype=np.float)\n",
    "\n",
    "# Iterate throuigh the filenames and for each one load the image, resize and normalise\n",
    "for i, image_file in enumerate(image_filenames):\n",
    "    image = cv2.imread(image_file, cv2.IMREAD_GRAYSCALE)\n",
    "    image = cv2.resize(image, (ROWS, COLS), interpolation=cv2.INTER_CUBIC)        \n",
    "    # data[i] = image\n",
    "    data[i] = image[..., None]\n",
    "    data[i] = data[i]/255\n",
    "    if i%1000 == 0: print('Processed {} of {}'.format(i, count))\n",
    "\n",
    "print(\"Train shape: {}\".format(data.shape))"
   ]
  },
  {
   "cell_type": "code",
   "execution_count": 39,
   "metadata": {},
   "outputs": [
    {
     "data": {
      "text/plain": [
       "<matplotlib.image.AxesImage at 0x7ff09a756fe0>"
      ]
     },
     "execution_count": 39,
     "metadata": {},
     "output_type": "execute_result"
    },
    {
     "data": {
      "image/png": "[encoded data removed]",
      "text/plain": [
       "<Figure size 640x480 with 1 Axes>"
      ]
     },
     "metadata": {},
     "output_type": "display_data"
    }
   ],
   "source": [
    "plt.imshow(np.squeeze(data[1]))"
   ]
  },
  {
   "cell_type": "code",
   "execution_count": 40,
   "metadata": {},
   "outputs": [
    {
     "data": {
      "text/plain": [
       "<AxesSubplot: xlabel='label', ylabel='count'>"
      ]
     },
     "execution_count": 40,
     "metadata": {},
     "output_type": "execute_result"
    },
    {
     "data": {
      "image/png": "[encoded data removed]",
      "text/plain": [
       "<Figure size 640x480 with 1 Axes>"
      ]
     },
     "metadata": {},
     "output_type": "display_data"
    }
   ],
   "source": [
    "# Extract the lables from the last characters in the filename\n",
    "labels = []\n",
    "for i in image_filenames:\n",
    "    l = i[-6:-5]\n",
    "    labels.append(int(l))\n",
    "        \n",
    "# Count the number of clases\n",
    "num_classes = len(set(labels))\n",
    "\n",
    "# convert to binary encoded labels\n",
    "labels_wide = keras.utils.to_categorical(labels, num_classes)\n",
    "\n",
    "# Plot a bar plot of the \n",
    "df = pd.DataFrame(labels, columns = ['label'])\n",
    "sns.countplot(x=df[\"label\"])"
   ]
  },
  {
   "cell_type": "code",
   "execution_count": 41,
   "metadata": {},
   "outputs": [],
   "source": [
    "train, test, train_labels, test_labels = train_test_split(data, labels, random_state=0, test_size = 0.2, train_size = 0.8)\n",
    "train_labels_wide = keras.utils.to_categorical(train_labels, num_classes)\n",
    "test_labels_wide = keras.utils.to_categorical(test_labels, num_classes)"
   ]
  },
  {
   "cell_type": "code",
   "execution_count": 49,
   "metadata": {},
   "outputs": [
    {
     "data": {
      "image/png": "[encoded data removed]",
      "text/plain": [
       "<Figure size 640x480 with 1 Axes>"
      ]
     },
     "metadata": {},
     "output_type": "display_data"
    }
   ],
   "source": [
    "# Apply the random under-sampling\n",
    "rus = RandomUnderSampler()\n",
    "train_rus, train_labels_rus = rus.fit_resample(train.reshape(len(train), ROWS*COLS*CHANNELS), train_labels)\n",
    "train_rus, train_labels_rus = shuffle(train_rus, train_labels_rus)\n",
    "train_rus = train_rus.reshape(len(train_rus), ROWS, COLS, CHANNELS)\n",
    "df2 = pd.DataFrame(train_labels_rus, columns=[\"labels\"])\n",
    "sns.countplot(x=df2['labels'])\n",
    "train_labels_rus_wide = keras.utils.to_categorical(train_labels_rus, num_classes)"
   ]
  },
  {
   "cell_type": "markdown",
   "metadata": {},
   "source": [
    "Trying out a couple of model architectures\n",
    "\n",
    "First architecture:"
   ]
  },
  {
   "cell_type": "code",
   "execution_count": 50,
   "metadata": {},
   "outputs": [
    {
     "name": "stdout",
     "output_type": "stream",
     "text": [
      "Model: \"sequential_10\"\n",
      "_________________________________________________________________\n",
      " Layer (type)                Output Shape              Param #   \n",
      "=================================================================\n",
      " conv2d_10 (Conv2D)          (None, 64, 64, 32)        320       \n",
      "                                                                 \n",
      " max_pooling2d_9 (MaxPooling  (None, 32, 32, 32)       0         \n",
      " 2D)                                                             \n",
      "                                                                 \n",
      " flatten_5 (Flatten)         (None, 32768)             0         \n",
      "                                                                 \n",
      " dense_10 (Dense)            (None, 128)               4194432   \n",
      "                                                                 \n",
      " dropout_5 (Dropout)         (None, 128)               0         \n",
      "                                                                 \n",
      " dense_11 (Dense)            (None, 4)                 516       \n",
      "                                                                 \n",
      "=================================================================\n",
      "Total params: 4,195,268\n",
      "Trainable params: 4,195,268\n",
      "Non-trainable params: 0\n",
      "_________________________________________________________________\n"
     ]
    }
   ],
   "source": [
    "#first model:\n",
    "\n",
    "model1 = Sequential()\n",
    "\n",
    "# model1.add(Conv2D(32, (3, 3), padding='same', input_shape=(CHANNELS, ROWS, COLS), activation='relu'))\n",
    "model1.add(Conv2D(32, (3, 3), padding='same', input_shape=(ROWS, COLS, CHANNELS), activation='relu', data_format='channels_last'))\n",
    "model1.add(MaxPooling2D(pool_size=(2, 2), data_format='channels_last'))\n",
    "\n",
    "model1.add(Flatten())\n",
    "\n",
    "model1.add(Dense(128, activation='relu'))\n",
    "model1.add(Dropout(0.5))\n",
    "\n",
    "model1.add(Dense(num_classes, activation = 'softmax'))\n",
    "\n",
    "model1.summary()"
   ]
  },
  {
   "cell_type": "code",
   "execution_count": 51,
   "metadata": {},
   "outputs": [],
   "source": [
    "model1.compile(loss='categorical_crossentropy', optimizer=adam(learning_rate=1e-3), metrics=['accuracy'])"
   ]
  },
  {
   "cell_type": "code",
   "execution_count": 53,
   "metadata": {},
   "outputs": [
    {
     "name": "stdout",
     "output_type": "stream",
     "text": [
      "Epoch 1/20\n",
      "64/64 [==============================] - 10s 155ms/step - loss: 1.3423 - accuracy: 0.3512 - val_loss: 1.2156 - val_accuracy: 0.4457\n",
      "Epoch 2/20\n",
      "64/64 [==============================] - 10s 151ms/step - loss: 1.2028 - accuracy: 0.4338 - val_loss: 1.1291 - val_accuracy: 0.4904\n",
      "Epoch 3/20\n",
      "64/64 [==============================] - 11s 165ms/step - loss: 1.1425 - accuracy: 0.4593 - val_loss: 1.0633 - val_accuracy: 0.5114\n",
      "Epoch 4/20\n",
      "64/64 [==============================] - 11s 170ms/step - loss: 1.0981 - accuracy: 0.4807 - val_loss: 1.0376 - val_accuracy: 0.5146\n",
      "Epoch 5/20\n",
      "64/64 [==============================] - 11s 168ms/step - loss: 1.0683 - accuracy: 0.4867 - val_loss: 1.0051 - val_accuracy: 0.5228\n",
      "Epoch 6/20\n",
      "64/64 [==============================] - 11s 168ms/step - loss: 1.0496 - accuracy: 0.4999 - val_loss: 1.0053 - val_accuracy: 0.5228\n",
      "Epoch 7/20\n",
      "64/64 [==============================] - 11s 169ms/step - loss: 1.0302 - accuracy: 0.5055 - val_loss: 0.9902 - val_accuracy: 0.5215\n",
      "Epoch 8/20\n",
      "64/64 [==============================] - 11s 170ms/step - loss: 1.0184 - accuracy: 0.5165 - val_loss: 0.9838 - val_accuracy: 0.5224\n",
      "Epoch 9/20\n",
      "64/64 [==============================] - 10s 163ms/step - loss: 1.0050 - accuracy: 0.5117 - val_loss: 0.9826 - val_accuracy: 0.5196\n",
      "Epoch 10/20\n",
      "64/64 [==============================] - 11s 167ms/step - loss: 0.9934 - accuracy: 0.5237 - val_loss: 0.9736 - val_accuracy: 0.5307\n",
      "Epoch 11/20\n",
      "64/64 [==============================] - 12s 184ms/step - loss: 0.9781 - accuracy: 0.5330 - val_loss: 0.9661 - val_accuracy: 0.5337\n",
      "Epoch 12/20\n",
      "64/64 [==============================] - 11s 171ms/step - loss: 0.9626 - accuracy: 0.5363 - val_loss: 0.9667 - val_accuracy: 0.5343\n",
      "Epoch 13/20\n",
      "64/64 [==============================] - 11s 170ms/step - loss: 0.9548 - accuracy: 0.5415 - val_loss: 0.9588 - val_accuracy: 0.5426\n",
      "Epoch 14/20\n",
      "64/64 [==============================] - 11s 167ms/step - loss: 0.9391 - accuracy: 0.5501 - val_loss: 0.9562 - val_accuracy: 0.5430\n",
      "Epoch 15/20\n",
      "64/64 [==============================] - 11s 166ms/step - loss: 0.9287 - accuracy: 0.5474 - val_loss: 0.9575 - val_accuracy: 0.5385\n",
      "Epoch 16/20\n",
      "64/64 [==============================] - 11s 167ms/step - loss: 0.9191 - accuracy: 0.5555 - val_loss: 0.9641 - val_accuracy: 0.5356\n",
      "Epoch 17/20\n",
      "64/64 [==============================] - 11s 171ms/step - loss: 0.9081 - accuracy: 0.5631 - val_loss: 0.9553 - val_accuracy: 0.5385\n",
      "Epoch 18/20\n",
      "64/64 [==============================] - 11s 165ms/step - loss: 0.9033 - accuracy: 0.5612 - val_loss: 0.9526 - val_accuracy: 0.5350\n",
      "Epoch 19/20\n",
      "64/64 [==============================] - 11s 168ms/step - loss: 0.8907 - accuracy: 0.5686 - val_loss: 0.9512 - val_accuracy: 0.5413\n",
      "Epoch 20/20\n",
      "64/64 [==============================] - 11s 173ms/step - loss: 0.8832 - accuracy: 0.5758 - val_loss: 0.9491 - val_accuracy: 0.5389\n"
     ]
    }
   ],
   "source": [
    "epochs = 20\n",
    "batch_size = 256\n",
    "\n",
    "history1 = model1.fit(train_rus, train_labels_rus_wide, batch_size=batch_size, epochs=epochs, validation_split=0.25, verbose=1, shuffle=True)"
   ]
  },
  {
   "cell_type": "code",
   "execution_count": 54,
   "metadata": {},
   "outputs": [
    {
     "data": {
      "image/png": "[encoded data removed]",
      "text/plain": [
       "<Figure size 640x480 with 1 Axes>"
      ]
     },
     "metadata": {},
     "output_type": "display_data"
    }
   ],
   "source": [
    "loss1 = history1.history['loss']\n",
    "val_loss1 = history1.history['val_loss']\n",
    "\n",
    "plt.xlabel('Epochs')\n",
    "plt.ylabel('Loss')\n",
    "plt.plot(loss1, 'blue', label='Training Loss')\n",
    "plt.plot(val_loss1, 'green', label='Validation Loss')\n",
    "plt.xticks(range(0,epochs)[0::2])\n",
    "plt.legend()\n",
    "plt.show()"
   ]
  },
  {
   "cell_type": "markdown",
   "metadata": {},
   "source": [
    "Second architecture:"
   ]
  },
  {
   "cell_type": "code",
   "execution_count": 56,
   "metadata": {},
   "outputs": [
    {
     "name": "stdout",
     "output_type": "stream",
     "text": [
      "Model: \"sequential_11\"\n",
      "_________________________________________________________________\n",
      " Layer (type)                Output Shape              Param #   \n",
      "=================================================================\n",
      " flatten_6 (Flatten)         (None, 4096)              0         \n",
      "                                                                 \n",
      " dense_12 (Dense)            (None, 16)                65552     \n",
      "                                                                 \n",
      " activation (Activation)     (None, 16)                0         \n",
      "                                                                 \n",
      " dense_13 (Dense)            (None, 16)                272       \n",
      "                                                                 \n",
      " activation_1 (Activation)   (None, 16)                0         \n",
      "                                                                 \n",
      " dense_14 (Dense)            (None, 16)                272       \n",
      "                                                                 \n",
      " activation_2 (Activation)   (None, 16)                0         \n",
      "                                                                 \n",
      " dense_15 (Dense)            (None, 4)                 68        \n",
      "                                                                 \n",
      " activation_3 (Activation)   (None, 4)                 0         \n",
      "                                                                 \n",
      "=================================================================\n",
      "Total params: 66,164\n",
      "Trainable params: 66,164\n",
      "Non-trainable params: 0\n",
      "_________________________________________________________________\n"
     ]
    }
   ],
   "source": [
    "model2 = Sequential()\n",
    "model2.add(Flatten(input_shape=(ROWS, COLS, CHANNELS)))\n",
    "model2.add(Dense(16))\n",
    "model2.add(Activation('relu'))\n",
    "model2.add(Dense(16))\n",
    "model2.add(Activation('relu'))\n",
    "model2.add(Dense(16))\n",
    "model2.add(Activation('relu'))\n",
    "model2.add(Dense(num_classes))\n",
    "model2.add(Activation('softmax'))\n",
    "\n",
    "model2.summary()"
   ]
  },
  {
   "cell_type": "code",
   "execution_count": 58,
   "metadata": {},
   "outputs": [],
   "source": [
    "model2.compile(loss='categorical_crossentropy', optimizer=adam(learning_rate=1e-3), metrics=['accuracy'])"
   ]
  },
  {
   "cell_type": "code",
   "execution_count": 59,
   "metadata": {},
   "outputs": [
    {
     "name": "stdout",
     "output_type": "stream",
     "text": [
      "Epoch 1/20\n",
      "64/64 [==============================] - 1s 11ms/step - loss: 1.3903 - accuracy: 0.2515 - val_loss: 1.3809 - val_accuracy: 0.2855\n",
      "Epoch 2/20\n",
      "64/64 [==============================] - 0s 4ms/step - loss: 1.3685 - accuracy: 0.3268 - val_loss: 1.3552 - val_accuracy: 0.2924\n",
      "Epoch 3/20\n",
      "64/64 [==============================] - 0s 4ms/step - loss: 1.3301 - accuracy: 0.3582 - val_loss: 1.2922 - val_accuracy: 0.3972\n",
      "Epoch 4/20\n",
      "64/64 [==============================] - 0s 3ms/step - loss: 1.2707 - accuracy: 0.3959 - val_loss: 1.2408 - val_accuracy: 0.4171\n",
      "Epoch 5/20\n",
      "64/64 [==============================] - 0s 4ms/step - loss: 1.2180 - accuracy: 0.4270 - val_loss: 1.1932 - val_accuracy: 0.4408\n",
      "Epoch 6/20\n",
      "64/64 [==============================] - 0s 4ms/step - loss: 1.1746 - accuracy: 0.4615 - val_loss: 1.1850 - val_accuracy: 0.4644\n",
      "Epoch 7/20\n",
      "64/64 [==============================] - 0s 3ms/step - loss: 1.1475 - accuracy: 0.4802 - val_loss: 1.1156 - val_accuracy: 0.4947\n",
      "Epoch 8/20\n",
      "64/64 [==============================] - 0s 3ms/step - loss: 1.0848 - accuracy: 0.5063 - val_loss: 1.1092 - val_accuracy: 0.4941\n",
      "Epoch 9/20\n",
      "64/64 [==============================] - 0s 3ms/step - loss: 1.0575 - accuracy: 0.5094 - val_loss: 1.0532 - val_accuracy: 0.5031\n",
      "Epoch 10/20\n",
      "64/64 [==============================] - 0s 4ms/step - loss: 1.0266 - accuracy: 0.5169 - val_loss: 1.0351 - val_accuracy: 0.5094\n",
      "Epoch 11/20\n",
      "64/64 [==============================] - 0s 4ms/step - loss: 1.0196 - accuracy: 0.5174 - val_loss: 1.0283 - val_accuracy: 0.5086\n",
      "Epoch 12/20\n",
      "64/64 [==============================] - 0s 3ms/step - loss: 0.9999 - accuracy: 0.5224 - val_loss: 1.0561 - val_accuracy: 0.4858\n",
      "Epoch 13/20\n",
      "64/64 [==============================] - 0s 4ms/step - loss: 0.9920 - accuracy: 0.5236 - val_loss: 1.0211 - val_accuracy: 0.5057\n",
      "Epoch 14/20\n",
      "64/64 [==============================] - 0s 4ms/step - loss: 0.9817 - accuracy: 0.5276 - val_loss: 1.0217 - val_accuracy: 0.5029\n",
      "Epoch 15/20\n",
      "64/64 [==============================] - 0s 4ms/step - loss: 0.9781 - accuracy: 0.5250 - val_loss: 1.0125 - val_accuracy: 0.5157\n",
      "Epoch 16/20\n",
      "64/64 [==============================] - 0s 4ms/step - loss: 0.9791 - accuracy: 0.5283 - val_loss: 1.0226 - val_accuracy: 0.4940\n",
      "Epoch 17/20\n",
      "64/64 [==============================] - 0s 4ms/step - loss: 0.9732 - accuracy: 0.5293 - val_loss: 1.0449 - val_accuracy: 0.5023\n",
      "Epoch 18/20\n",
      "64/64 [==============================] - 0s 3ms/step - loss: 0.9839 - accuracy: 0.5202 - val_loss: 1.0364 - val_accuracy: 0.4917\n",
      "Epoch 19/20\n",
      "64/64 [==============================] - 0s 3ms/step - loss: 0.9745 - accuracy: 0.5259 - val_loss: 1.0210 - val_accuracy: 0.5051\n",
      "Epoch 20/20\n",
      "64/64 [==============================] - 0s 4ms/step - loss: 0.9602 - accuracy: 0.5309 - val_loss: 1.0189 - val_accuracy: 0.5085\n"
     ]
    }
   ],
   "source": [
    "epochs = 20\n",
    "batch_size = 256\n",
    "\n",
    "history2 = model2.fit(train_rus, train_labels_rus_wide, batch_size=batch_size, epochs=epochs, validation_split=0.25, verbose=1, shuffle=True)"
   ]
  },
  {
   "cell_type": "code",
   "execution_count": 60,
   "metadata": {},
   "outputs": [
    {
     "data": {
      "image/png": "[encoded data removed]",
      "text/plain": [
       "<Figure size 640x480 with 1 Axes>"
      ]
     },
     "metadata": {},
     "output_type": "display_data"
    }
   ],
   "source": [
    "loss2 = history2.history['loss']\n",
    "val_loss2 = history2.history['val_loss']\n",
    "\n",
    "plt.xlabel('Epochs')\n",
    "plt.ylabel('Loss')\n",
    "plt.plot(loss2, 'blue', label='Training Loss')\n",
    "plt.plot(val_loss2, 'green', label='Validation Loss')\n",
    "plt.xticks(range(0,epochs)[0::2])\n",
    "plt.legend()\n",
    "plt.show()"
   ]
  },
  {
   "cell_type": "markdown",
   "metadata": {},
   "source": [
    "Third architecture:"
   ]
  },
  {
   "cell_type": "code",
   "execution_count": 62,
   "metadata": {},
   "outputs": [
    {
     "name": "stdout",
     "output_type": "stream",
     "text": [
      "Model: \"sequential_13\"\n",
      "_________________________________________________________________\n",
      " Layer (type)                Output Shape              Param #   \n",
      "=================================================================\n",
      " conv2d_14 (Conv2D)          (None, 15, 15, 32)        2080      \n",
      "                                                                 \n",
      " activation_9 (Activation)   (None, 15, 15, 32)        0         \n",
      "                                                                 \n",
      " conv2d_15 (Conv2D)          (None, 6, 6, 64)          32832     \n",
      "                                                                 \n",
      " activation_10 (Activation)  (None, 6, 6, 64)          0         \n",
      "                                                                 \n",
      " conv2d_16 (Conv2D)          (None, 4, 4, 64)          36928     \n",
      "                                                                 \n",
      " activation_11 (Activation)  (None, 4, 4, 64)          0         \n",
      "                                                                 \n",
      " flatten_8 (Flatten)         (None, 1024)              0         \n",
      "                                                                 \n",
      " dense_18 (Dense)            (None, 512)               524800    \n",
      "                                                                 \n",
      " activation_12 (Activation)  (None, 512)               0         \n",
      "                                                                 \n",
      " dense_19 (Dense)            (None, 4)                 2052      \n",
      "                                                                 \n",
      " activation_13 (Activation)  (None, 4)                 0         \n",
      "                                                                 \n",
      "=================================================================\n",
      "Total params: 598,692\n",
      "Trainable params: 598,692\n",
      "Non-trainable params: 0\n",
      "_________________________________________________________________\n",
      "None\n"
     ]
    }
   ],
   "source": [
    "model3 = Sequential()\n",
    "model3.add(Conv2D(32, (8, 8), input_shape=(ROWS, COLS, CHANNELS), strides=(4, 4), data_format='channels_last'))\n",
    "model3.add(Activation('relu'))\n",
    "model3.add(Conv2D(64, (4, 4), strides=(2, 2), data_format='channels_last'))\n",
    "model3.add(Activation('relu'))\n",
    "model3.add(Conv2D(64, (3, 3), strides=(1, 1), data_format='channels_last'))\n",
    "model3.add(Activation('relu'))\n",
    "model3.add(Flatten())\n",
    "model3.add(Dense(512))\n",
    "model3.add(Activation('relu'))\n",
    "model3.add(Dense(num_classes))\n",
    "model3.add(Activation('softmax'))\n",
    "print(model3.summary())"
   ]
  },
  {
   "cell_type": "code",
   "execution_count": 64,
   "metadata": {},
   "outputs": [],
   "source": [
    "model3.compile(loss='categorical_crossentropy', optimizer=adam(learning_rate=1e-3), metrics=['accuracy'])"
   ]
  },
  {
   "cell_type": "code",
   "execution_count": 65,
   "metadata": {},
   "outputs": [
    {
     "name": "stdout",
     "output_type": "stream",
     "text": [
      "Epoch 1/20\n",
      "64/64 [==============================] - 2s 28ms/step - loss: 1.2073 - accuracy: 0.4101 - val_loss: 1.0633 - val_accuracy: 0.4871\n",
      "Epoch 2/20\n",
      "64/64 [==============================] - 2s 24ms/step - loss: 1.0388 - accuracy: 0.4987 - val_loss: 1.0264 - val_accuracy: 0.5086\n",
      "Epoch 3/20\n",
      "64/64 [==============================] - 2s 25ms/step - loss: 1.0046 - accuracy: 0.5143 - val_loss: 1.0012 - val_accuracy: 0.5140\n",
      "Epoch 4/20\n",
      "64/64 [==============================] - 2s 25ms/step - loss: 0.9807 - accuracy: 0.5241 - val_loss: 1.0144 - val_accuracy: 0.5079\n",
      "Epoch 5/20\n",
      "64/64 [==============================] - 2s 24ms/step - loss: 0.9648 - accuracy: 0.5309 - val_loss: 0.9834 - val_accuracy: 0.5267\n",
      "Epoch 6/20\n",
      "64/64 [==============================] - 2s 25ms/step - loss: 0.9435 - accuracy: 0.5471 - val_loss: 0.9682 - val_accuracy: 0.5298\n",
      "Epoch 7/20\n",
      "64/64 [==============================] - 2s 24ms/step - loss: 0.9176 - accuracy: 0.5630 - val_loss: 0.9485 - val_accuracy: 0.5411\n",
      "Epoch 8/20\n",
      "64/64 [==============================] - 2s 24ms/step - loss: 0.9005 - accuracy: 0.5636 - val_loss: 0.9415 - val_accuracy: 0.5382\n",
      "Epoch 9/20\n",
      "64/64 [==============================] - 2s 25ms/step - loss: 0.8729 - accuracy: 0.5815 - val_loss: 0.9384 - val_accuracy: 0.5395\n",
      "Epoch 10/20\n",
      "64/64 [==============================] - 2s 24ms/step - loss: 0.8491 - accuracy: 0.5899 - val_loss: 0.9282 - val_accuracy: 0.5476\n",
      "Epoch 11/20\n",
      "64/64 [==============================] - 2s 25ms/step - loss: 0.8304 - accuracy: 0.6016 - val_loss: 0.9406 - val_accuracy: 0.5419\n",
      "Epoch 12/20\n",
      "64/64 [==============================] - 2s 24ms/step - loss: 0.8085 - accuracy: 0.6125 - val_loss: 0.9514 - val_accuracy: 0.5490\n",
      "Epoch 13/20\n",
      "64/64 [==============================] - 2s 24ms/step - loss: 0.7868 - accuracy: 0.6262 - val_loss: 0.9376 - val_accuracy: 0.5553\n",
      "Epoch 14/20\n",
      "64/64 [==============================] - 2s 25ms/step - loss: 0.7589 - accuracy: 0.6391 - val_loss: 0.9699 - val_accuracy: 0.5436\n",
      "Epoch 15/20\n",
      "64/64 [==============================] - 2s 25ms/step - loss: 0.7478 - accuracy: 0.6407 - val_loss: 0.9615 - val_accuracy: 0.5536\n",
      "Epoch 16/20\n",
      "64/64 [==============================] - 2s 25ms/step - loss: 0.7256 - accuracy: 0.6540 - val_loss: 0.9985 - val_accuracy: 0.5460\n",
      "Epoch 17/20\n",
      "64/64 [==============================] - 2s 24ms/step - loss: 0.7046 - accuracy: 0.6658 - val_loss: 0.9664 - val_accuracy: 0.5428\n",
      "Epoch 18/20\n",
      "64/64 [==============================] - 2s 24ms/step - loss: 0.6914 - accuracy: 0.6786 - val_loss: 0.9816 - val_accuracy: 0.5534\n",
      "Epoch 19/20\n",
      "64/64 [==============================] - 2s 25ms/step - loss: 0.6542 - accuracy: 0.6937 - val_loss: 0.9877 - val_accuracy: 0.5579\n",
      "Epoch 20/20\n",
      "64/64 [==============================] - 2s 24ms/step - loss: 0.6463 - accuracy: 0.7015 - val_loss: 1.0435 - val_accuracy: 0.5491\n"
     ]
    }
   ],
   "source": [
    "epochs = 20\n",
    "batch_size = 256\n",
    "\n",
    "history3 = model3.fit(train_rus, train_labels_rus_wide, batch_size=batch_size, epochs=epochs, validation_split=0.25, verbose=1, shuffle=True)"
   ]
  },
  {
   "cell_type": "code",
   "execution_count": 66,
   "metadata": {},
   "outputs": [
    {
     "data": {
      "image/png": "[encoded data removed]",
      "text/plain": [
       "<Figure size 640x480 with 1 Axes>"
      ]
     },
     "metadata": {},
     "output_type": "display_data"
    }
   ],
   "source": [
    "loss3 = history3.history['loss']\n",
    "val_loss3 = history3.history['val_loss']\n",
    "\n",
    "plt.xlabel('Epochs')\n",
    "plt.ylabel('Loss')\n",
    "plt.plot(loss3, 'blue', label='Training Loss')\n",
    "plt.plot(val_loss3, 'green', label='Validation Loss')\n",
    "plt.xticks(range(0,epochs)[0::2])\n",
    "plt.legend()\n",
    "plt.show()"
   ]
  },
  {
   "cell_type": "markdown",
   "metadata": {},
   "source": [
    "Fourth architecture\n"
   ]
  },
  {
   "cell_type": "code",
   "execution_count": 67,
   "metadata": {},
   "outputs": [
    {
     "name": "stdout",
     "output_type": "stream",
     "text": [
      "Model: \"sequential_14\"\n",
      "_________________________________________________________________\n",
      " Layer (type)                Output Shape              Param #   \n",
      "=================================================================\n",
      " conv2d_17 (Conv2D)          (None, 15, 15, 32)        2080      \n",
      "                                                                 \n",
      " dropout_6 (Dropout)         (None, 15, 15, 32)        0         \n",
      "                                                                 \n",
      " conv2d_18 (Conv2D)          (None, 6, 6, 64)          32832     \n",
      "                                                                 \n",
      " dropout_7 (Dropout)         (None, 6, 6, 64)          0         \n",
      "                                                                 \n",
      " conv2d_19 (Conv2D)          (None, 4, 4, 64)          36928     \n",
      "                                                                 \n",
      " flatten_9 (Flatten)         (None, 1024)              0         \n",
      "                                                                 \n",
      " dense_20 (Dense)            (None, 128)               131200    \n",
      "                                                                 \n",
      " dropout_8 (Dropout)         (None, 128)               0         \n",
      "                                                                 \n",
      " dense_21 (Dense)            (None, 128)               16512     \n",
      "                                                                 \n",
      " dropout_9 (Dropout)         (None, 128)               0         \n",
      "                                                                 \n",
      " dense_22 (Dense)            (None, 128)               16512     \n",
      "                                                                 \n",
      " dropout_10 (Dropout)        (None, 128)               0         \n",
      "                                                                 \n",
      " dense_23 (Dense)            (None, 128)               16512     \n",
      "                                                                 \n",
      " dropout_11 (Dropout)        (None, 128)               0         \n",
      "                                                                 \n",
      " dense_24 (Dense)            (None, 4)                 516       \n",
      "                                                                 \n",
      "=================================================================\n",
      "Total params: 253,092\n",
      "Trainable params: 253,092\n",
      "Non-trainable params: 0\n",
      "_________________________________________________________________\n"
     ]
    }
   ],
   "source": [
    "model4 = Sequential()\n",
    "\n",
    "model4.add(Conv2D(32, (8,8),strides = (4,4), activation='relu', input_shape=(ROWS, COLS, CHANNELS), data_format='channels_last'))\n",
    "model4.add(Dropout(0.5))\n",
    "model4.add(Conv2D(64, (4,4),strides = (2,2), activation='relu', data_format='channels_last'))\n",
    "model4.add(Dropout(0.5))\n",
    "model4.add(Conv2D(64, (3,3),strides = (1,1), activation='relu', data_format='channels_last'))\n",
    "model4.add(Flatten())\n",
    "model4.add(Dense(128, activation='relu'))\n",
    "model4.add(Dropout(0.5))\n",
    "model4.add(Dense(128, activation='relu'))\n",
    "model4.add(Dropout(0.5))\n",
    "model4.add(Dense(128, activation='relu'))\n",
    "model4.add(Dropout(0.5))\n",
    "model4.add(Dense(128, activation='relu'))\n",
    "model4.add(Dropout(0.5))\n",
    "model4.add(Dense(num_classes, activation='softmax'))\n",
    "\n",
    "model4.summary()"
   ]
  },
  {
   "cell_type": "code",
   "execution_count": 68,
   "metadata": {},
   "outputs": [],
   "source": [
    "model4.compile(loss='categorical_crossentropy', optimizer=adam(learning_rate=1e-3), metrics=['accuracy'])"
   ]
  },
  {
   "cell_type": "code",
   "execution_count": 69,
   "metadata": {},
   "outputs": [
    {
     "name": "stdout",
     "output_type": "stream",
     "text": [
      "Epoch 1/20\n",
      "64/64 [==============================] - 3s 32ms/step - loss: 1.3873 - accuracy: 0.2490 - val_loss: 1.3865 - val_accuracy: 0.2422\n",
      "Epoch 2/20\n",
      "64/64 [==============================] - 2s 30ms/step - loss: 1.3860 - accuracy: 0.2543 - val_loss: 1.3826 - val_accuracy: 0.3338\n",
      "Epoch 3/20\n",
      "64/64 [==============================] - 2s 31ms/step - loss: 1.3000 - accuracy: 0.3452 - val_loss: 1.1889 - val_accuracy: 0.4130\n",
      "Epoch 4/20\n",
      "64/64 [==============================] - 2s 29ms/step - loss: 1.2060 - accuracy: 0.4056 - val_loss: 1.1428 - val_accuracy: 0.4252\n",
      "Epoch 5/20\n",
      "64/64 [==============================] - 2s 30ms/step - loss: 1.1480 - accuracy: 0.4442 - val_loss: 1.0614 - val_accuracy: 0.4960\n",
      "Epoch 6/20\n",
      "64/64 [==============================] - 2s 29ms/step - loss: 1.1001 - accuracy: 0.4783 - val_loss: 1.0336 - val_accuracy: 0.4962\n",
      "Epoch 7/20\n",
      "64/64 [==============================] - 2s 30ms/step - loss: 1.0739 - accuracy: 0.4810 - val_loss: 1.0228 - val_accuracy: 0.4995\n",
      "Epoch 8/20\n",
      "64/64 [==============================] - 2s 30ms/step - loss: 1.0671 - accuracy: 0.4915 - val_loss: 1.0178 - val_accuracy: 0.5062\n",
      "Epoch 9/20\n",
      "64/64 [==============================] - 2s 29ms/step - loss: 1.0571 - accuracy: 0.4919 - val_loss: 1.0114 - val_accuracy: 0.5014\n",
      "Epoch 10/20\n",
      "64/64 [==============================] - 2s 29ms/step - loss: 1.0409 - accuracy: 0.4951 - val_loss: 1.0014 - val_accuracy: 0.5140\n",
      "Epoch 11/20\n",
      "64/64 [==============================] - 2s 30ms/step - loss: 1.0453 - accuracy: 0.4959 - val_loss: 0.9983 - val_accuracy: 0.5138\n",
      "Epoch 12/20\n",
      "64/64 [==============================] - 2s 29ms/step - loss: 1.0306 - accuracy: 0.5011 - val_loss: 0.9936 - val_accuracy: 0.5176\n",
      "Epoch 13/20\n",
      "64/64 [==============================] - 2s 29ms/step - loss: 1.0279 - accuracy: 0.5008 - val_loss: 0.9934 - val_accuracy: 0.5155\n",
      "Epoch 14/20\n",
      "64/64 [==============================] - 2s 30ms/step - loss: 1.0245 - accuracy: 0.5041 - val_loss: 0.9919 - val_accuracy: 0.5131\n",
      "Epoch 15/20\n",
      "64/64 [==============================] - 2s 30ms/step - loss: 1.0185 - accuracy: 0.5008 - val_loss: 0.9938 - val_accuracy: 0.5144\n",
      "Epoch 16/20\n",
      "64/64 [==============================] - 2s 29ms/step - loss: 1.0152 - accuracy: 0.5048 - val_loss: 0.9824 - val_accuracy: 0.5203\n",
      "Epoch 17/20\n",
      "64/64 [==============================] - 2s 30ms/step - loss: 1.0101 - accuracy: 0.5028 - val_loss: 0.9790 - val_accuracy: 0.5244\n",
      "Epoch 18/20\n",
      "64/64 [==============================] - 2s 29ms/step - loss: 1.0091 - accuracy: 0.5076 - val_loss: 0.9810 - val_accuracy: 0.5138\n",
      "Epoch 19/20\n",
      "64/64 [==============================] - 2s 30ms/step - loss: 1.0006 - accuracy: 0.5116 - val_loss: 0.9726 - val_accuracy: 0.5189\n",
      "Epoch 20/20\n",
      "64/64 [==============================] - 2s 30ms/step - loss: 1.0027 - accuracy: 0.5109 - val_loss: 0.9693 - val_accuracy: 0.5185\n"
     ]
    }
   ],
   "source": [
    "epochs = 20\n",
    "batch_size = 256\n",
    "\n",
    "history4 = model4.fit(train_rus, train_labels_rus_wide, batch_size=batch_size, epochs=epochs, validation_split=0.25, verbose=1, shuffle=True)"
   ]
  },
  {
   "cell_type": "code",
   "execution_count": 70,
   "metadata": {},
   "outputs": [
    {
     "data": {
      "image/png": "[encoded data removed]",
      "text/plain": [
       "<Figure size 640x480 with 1 Axes>"
      ]
     },
     "metadata": {},
     "output_type": "display_data"
    }
   ],
   "source": [
    "loss4 = history4.history['loss']\n",
    "val_loss4 = history4.history['val_loss']\n",
    "\n",
    "plt.xlabel('Epochs')\n",
    "plt.ylabel('Loss')\n",
    "plt.plot(loss3, 'blue', label='Training Loss')\n",
    "plt.plot(val_loss3, 'green', label='Validation Loss')\n",
    "plt.xticks(range(0,epochs)[0::2])\n",
    "plt.legend()\n",
    "plt.show()"
   ]
  },
  {
   "cell_type": "code",
   "execution_count": 71,
   "metadata": {},
   "outputs": [],
   "source": [
    "A = {\"Model 1\": model1, \" Model 2\": model2, \"Model 3\": model3, \"Model 4\": model4}"
   ]
  },
  {
   "cell_type": "code",
   "execution_count": 83,
   "metadata": {},
   "outputs": [
    {
     "name": "stdout",
     "output_type": "stream",
     "text": [
      "403/403 [==============================] - 2s 6ms/step\n",
      "Confusion Matrix for Model 1\n",
      "[[2777  541  974  472]\n",
      " [ 245  991  139   27]\n",
      " [2841  607 1309  592]\n",
      " [ 339   32  106  873]]\n",
      "Accuracy for Model 1\n",
      "0.4624951418577536 \n",
      "\n",
      "403/403 [==============================] - 0s 556us/step\n",
      "Confusion Matrix for  Model 2\n",
      "[[2030  632 1878  224]\n",
      " [ 230  995  152   25]\n",
      " [2088  719 2239  303]\n",
      " [ 341   88  217  704]]\n",
      "Accuracy for  Model 2\n",
      "0.4638942868247182 \n",
      "\n",
      "403/403 [==============================] - 0s 1ms/step\n",
      "Confusion Matrix for Model 3\n",
      "[[1733 1099 1479  453]\n",
      " [ 105 1176  112    9]\n",
      " [1856 1249 1689  555]\n",
      " [ 215   42  177  916]]\n",
      "Accuracy for Model 3\n",
      "0.4286047415468325 \n",
      "\n",
      "403/403 [==============================] - 0s 1ms/step\n",
      "Confusion Matrix for Model 4\n",
      "[[3022  494  833  415]\n",
      " [ 340  970   66   26]\n",
      " [3236  643  891  579]\n",
      " [ 298   45  179  828]]\n",
      "Accuracy for Model 4\n",
      "0.44391760590750096 \n",
      "\n"
     ]
    }
   ],
   "source": [
    "# Evaluating the performance of all of the classifiers \n",
    "accuracy_table = pd.DataFrame(index = [\"Accuracy\"], columns=A.keys())\n",
    "maximum = 0\n",
    "for keys, items in A.items():\n",
    "    # pred = items.predict_classes(test)\n",
    "    pred = np.argmax(items.predict(test), axis=1)\n",
    "    print(\"Confusion Matrix for\", keys)\n",
    "    print(metrics.confusion_matrix(test_labels, pred))\n",
    "    print(\"Accuracy for\", keys)\n",
    "    X = metrics.accuracy_score(pred, test_labels)\n",
    "    print(X, \"\\n\")\n",
    "    if X>maximum:\n",
    "        maximum = X\n",
    "        classifier = items\n",
    "        name = keys\n",
    "    accuracy_table.loc[\"Accuracy\",keys] = X"
   ]
  },
  {
   "cell_type": "code",
   "execution_count": 84,
   "metadata": {},
   "outputs": [
    {
     "data": {
      "text/html": [
       "<div>\n",
       "<style scoped>\n",
       "    .dataframe tbody tr th:only-of-type {\n",
       "        vertical-align: middle;\n",
       "    }\n",
       "\n",
       "    .dataframe tbody tr th {\n",
       "        vertical-align: top;\n",
       "    }\n",
       "\n",
       "    .dataframe thead th {\n",
       "        text-align: right;\n",
       "    }\n",
       "</style>\n",
       "<table border=\"1\" class=\"dataframe\">\n",
       "  <thead>\n",
       "    <tr style=\"text-align: right;\">\n",
       "      <th></th>\n",
       "      <th>Model 1</th>\n",
       "      <th>Model 2</th>\n",
       "      <th>Model 3</th>\n",
       "      <th>Model 4</th>\n",
       "    </tr>\n",
       "  </thead>\n",
       "  <tbody>\n",
       "    <tr>\n",
       "      <th>Accuracy</th>\n",
       "      <td>0.462495</td>\n",
       "      <td>0.463894</td>\n",
       "      <td>0.428605</td>\n",
       "      <td>0.443918</td>\n",
       "    </tr>\n",
       "  </tbody>\n",
       "</table>\n",
       "</div>"
      ],
      "text/plain": [
       "           Model 1   Model 2   Model 3   Model 4\n",
       "Accuracy  0.462495  0.463894  0.428605  0.443918"
      ]
     },
     "execution_count": 84,
     "metadata": {},
     "output_type": "execute_result"
    }
   ],
   "source": [
    "accuracy_table"
   ]
  },
  {
   "cell_type": "code",
   "execution_count": 85,
   "metadata": {},
   "outputs": [
    {
     "name": "stdout",
     "output_type": "stream",
     "text": [
      "Best classifier is:  Model 2 with accuracy of: 0.4638942868247182\n"
     ]
    },
    {
     "name": "stderr",
     "output_type": "stream",
     "text": [
      "WARNING:absl:Found untraced functions such as _update_step_xla while saving (showing 1 of 1). These functions will not be directly callable after loading.\n"
     ]
    },
    {
     "ename": "FailedPreconditionError",
     "evalue": "task2.mod is not a directory",
     "output_type": "error",
     "traceback": [
      "\u001b[0;31m---------------------------------------------------------------------------\u001b[0m",
      "\u001b[0;31mFailedPreconditionError\u001b[0m                   Traceback (most recent call last)",
      "Cell \u001b[0;32mIn[85], line 3\u001b[0m\n\u001b[1;32m      1\u001b[0m \u001b[39mprint\u001b[39m(\u001b[39m\"\u001b[39m\u001b[39mBest classifier is:\u001b[39m\u001b[39m\"\u001b[39m, name, \u001b[39m\"\u001b[39m\u001b[39mwith accuracy of:\u001b[39m\u001b[39m\"\u001b[39m, maximum)\n\u001b[1;32m      2\u001b[0m filepath \u001b[39m=\u001b[39m \u001b[39m\"\u001b[39m\u001b[39mtask2.mod\u001b[39m\u001b[39m\"\u001b[39m\n\u001b[0;32m----> 3\u001b[0m classifier\u001b[39m.\u001b[39;49msave(filepath)\n",
      "File \u001b[0;32m~/miniconda3/envs/rl/lib/python3.10/site-packages/keras/utils/traceback_utils.py:70\u001b[0m, in \u001b[0;36mfilter_traceback.<locals>.error_handler\u001b[0;34m(*args, **kwargs)\u001b[0m\n\u001b[1;32m     67\u001b[0m     filtered_tb \u001b[39m=\u001b[39m _process_traceback_frames(e\u001b[39m.\u001b[39m__traceback__)\n\u001b[1;32m     68\u001b[0m     \u001b[39m# To get the full stack trace, call:\u001b[39;00m\n\u001b[1;32m     69\u001b[0m     \u001b[39m# `tf.debugging.disable_traceback_filtering()`\u001b[39;00m\n\u001b[0;32m---> 70\u001b[0m     \u001b[39mraise\u001b[39;00m e\u001b[39m.\u001b[39mwith_traceback(filtered_tb) \u001b[39mfrom\u001b[39;00m \u001b[39mNone\u001b[39;00m\n\u001b[1;32m     71\u001b[0m \u001b[39mfinally\u001b[39;00m:\n\u001b[1;32m     72\u001b[0m     \u001b[39mdel\u001b[39;00m filtered_tb\n",
      "File \u001b[0;32m~/miniconda3/envs/rl/lib/python3.10/site-packages/tensorflow/python/lib/io/file_io.py:513\u001b[0m, in \u001b[0;36mrecursive_create_dir_v2\u001b[0;34m(path)\u001b[0m\n\u001b[1;32m    501\u001b[0m \u001b[39m@tf_export\u001b[39m(\u001b[39m\"\u001b[39m\u001b[39mio.gfile.makedirs\u001b[39m\u001b[39m\"\u001b[39m)\n\u001b[1;32m    502\u001b[0m \u001b[39mdef\u001b[39;00m \u001b[39mrecursive_create_dir_v2\u001b[39m(path):\n\u001b[1;32m    503\u001b[0m \u001b[39m  \u001b[39m\u001b[39m\"\"\"Creates a directory and all parent/intermediate directories.\u001b[39;00m\n\u001b[1;32m    504\u001b[0m \n\u001b[1;32m    505\u001b[0m \u001b[39m  It succeeds if path already exists and is writable.\u001b[39;00m\n\u001b[0;32m   (...)\u001b[0m\n\u001b[1;32m    511\u001b[0m \u001b[39m    errors.OpError: If the operation fails.\u001b[39;00m\n\u001b[1;32m    512\u001b[0m \u001b[39m  \"\"\"\u001b[39;00m\n\u001b[0;32m--> 513\u001b[0m   _pywrap_file_io\u001b[39m.\u001b[39;49mRecursivelyCreateDir(compat\u001b[39m.\u001b[39;49mpath_to_bytes(path))\n",
      "\u001b[0;31mFailedPreconditionError\u001b[0m: task2.mod is not a directory"
     ]
    }
   ],
   "source": [
    "print(\"Best classifier is:\", name, \"with accuracy of:\", maximum)\n",
    "filepath = \"task2.mod\"\n",
    "classifier.save(filepath)"
   ]
  }
 ],
 "metadata": {
  "kernelspec": {
   "display_name": "rl",
   "language": "python",
   "name": "python3"
  },
  "language_info": {
   "codemirror_mode": {
    "name": "ipython",
    "version": 3
   },
   "file_extension": ".py",
   "mimetype": "text/x-python",
   "name": "python",
   "nbconvert_exporter": "python",
   "pygments_lexer": "ipython3",
   "version": "3.10.8"
  },
  "vscode": {
   "interpreter": {
    "hash": "c829ac570c3f4c81ff757025aa4b0d29606d66e2eb4d39dc7ef8cd75ea9f9574"
   }
  }
 },
 "nbformat": 4,
 "nbformat_minor": 2
}
