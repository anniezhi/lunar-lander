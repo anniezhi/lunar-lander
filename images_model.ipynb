{
 "cells": [
  {
   "cell_type": "markdown",
   "metadata": {},
   "source": [
    "In this notebook I will consider a number of CNN architectures to predict actions based on images. Initially I will test their accuracy on the training data but later in the notebook I make my final evaluation on their performance on the unseen test data. The best performing model will be saved as task2.mod."
   ]
  },
  {
   "cell_type": "code",
   "execution_count": 2,
   "metadata": {},
   "outputs": [
    {
     "name": "stderr",
     "output_type": "stream",
     "text": [
      "2023-05-01 16:49:13.031889: I tensorflow/core/platform/cpu_feature_guard.cc:193] This TensorFlow binary is optimized with oneAPI Deep Neural Network Library (oneDNN) to use the following CPU instructions in performance-critical operations:  AVX2 FMA\n",
      "To enable them in other operations, rebuild TensorFlow with the appropriate compiler flags.\n",
      "2023-05-01 16:49:13.620523: W tensorflow/compiler/xla/stream_executor/platform/default/dso_loader.cc:64] Could not load dynamic library 'libnvinfer.so.7'; dlerror: libnvinfer.so.7: cannot open shared object file: No such file or directory; LD_LIBRARY_PATH: /local/home/xiazhi/miniconda3/envs/rl/lib/python3.10/site-packages/cv2/../../lib64:\n",
      "2023-05-01 16:49:13.620572: W tensorflow/compiler/xla/stream_executor/platform/default/dso_loader.cc:64] Could not load dynamic library 'libnvinfer_plugin.so.7'; dlerror: libnvinfer_plugin.so.7: cannot open shared object file: No such file or directory; LD_LIBRARY_PATH: /local/home/xiazhi/miniconda3/envs/rl/lib/python3.10/site-packages/cv2/../../lib64:\n",
      "2023-05-01 16:49:13.620577: W tensorflow/compiler/tf2tensorrt/utils/py_utils.cc:38] TF-TRT Warning: Cannot dlopen some TensorRT libraries. If you would like to use Nvidia GPU with TensorRT, please make sure the missing libraries mentioned above are installed properly.\n"
     ]
    }
   ],
   "source": [
    "import os \n",
    "import random\n",
    "import numpy as np\n",
    "import cv2\n",
    "import pandas as pd\n",
    "\n",
    "\n",
    "import matplotlib.pyplot as plt\n",
    "%matplotlib inline \n",
    "from matplotlib import ticker\n",
    "import seaborn as sns\n",
    "\n",
    "from sklearn.model_selection import train_test_split\n",
    "from sklearn import metrics\n",
    "from imblearn.under_sampling import RandomUnderSampler\n",
    "from sklearn.utils import shuffle\n",
    "\n",
    "import keras\n",
    "from keras.models import Sequential\n",
    "from keras.layers import Input, Dropout, Flatten, Conv2D, MaxPooling2D, Dense, Activation, Convolution2D\n",
    "from keras.optimizers import RMSprop\n",
    "from tensorflow.keras.optimizers import Adam as adam\n",
    "from keras.utils import np_utils\n",
    "\n",
    "from keras import backend as K\n",
    "\n",
    "K.set_image_data_format('channels_first')"
   ]
  },
  {
   "cell_type": "code",
   "execution_count": 3,
   "metadata": {},
   "outputs": [
    {
     "name": "stderr",
     "output_type": "stream",
     "text": [
      "/tmp/ipykernel_1995889/110634190.py:14: DeprecationWarning: `np.float` is a deprecated alias for the builtin `float`. To silence this warning, use `float` by itself. Doing this will not modify any behavior and is safe. If you specifically wanted the numpy scalar type, use `np.float64` here.\n",
      "Deprecated in NumPy 1.20; for more details and guidance: https://numpy.org/devdocs/release/1.20.0-notes.html#deprecations\n",
      "  data = np.ndarray((count, CHANNELS, ROWS, COLS), dtype=np.float)\n"
     ]
    },
    {
     "name": "stdout",
     "output_type": "stream",
     "text": [
      "Processed 0 of 64323\n",
      "Processed 1000 of 64323\n",
      "Processed 2000 of 64323\n",
      "Processed 3000 of 64323\n",
      "Processed 4000 of 64323\n",
      "Processed 5000 of 64323\n",
      "Processed 6000 of 64323\n",
      "Processed 7000 of 64323\n",
      "Processed 8000 of 64323\n",
      "Processed 9000 of 64323\n",
      "Processed 10000 of 64323\n",
      "Processed 11000 of 64323\n",
      "Processed 12000 of 64323\n",
      "Processed 13000 of 64323\n",
      "Processed 14000 of 64323\n",
      "Processed 15000 of 64323\n",
      "Processed 16000 of 64323\n",
      "Processed 17000 of 64323\n",
      "Processed 18000 of 64323\n",
      "Processed 19000 of 64323\n",
      "Processed 20000 of 64323\n",
      "Processed 21000 of 64323\n",
      "Processed 22000 of 64323\n",
      "Processed 23000 of 64323\n",
      "Processed 24000 of 64323\n",
      "Processed 25000 of 64323\n",
      "Processed 26000 of 64323\n",
      "Processed 27000 of 64323\n",
      "Processed 28000 of 64323\n",
      "Processed 29000 of 64323\n",
      "Processed 30000 of 64323\n",
      "Processed 31000 of 64323\n",
      "Processed 32000 of 64323\n",
      "Processed 33000 of 64323\n",
      "Processed 34000 of 64323\n",
      "Processed 35000 of 64323\n",
      "Processed 36000 of 64323\n",
      "Processed 37000 of 64323\n",
      "Processed 38000 of 64323\n",
      "Processed 39000 of 64323\n",
      "Processed 40000 of 64323\n",
      "Processed 41000 of 64323\n",
      "Processed 42000 of 64323\n",
      "Processed 43000 of 64323\n",
      "Processed 44000 of 64323\n",
      "Processed 45000 of 64323\n",
      "Processed 46000 of 64323\n",
      "Processed 47000 of 64323\n",
      "Processed 48000 of 64323\n",
      "Processed 49000 of 64323\n",
      "Processed 50000 of 64323\n",
      "Processed 51000 of 64323\n",
      "Processed 52000 of 64323\n",
      "Processed 53000 of 64323\n",
      "Processed 54000 of 64323\n",
      "Processed 55000 of 64323\n",
      "Processed 56000 of 64323\n",
      "Processed 57000 of 64323\n",
      "Processed 58000 of 64323\n",
      "Processed 59000 of 64323\n",
      "Processed 60000 of 64323\n",
      "Processed 61000 of 64323\n",
      "Processed 62000 of 64323\n",
      "Processed 63000 of 64323\n",
      "Processed 64000 of 64323\n",
      "Train shape: (64323, 1, 64, 64)\n"
     ]
    }
   ],
   "source": [
    "# Set up some parmaeters for data loading\n",
    "TRAIN_DIR = './data/'\n",
    "sample_rate = 1\n",
    "ROWS = 64\n",
    "COLS = 64\n",
    "CHANNELS = 1\n",
    "\n",
    "# generate filenames from the data folder and do sampling\n",
    "image_filenames = [TRAIN_DIR+i for i in os.listdir(TRAIN_DIR) if not i.startswith('.')] # use this for full dataset\n",
    "image_filenames = random.sample(image_filenames, int(len(image_filenames)*sample_rate))\n",
    "\n",
    "# Create a data array for image data\n",
    "count = len(image_filenames)\n",
    "data = np.ndarray((count, CHANNELS, ROWS, COLS), dtype=np.float)\n",
    "\n",
    "# Iterate throuigh the filenames and for each one load the image, resize and normalise\n",
    "for i, image_file in enumerate(image_filenames):\n",
    "    image = cv2.imread(image_file, cv2.IMREAD_GRAYSCALE)\n",
    "    image = cv2.resize(image, (ROWS, COLS), interpolation=cv2.INTER_CUBIC)        \n",
    "    data[i] = image\n",
    "    data[i] = data[i]/255\n",
    "    if i%1000 == 0: print('Processed {} of {}'.format(i, count))\n",
    "\n",
    "print(\"Train shape: {}\".format(data.shape))"
   ]
  },
  {
   "cell_type": "code",
   "execution_count": 4,
   "metadata": {},
   "outputs": [
    {
     "data": {
      "text/plain": [
       "<matplotlib.image.AxesImage at 0x7ff2144c3970>"
      ]
     },
     "execution_count": 4,
     "metadata": {},
     "output_type": "execute_result"
    },
    {
     "data": {
      "image/png": "[encoded data removed]",
      "text/plain": [
       "<Figure size 640x480 with 1 Axes>"
      ]
     },
     "metadata": {},
     "output_type": "display_data"
    }
   ],
   "source": [
    "plt.imshow(np.squeeze(data[6]))"
   ]
  },
  {
   "cell_type": "code",
   "execution_count": 5,
   "metadata": {},
   "outputs": [
    {
     "data": {
      "text/plain": [
       "<AxesSubplot: xlabel='label', ylabel='count'>"
      ]
     },
     "execution_count": 5,
     "metadata": {},
     "output_type": "execute_result"
    },
    {
     "data": {
      "image/png": "[encoded data removed]",
      "text/plain": [
       "<Figure size 640x480 with 1 Axes>"
      ]
     },
     "metadata": {},
     "output_type": "display_data"
    }
   ],
   "source": [
    "# Extract the lables from the last characters in the filename\n",
    "labels = []\n",
    "for i in image_filenames:\n",
    "    l = i[-6:-5]\n",
    "    labels.append(int(l))\n",
    "        \n",
    "# Count the number of clases\n",
    "num_classes = len(set(labels))\n",
    "\n",
    "# convert to binary encoded labels\n",
    "labels_wide = keras.utils.to_categorical(labels, num_classes)\n",
    "\n",
    "# Plot a bar plot of the \n",
    "df = pd.DataFrame(labels, columns = ['label'])\n",
    "sns.countplot(x=df[\"label\"])"
   ]
  },
  {
   "cell_type": "code",
   "execution_count": 6,
   "metadata": {},
   "outputs": [],
   "source": [
    "train, test, train_labels, test_labels = train_test_split(data, labels, random_state=0, test_size = 0.2, train_size = 0.8)\n",
    "train_labels_wide = keras.utils.to_categorical(train_labels, num_classes)\n",
    "test_labels_wide = keras.utils.to_categorical(test_labels, num_classes)"
   ]
  },
  {
   "cell_type": "code",
   "execution_count": 7,
   "metadata": {},
   "outputs": [
    {
     "data": {
      "image/png": "[encoded data removed]",
      "text/plain": [
       "<Figure size 640x480 with 1 Axes>"
      ]
     },
     "metadata": {},
     "output_type": "display_data"
    }
   ],
   "source": [
    "# Apply the random under-sampling\n",
    "rus = RandomUnderSampler()\n",
    "train_rus, train_labels_rus = rus.fit_resample(train.reshape(len(train), ROWS*COLS*CHANNELS), train_labels)\n",
    "train_rus, train_labels_rus = shuffle(train_rus, train_labels_rus)\n",
    "train_rus = train_rus.reshape(len(train_rus), CHANNELS,ROWS, COLS)\n",
    "df2 = pd.DataFrame(train_labels_rus, columns=[\"labels\"])\n",
    "sns.countplot(x=df2['labels'])\n",
    "train_labels_rus_wide = keras.utils.to_categorical(train_labels_rus, num_classes)"
   ]
  },
  {
   "cell_type": "markdown",
   "metadata": {},
   "source": [
    "Trying out a couple of model architectures\n",
    "\n",
    "First architecture:"
   ]
  },
  {
   "cell_type": "code",
   "execution_count": 21,
   "metadata": {},
   "outputs": [
    {
     "name": "stdout",
     "output_type": "stream",
     "text": [
      "Model: \"sequential_7\"\n",
      "_________________________________________________________________\n",
      " Layer (type)                Output Shape              Param #   \n",
      "=================================================================\n",
      " conv2d_7 (Conv2D)           (None, 64, 64, 32)        320       \n",
      "                                                                 \n",
      " max_pooling2d_6 (MaxPooling  (None, 32, 32, 32)       0         \n",
      " 2D)                                                             \n",
      "                                                                 \n",
      " flatten_2 (Flatten)         (None, 32768)             0         \n",
      "                                                                 \n",
      " dense_4 (Dense)             (None, 128)               4194432   \n",
      "                                                                 \n",
      " dropout_2 (Dropout)         (None, 128)               0         \n",
      "                                                                 \n",
      " dense_5 (Dense)             (None, 4)                 516       \n",
      "                                                                 \n",
      "=================================================================\n",
      "Total params: 4,195,268\n",
      "Trainable params: 4,195,268\n",
      "Non-trainable params: 0\n",
      "_________________________________________________________________\n"
     ]
    }
   ],
   "source": [
    "#first model:\n",
    "\n",
    "model1 = Sequential()\n",
    "\n",
    "# model1.add(Conv2D(32, (3, 3), padding='same', input_shape=(CHANNELS, ROWS, COLS), activation='relu'))\n",
    "model1.add(Conv2D(32, (3, 3), padding='same', input_shape=(ROWS, COLS, CHANNELS), activation='relu', data_format='channels_last'))\n",
    "model1.add(MaxPooling2D(pool_size=(2, 2), data_format='channels_last'))\n",
    "\n",
    "model1.add(Flatten())\n",
    "\n",
    "model1.add(Dense(128, activation='relu'))\n",
    "model1.add(Dropout(0.5))\n",
    "\n",
    "model1.add(Dense(num_classes, activation = 'softmax'))\n",
    "\n",
    "model1.summary()"
   ]
  },
  {
   "cell_type": "code",
   "execution_count": 10,
   "metadata": {},
   "outputs": [],
   "source": [
    "model1.compile(loss='categorical_crossentropy', optimizer=adam(learning_rate=1e-3), metrics=['accuracy'])"
   ]
  },
  {
   "cell_type": "code",
   "execution_count": 11,
   "metadata": {},
   "outputs": [
    {
     "name": "stdout",
     "output_type": "stream",
     "text": [
      "Epoch 1/20\n"
     ]
    },
    {
     "ename": "InvalidArgumentError",
     "evalue": "Graph execution error:\n\nDetected at node 'sequential/max_pooling2d/MaxPool' defined at (most recent call last):\n    File \"/local/home/xiazhi/miniconda3/envs/rl/lib/python3.10/runpy.py\", line 196, in _run_module_as_main\n      return _run_code(code, main_globals, None,\n    File \"/local/home/xiazhi/miniconda3/envs/rl/lib/python3.10/runpy.py\", line 86, in _run_code\n      exec(code, run_globals)\n    File \"/local/home/xiazhi/miniconda3/envs/rl/lib/python3.10/site-packages/ipykernel_launcher.py\", line 17, in <module>\n      app.launch_new_instance()\n    File \"/local/home/xiazhi/miniconda3/envs/rl/lib/python3.10/site-packages/traitlets/config/application.py\", line 1043, in launch_instance\n      app.start()\n    File \"/local/home/xiazhi/miniconda3/envs/rl/lib/python3.10/site-packages/ipykernel/kernelapp.py\", line 725, in start\n      self.io_loop.start()\n    File \"/local/home/xiazhi/miniconda3/envs/rl/lib/python3.10/site-packages/tornado/platform/asyncio.py\", line 195, in start\n      self.asyncio_loop.run_forever()\n    File \"/local/home/xiazhi/miniconda3/envs/rl/lib/python3.10/asyncio/base_events.py\", line 603, in run_forever\n      self._run_once()\n    File \"/local/home/xiazhi/miniconda3/envs/rl/lib/python3.10/asyncio/base_events.py\", line 1899, in _run_once\n      handle._run()\n    File \"/local/home/xiazhi/miniconda3/envs/rl/lib/python3.10/asyncio/events.py\", line 80, in _run\n      self._context.run(self._callback, *self._args)\n    File \"/local/home/xiazhi/miniconda3/envs/rl/lib/python3.10/site-packages/ipykernel/kernelbase.py\", line 513, in dispatch_queue\n      await self.process_one()\n    File \"/local/home/xiazhi/miniconda3/envs/rl/lib/python3.10/site-packages/ipykernel/kernelbase.py\", line 502, in process_one\n      await dispatch(*args)\n    File \"/local/home/xiazhi/miniconda3/envs/rl/lib/python3.10/site-packages/ipykernel/kernelbase.py\", line 409, in dispatch_shell\n      await result\n    File \"/local/home/xiazhi/miniconda3/envs/rl/lib/python3.10/site-packages/ipykernel/kernelbase.py\", line 729, in execute_request\n      reply_content = await reply_content\n    File \"/local/home/xiazhi/miniconda3/envs/rl/lib/python3.10/site-packages/ipykernel/ipkernel.py\", line 422, in do_execute\n      res = shell.run_cell(\n    File \"/local/home/xiazhi/miniconda3/envs/rl/lib/python3.10/site-packages/ipykernel/zmqshell.py\", line 540, in run_cell\n      return super().run_cell(*args, **kwargs)\n    File \"/local/home/xiazhi/miniconda3/envs/rl/lib/python3.10/site-packages/IPython/core/interactiveshell.py\", line 3006, in run_cell\n      result = self._run_cell(\n    File \"/local/home/xiazhi/miniconda3/envs/rl/lib/python3.10/site-packages/IPython/core/interactiveshell.py\", line 3061, in _run_cell\n      result = runner(coro)\n    File \"/local/home/xiazhi/miniconda3/envs/rl/lib/python3.10/site-packages/IPython/core/async_helpers.py\", line 129, in _pseudo_sync_runner\n      coro.send(None)\n    File \"/local/home/xiazhi/miniconda3/envs/rl/lib/python3.10/site-packages/IPython/core/interactiveshell.py\", line 3266, in run_cell_async\n      has_raised = await self.run_ast_nodes(code_ast.body, cell_name,\n    File \"/local/home/xiazhi/miniconda3/envs/rl/lib/python3.10/site-packages/IPython/core/interactiveshell.py\", line 3445, in run_ast_nodes\n      if await self.run_code(code, result, async_=asy):\n    File \"/local/home/xiazhi/miniconda3/envs/rl/lib/python3.10/site-packages/IPython/core/interactiveshell.py\", line 3505, in run_code\n      exec(code_obj, self.user_global_ns, self.user_ns)\n    File \"/tmp/ipykernel_1995889/3404860462.py\", line 4, in <module>\n      history1 = model1.fit(train_rus, train_labels_rus_wide, batch_size=batch_size, epochs=epochs, validation_split=0.25, verbose=1, shuffle=True)\n    File \"/local/home/xiazhi/miniconda3/envs/rl/lib/python3.10/site-packages/keras/utils/traceback_utils.py\", line 65, in error_handler\n      return fn(*args, **kwargs)\n    File \"/local/home/xiazhi/miniconda3/envs/rl/lib/python3.10/site-packages/keras/engine/training.py\", line 1650, in fit\n      tmp_logs = self.train_function(iterator)\n    File \"/local/home/xiazhi/miniconda3/envs/rl/lib/python3.10/site-packages/keras/engine/training.py\", line 1249, in train_function\n      return step_function(self, iterator)\n    File \"/local/home/xiazhi/miniconda3/envs/rl/lib/python3.10/site-packages/keras/engine/training.py\", line 1233, in step_function\n      outputs = model.distribute_strategy.run(run_step, args=(data,))\n    File \"/local/home/xiazhi/miniconda3/envs/rl/lib/python3.10/site-packages/keras/engine/training.py\", line 1222, in run_step\n      outputs = model.train_step(data)\n    File \"/local/home/xiazhi/miniconda3/envs/rl/lib/python3.10/site-packages/keras/engine/training.py\", line 1023, in train_step\n      y_pred = self(x, training=True)\n    File \"/local/home/xiazhi/miniconda3/envs/rl/lib/python3.10/site-packages/keras/utils/traceback_utils.py\", line 65, in error_handler\n      return fn(*args, **kwargs)\n    File \"/local/home/xiazhi/miniconda3/envs/rl/lib/python3.10/site-packages/keras/engine/training.py\", line 561, in __call__\n      return super().__call__(*args, **kwargs)\n    File \"/local/home/xiazhi/miniconda3/envs/rl/lib/python3.10/site-packages/keras/utils/traceback_utils.py\", line 65, in error_handler\n      return fn(*args, **kwargs)\n    File \"/local/home/xiazhi/miniconda3/envs/rl/lib/python3.10/site-packages/keras/engine/base_layer.py\", line 1132, in __call__\n      outputs = call_fn(inputs, *args, **kwargs)\n    File \"/local/home/xiazhi/miniconda3/envs/rl/lib/python3.10/site-packages/keras/utils/traceback_utils.py\", line 96, in error_handler\n      return fn(*args, **kwargs)\n    File \"/local/home/xiazhi/miniconda3/envs/rl/lib/python3.10/site-packages/keras/engine/sequential.py\", line 413, in call\n      return super().call(inputs, training=training, mask=mask)\n    File \"/local/home/xiazhi/miniconda3/envs/rl/lib/python3.10/site-packages/keras/engine/functional.py\", line 511, in call\n      return self._run_internal_graph(inputs, training=training, mask=mask)\n    File \"/local/home/xiazhi/miniconda3/envs/rl/lib/python3.10/site-packages/keras/engine/functional.py\", line 668, in _run_internal_graph\n      outputs = node.layer(*args, **kwargs)\n    File \"/local/home/xiazhi/miniconda3/envs/rl/lib/python3.10/site-packages/keras/utils/traceback_utils.py\", line 65, in error_handler\n      return fn(*args, **kwargs)\n    File \"/local/home/xiazhi/miniconda3/envs/rl/lib/python3.10/site-packages/keras/engine/base_layer.py\", line 1132, in __call__\n      outputs = call_fn(inputs, *args, **kwargs)\n    File \"/local/home/xiazhi/miniconda3/envs/rl/lib/python3.10/site-packages/keras/utils/traceback_utils.py\", line 96, in error_handler\n      return fn(*args, **kwargs)\n    File \"/local/home/xiazhi/miniconda3/envs/rl/lib/python3.10/site-packages/keras/layers/pooling/base_pooling2d.py\", line 84, in call\n      outputs = self.pool_function(\nNode: 'sequential/max_pooling2d/MaxPool'\nDefault MaxPoolingOp only supports NHWC on device type CPU\n\t [[{{node sequential/max_pooling2d/MaxPool}}]] [Op:__inference_train_function_1127]",
     "output_type": "error",
     "traceback": [
      "\u001b[0;31m---------------------------------------------------------------------------\u001b[0m",
      "\u001b[0;31mInvalidArgumentError\u001b[0m                      Traceback (most recent call last)",
      "Cell \u001b[0;32mIn[11], line 4\u001b[0m\n\u001b[1;32m      1\u001b[0m epochs \u001b[39m=\u001b[39m \u001b[39m20\u001b[39m\n\u001b[1;32m      2\u001b[0m batch_size \u001b[39m=\u001b[39m \u001b[39m256\u001b[39m\n\u001b[0;32m----> 4\u001b[0m history1 \u001b[39m=\u001b[39m model1\u001b[39m.\u001b[39;49mfit(train_rus, train_labels_rus_wide, batch_size\u001b[39m=\u001b[39;49mbatch_size, epochs\u001b[39m=\u001b[39;49mepochs, validation_split\u001b[39m=\u001b[39;49m\u001b[39m0.25\u001b[39;49m, verbose\u001b[39m=\u001b[39;49m\u001b[39m1\u001b[39;49m, shuffle\u001b[39m=\u001b[39;49m\u001b[39mTrue\u001b[39;49;00m)\n",
      "File \u001b[0;32m~/miniconda3/envs/rl/lib/python3.10/site-packages/keras/utils/traceback_utils.py:70\u001b[0m, in \u001b[0;36mfilter_traceback.<locals>.error_handler\u001b[0;34m(*args, **kwargs)\u001b[0m\n\u001b[1;32m     67\u001b[0m     filtered_tb \u001b[39m=\u001b[39m _process_traceback_frames(e\u001b[39m.\u001b[39m__traceback__)\n\u001b[1;32m     68\u001b[0m     \u001b[39m# To get the full stack trace, call:\u001b[39;00m\n\u001b[1;32m     69\u001b[0m     \u001b[39m# `tf.debugging.disable_traceback_filtering()`\u001b[39;00m\n\u001b[0;32m---> 70\u001b[0m     \u001b[39mraise\u001b[39;00m e\u001b[39m.\u001b[39mwith_traceback(filtered_tb) \u001b[39mfrom\u001b[39;00m \u001b[39mNone\u001b[39;00m\n\u001b[1;32m     71\u001b[0m \u001b[39mfinally\u001b[39;00m:\n\u001b[1;32m     72\u001b[0m     \u001b[39mdel\u001b[39;00m filtered_tb\n",
      "File \u001b[0;32m~/miniconda3/envs/rl/lib/python3.10/site-packages/tensorflow/python/eager/execute.py:52\u001b[0m, in \u001b[0;36mquick_execute\u001b[0;34m(op_name, num_outputs, inputs, attrs, ctx, name)\u001b[0m\n\u001b[1;32m     50\u001b[0m \u001b[39mtry\u001b[39;00m:\n\u001b[1;32m     51\u001b[0m   ctx\u001b[39m.\u001b[39mensure_initialized()\n\u001b[0;32m---> 52\u001b[0m   tensors \u001b[39m=\u001b[39m pywrap_tfe\u001b[39m.\u001b[39mTFE_Py_Execute(ctx\u001b[39m.\u001b[39m_handle, device_name, op_name,\n\u001b[1;32m     53\u001b[0m                                       inputs, attrs, num_outputs)\n\u001b[1;32m     54\u001b[0m \u001b[39mexcept\u001b[39;00m core\u001b[39m.\u001b[39m_NotOkStatusException \u001b[39mas\u001b[39;00m e:\n\u001b[1;32m     55\u001b[0m   \u001b[39mif\u001b[39;00m name \u001b[39mis\u001b[39;00m \u001b[39mnot\u001b[39;00m \u001b[39mNone\u001b[39;00m:\n",
      "\u001b[0;31mInvalidArgumentError\u001b[0m: Graph execution error:\n\nDetected at node 'sequential/max_pooling2d/MaxPool' defined at (most recent call last):\n    File \"/local/home/xiazhi/miniconda3/envs/rl/lib/python3.10/runpy.py\", line 196, in _run_module_as_main\n      return _run_code(code, main_globals, None,\n    File \"/local/home/xiazhi/miniconda3/envs/rl/lib/python3.10/runpy.py\", line 86, in _run_code\n      exec(code, run_globals)\n    File \"/local/home/xiazhi/miniconda3/envs/rl/lib/python3.10/site-packages/ipykernel_launcher.py\", line 17, in <module>\n      app.launch_new_instance()\n    File \"/local/home/xiazhi/miniconda3/envs/rl/lib/python3.10/site-packages/traitlets/config/application.py\", line 1043, in launch_instance\n      app.start()\n    File \"/local/home/xiazhi/miniconda3/envs/rl/lib/python3.10/site-packages/ipykernel/kernelapp.py\", line 725, in start\n      self.io_loop.start()\n    File \"/local/home/xiazhi/miniconda3/envs/rl/lib/python3.10/site-packages/tornado/platform/asyncio.py\", line 195, in start\n      self.asyncio_loop.run_forever()\n    File \"/local/home/xiazhi/miniconda3/envs/rl/lib/python3.10/asyncio/base_events.py\", line 603, in run_forever\n      self._run_once()\n    File \"/local/home/xiazhi/miniconda3/envs/rl/lib/python3.10/asyncio/base_events.py\", line 1899, in _run_once\n      handle._run()\n    File \"/local/home/xiazhi/miniconda3/envs/rl/lib/python3.10/asyncio/events.py\", line 80, in _run\n      self._context.run(self._callback, *self._args)\n    File \"/local/home/xiazhi/miniconda3/envs/rl/lib/python3.10/site-packages/ipykernel/kernelbase.py\", line 513, in dispatch_queue\n      await self.process_one()\n    File \"/local/home/xiazhi/miniconda3/envs/rl/lib/python3.10/site-packages/ipykernel/kernelbase.py\", line 502, in process_one\n      await dispatch(*args)\n    File \"/local/home/xiazhi/miniconda3/envs/rl/lib/python3.10/site-packages/ipykernel/kernelbase.py\", line 409, in dispatch_shell\n      await result\n    File \"/local/home/xiazhi/miniconda3/envs/rl/lib/python3.10/site-packages/ipykernel/kernelbase.py\", line 729, in execute_request\n      reply_content = await reply_content\n    File \"/local/home/xiazhi/miniconda3/envs/rl/lib/python3.10/site-packages/ipykernel/ipkernel.py\", line 422, in do_execute\n      res = shell.run_cell(\n    File \"/local/home/xiazhi/miniconda3/envs/rl/lib/python3.10/site-packages/ipykernel/zmqshell.py\", line 540, in run_cell\n      return super().run_cell(*args, **kwargs)\n    File \"/local/home/xiazhi/miniconda3/envs/rl/lib/python3.10/site-packages/IPython/core/interactiveshell.py\", line 3006, in run_cell\n      result = self._run_cell(\n    File \"/local/home/xiazhi/miniconda3/envs/rl/lib/python3.10/site-packages/IPython/core/interactiveshell.py\", line 3061, in _run_cell\n      result = runner(coro)\n    File \"/local/home/xiazhi/miniconda3/envs/rl/lib/python3.10/site-packages/IPython/core/async_helpers.py\", line 129, in _pseudo_sync_runner\n      coro.send(None)\n    File \"/local/home/xiazhi/miniconda3/envs/rl/lib/python3.10/site-packages/IPython/core/interactiveshell.py\", line 3266, in run_cell_async\n      has_raised = await self.run_ast_nodes(code_ast.body, cell_name,\n    File \"/local/home/xiazhi/miniconda3/envs/rl/lib/python3.10/site-packages/IPython/core/interactiveshell.py\", line 3445, in run_ast_nodes\n      if await self.run_code(code, result, async_=asy):\n    File \"/local/home/xiazhi/miniconda3/envs/rl/lib/python3.10/site-packages/IPython/core/interactiveshell.py\", line 3505, in run_code\n      exec(code_obj, self.user_global_ns, self.user_ns)\n    File \"/tmp/ipykernel_1995889/3404860462.py\", line 4, in <module>\n      history1 = model1.fit(train_rus, train_labels_rus_wide, batch_size=batch_size, epochs=epochs, validation_split=0.25, verbose=1, shuffle=True)\n    File \"/local/home/xiazhi/miniconda3/envs/rl/lib/python3.10/site-packages/keras/utils/traceback_utils.py\", line 65, in error_handler\n      return fn(*args, **kwargs)\n    File \"/local/home/xiazhi/miniconda3/envs/rl/lib/python3.10/site-packages/keras/engine/training.py\", line 1650, in fit\n      tmp_logs = self.train_function(iterator)\n    File \"/local/home/xiazhi/miniconda3/envs/rl/lib/python3.10/site-packages/keras/engine/training.py\", line 1249, in train_function\n      return step_function(self, iterator)\n    File \"/local/home/xiazhi/miniconda3/envs/rl/lib/python3.10/site-packages/keras/engine/training.py\", line 1233, in step_function\n      outputs = model.distribute_strategy.run(run_step, args=(data,))\n    File \"/local/home/xiazhi/miniconda3/envs/rl/lib/python3.10/site-packages/keras/engine/training.py\", line 1222, in run_step\n      outputs = model.train_step(data)\n    File \"/local/home/xiazhi/miniconda3/envs/rl/lib/python3.10/site-packages/keras/engine/training.py\", line 1023, in train_step\n      y_pred = self(x, training=True)\n    File \"/local/home/xiazhi/miniconda3/envs/rl/lib/python3.10/site-packages/keras/utils/traceback_utils.py\", line 65, in error_handler\n      return fn(*args, **kwargs)\n    File \"/local/home/xiazhi/miniconda3/envs/rl/lib/python3.10/site-packages/keras/engine/training.py\", line 561, in __call__\n      return super().__call__(*args, **kwargs)\n    File \"/local/home/xiazhi/miniconda3/envs/rl/lib/python3.10/site-packages/keras/utils/traceback_utils.py\", line 65, in error_handler\n      return fn(*args, **kwargs)\n    File \"/local/home/xiazhi/miniconda3/envs/rl/lib/python3.10/site-packages/keras/engine/base_layer.py\", line 1132, in __call__\n      outputs = call_fn(inputs, *args, **kwargs)\n    File \"/local/home/xiazhi/miniconda3/envs/rl/lib/python3.10/site-packages/keras/utils/traceback_utils.py\", line 96, in error_handler\n      return fn(*args, **kwargs)\n    File \"/local/home/xiazhi/miniconda3/envs/rl/lib/python3.10/site-packages/keras/engine/sequential.py\", line 413, in call\n      return super().call(inputs, training=training, mask=mask)\n    File \"/local/home/xiazhi/miniconda3/envs/rl/lib/python3.10/site-packages/keras/engine/functional.py\", line 511, in call\n      return self._run_internal_graph(inputs, training=training, mask=mask)\n    File \"/local/home/xiazhi/miniconda3/envs/rl/lib/python3.10/site-packages/keras/engine/functional.py\", line 668, in _run_internal_graph\n      outputs = node.layer(*args, **kwargs)\n    File \"/local/home/xiazhi/miniconda3/envs/rl/lib/python3.10/site-packages/keras/utils/traceback_utils.py\", line 65, in error_handler\n      return fn(*args, **kwargs)\n    File \"/local/home/xiazhi/miniconda3/envs/rl/lib/python3.10/site-packages/keras/engine/base_layer.py\", line 1132, in __call__\n      outputs = call_fn(inputs, *args, **kwargs)\n    File \"/local/home/xiazhi/miniconda3/envs/rl/lib/python3.10/site-packages/keras/utils/traceback_utils.py\", line 96, in error_handler\n      return fn(*args, **kwargs)\n    File \"/local/home/xiazhi/miniconda3/envs/rl/lib/python3.10/site-packages/keras/layers/pooling/base_pooling2d.py\", line 84, in call\n      outputs = self.pool_function(\nNode: 'sequential/max_pooling2d/MaxPool'\nDefault MaxPoolingOp only supports NHWC on device type CPU\n\t [[{{node sequential/max_pooling2d/MaxPool}}]] [Op:__inference_train_function_1127]"
     ]
    }
   ],
   "source": [
    "epochs = 20\n",
    "batch_size = 256\n",
    "\n",
    "history1 = model1.fit(train_rus, train_labels_rus_wide, batch_size=batch_size, epochs=epochs, validation_split=0.25, verbose=1, shuffle=True)"
   ]
  },
  {
   "cell_type": "code",
   "execution_count": 9,
   "metadata": {},
   "outputs": [
    {
     "data": {
      "image/png": "[encoded data removed]",
      "text/plain": [
       "<Figure size 432x288 with 1 Axes>"
      ]
     },
     "metadata": {},
     "output_type": "display_data"
    }
   ],
   "source": [
    "loss1 = history1.history['loss']\n",
    "val_loss1 = history1.history['val_loss']\n",
    "\n",
    "plt.xlabel('Epochs')\n",
    "plt.ylabel('Loss')\n",
    "plt.plot(loss1, 'blue', label='Training Loss')\n",
    "plt.plot(val_loss1, 'green', label='Validation Loss')\n",
    "plt.xticks(range(0,epochs)[0::2])\n",
    "plt.legend()\n",
    "plt.show()"
   ]
  },
  {
   "cell_type": "markdown",
   "metadata": {},
   "source": [
    "Second architecture:"
   ]
  },
  {
   "cell_type": "code",
   "execution_count": 10,
   "metadata": {},
   "outputs": [
    {
     "name": "stdout",
     "output_type": "stream",
     "text": [
      "_________________________________________________________________\n",
      "Layer (type)                 Output Shape              Param #   \n",
      "=================================================================\n",
      "flatten_2 (Flatten)          (None, 4096)              0         \n",
      "_________________________________________________________________\n",
      "dense_3 (Dense)              (None, 16)                65552     \n",
      "_________________________________________________________________\n",
      "activation_1 (Activation)    (None, 16)                0         \n",
      "_________________________________________________________________\n",
      "dense_4 (Dense)              (None, 16)                272       \n",
      "_________________________________________________________________\n",
      "activation_2 (Activation)    (None, 16)                0         \n",
      "_________________________________________________________________\n",
      "dense_5 (Dense)              (None, 16)                272       \n",
      "_________________________________________________________________\n",
      "activation_3 (Activation)    (None, 16)                0         \n",
      "_________________________________________________________________\n",
      "dense_6 (Dense)              (None, 4)                 68        \n",
      "_________________________________________________________________\n",
      "activation_4 (Activation)    (None, 4)                 0         \n",
      "=================================================================\n",
      "Total params: 66,164\n",
      "Trainable params: 66,164\n",
      "Non-trainable params: 0\n",
      "_________________________________________________________________\n"
     ]
    }
   ],
   "source": [
    "model2 = Sequential()\n",
    "model2.add(Flatten(input_shape=(CHANNELS, ROWS, COLS)))\n",
    "model2.add(Dense(16))\n",
    "model2.add(Activation('relu'))\n",
    "model2.add(Dense(16))\n",
    "model2.add(Activation('relu'))\n",
    "model2.add(Dense(16))\n",
    "model2.add(Activation('relu'))\n",
    "model2.add(Dense(num_classes))\n",
    "model2.add(Activation('softmax'))\n",
    "\n",
    "model2.summary()"
   ]
  },
  {
   "cell_type": "code",
   "execution_count": 11,
   "metadata": {},
   "outputs": [],
   "source": [
    "model2.compile(loss='categorical_crossentropy', optimizer=adam(lr=1e-3), metrics=['accuracy'])"
   ]
  },
  {
   "cell_type": "code",
   "execution_count": 12,
   "metadata": {},
   "outputs": [
    {
     "name": "stdout",
     "output_type": "stream",
     "text": [
      "Train on 16209 samples, validate on 5403 samples\n",
      "Epoch 1/20\n",
      "16209/16209 [==============================] - 3s 192us/step - loss: 1.3683 - acc: 0.2975 - val_loss: 1.3436 - val_acc: 0.2837\n",
      "Epoch 2/20\n",
      "16209/16209 [==============================] - 2s 120us/step - loss: 1.2551 - acc: 0.3838 - val_loss: 1.2236 - val_acc: 0.3774\n",
      "Epoch 3/20\n",
      "16209/16209 [==============================] - 2s 103us/step - loss: 1.2092 - acc: 0.4295 - val_loss: 1.2309 - val_acc: 0.4285\n",
      "Epoch 4/20\n",
      "16209/16209 [==============================] - 2s 108us/step - loss: 1.1709 - acc: 0.4667 - val_loss: 1.1608 - val_acc: 0.4609\n",
      "Epoch 5/20\n",
      "16209/16209 [==============================] - 2s 137us/step - loss: 1.1326 - acc: 0.4808 - val_loss: 1.1255 - val_acc: 0.4670\n",
      "Epoch 6/20\n",
      "16209/16209 [==============================] - 2s 97us/step - loss: 1.0850 - acc: 0.4923 - val_loss: 1.0748 - val_acc: 0.5064\n",
      "Epoch 7/20\n",
      "16209/16209 [==============================] - 1s 91us/step - loss: 1.0492 - acc: 0.5048 - val_loss: 1.0552 - val_acc: 0.5143\n",
      "Epoch 8/20\n",
      "16209/16209 [==============================] - 1s 86us/step - loss: 1.0379 - acc: 0.5071 - val_loss: 1.0459 - val_acc: 0.4994\n",
      "Epoch 9/20\n",
      "16209/16209 [==============================] - 1s 90us/step - loss: 1.0043 - acc: 0.5171 - val_loss: 1.0600 - val_acc: 0.4823\n",
      "Epoch 10/20\n",
      "16209/16209 [==============================] - 1s 89us/step - loss: 1.0053 - acc: 0.5144 - val_loss: 1.0095 - val_acc: 0.5199\n",
      "Epoch 11/20\n",
      "16209/16209 [==============================] - 1s 89us/step - loss: 0.9844 - acc: 0.5250 - val_loss: 1.0038 - val_acc: 0.5142\n",
      "Epoch 12/20\n",
      "16209/16209 [==============================] - 1s 90us/step - loss: 0.9763 - acc: 0.5294 - val_loss: 1.0009 - val_acc: 0.5160\n",
      "Epoch 13/20\n",
      "16209/16209 [==============================] - 1s 90us/step - loss: 0.9649 - acc: 0.5362 - val_loss: 1.0044 - val_acc: 0.5171\n",
      "Epoch 14/20\n",
      "16209/16209 [==============================] - 1s 89us/step - loss: 0.9692 - acc: 0.5329 - val_loss: 1.0038 - val_acc: 0.5201\n",
      "Epoch 15/20\n",
      "16209/16209 [==============================] - 1s 87us/step - loss: 0.9671 - acc: 0.5330 - val_loss: 1.0260 - val_acc: 0.5162\n",
      "Epoch 16/20\n",
      "16209/16209 [==============================] - 1s 92us/step - loss: 0.9641 - acc: 0.5381 - val_loss: 1.0191 - val_acc: 0.5103\n",
      "Epoch 17/20\n",
      "16209/16209 [==============================] - 1s 87us/step - loss: 0.9591 - acc: 0.5374 - val_loss: 1.0052 - val_acc: 0.5236\n",
      "Epoch 18/20\n",
      "16209/16209 [==============================] - 1s 87us/step - loss: 0.9476 - acc: 0.5387 - val_loss: 0.9870 - val_acc: 0.5273\n",
      "Epoch 19/20\n",
      "16209/16209 [==============================] - 1s 85us/step - loss: 0.9452 - acc: 0.5448 - val_loss: 0.9899 - val_acc: 0.5249\n",
      "Epoch 20/20\n",
      "16209/16209 [==============================] - 1s 89us/step - loss: 0.9424 - acc: 0.5405 - val_loss: 0.9917 - val_acc: 0.5193\n"
     ]
    }
   ],
   "source": [
    "epochs = 20\n",
    "batch_size = 256\n",
    "\n",
    "history2 = model2.fit(train_rus, train_labels_rus_wide, batch_size=batch_size, epochs=epochs, validation_split=0.25, verbose=1, shuffle=True)"
   ]
  },
  {
   "cell_type": "code",
   "execution_count": 13,
   "metadata": {},
   "outputs": [
    {
     "data": {
      "image/png": "[encoded data removed]",
      "text/plain": [
       "<Figure size 432x288 with 1 Axes>"
      ]
     },
     "metadata": {},
     "output_type": "display_data"
    }
   ],
   "source": [
    "loss2 = history2.history['loss']\n",
    "val_loss2 = history2.history['val_loss']\n",
    "\n",
    "plt.xlabel('Epochs')\n",
    "plt.ylabel('Loss')\n",
    "plt.plot(loss2, 'blue', label='Training Loss')\n",
    "plt.plot(val_loss2, 'green', label='Validation Loss')\n",
    "plt.xticks(range(0,epochs)[0::2])\n",
    "plt.legend()\n",
    "plt.show()"
   ]
  },
  {
   "cell_type": "markdown",
   "metadata": {},
   "source": [
    "Third architecture:"
   ]
  },
  {
   "cell_type": "code",
   "execution_count": 14,
   "metadata": {},
   "outputs": [
    {
     "name": "stdout",
     "output_type": "stream",
     "text": [
      "_________________________________________________________________\n",
      "Layer (type)                 Output Shape              Param #   \n",
      "=================================================================\n",
      "conv2d_2 (Conv2D)            (None, 32, 15, 15)        2080      \n",
      "_________________________________________________________________\n",
      "activation_5 (Activation)    (None, 32, 15, 15)        0         \n",
      "_________________________________________________________________\n",
      "conv2d_3 (Conv2D)            (None, 64, 6, 6)          32832     \n",
      "_________________________________________________________________\n",
      "activation_6 (Activation)    (None, 64, 6, 6)          0         \n",
      "_________________________________________________________________\n",
      "conv2d_4 (Conv2D)            (None, 64, 4, 4)          36928     \n",
      "_________________________________________________________________\n",
      "activation_7 (Activation)    (None, 64, 4, 4)          0         \n",
      "_________________________________________________________________\n",
      "flatten_3 (Flatten)          (None, 1024)              0         \n",
      "_________________________________________________________________\n",
      "dense_7 (Dense)              (None, 512)               524800    \n",
      "_________________________________________________________________\n",
      "activation_8 (Activation)    (None, 512)               0         \n",
      "_________________________________________________________________\n",
      "dense_8 (Dense)              (None, 4)                 2052      \n",
      "_________________________________________________________________\n",
      "activation_9 (Activation)    (None, 4)                 0         \n",
      "=================================================================\n",
      "Total params: 598,692\n",
      "Trainable params: 598,692\n",
      "Non-trainable params: 0\n",
      "_________________________________________________________________\n",
      "None\n"
     ]
    }
   ],
   "source": [
    "model3 = Sequential()\n",
    "model3.add(Conv2D(32, (8, 8), input_shape=(CHANNELS, ROWS, COLS), strides=(4, 4)))\n",
    "model3.add(Activation('relu'))\n",
    "model3.add(Conv2D(64, (4, 4), strides=(2, 2)))\n",
    "model3.add(Activation('relu'))\n",
    "model3.add(Conv2D(64, (3, 3), strides=(1, 1)))\n",
    "model3.add(Activation('relu'))\n",
    "model3.add(Flatten())\n",
    "model3.add(Dense(512))\n",
    "model3.add(Activation('relu'))\n",
    "model3.add(Dense(num_classes))\n",
    "model3.add(Activation('softmax'))\n",
    "print(model3.summary())"
   ]
  },
  {
   "cell_type": "code",
   "execution_count": 15,
   "metadata": {},
   "outputs": [],
   "source": [
    "model3.compile(loss='categorical_crossentropy', optimizer=adam(lr=1e-3), metrics=['accuracy'])"
   ]
  },
  {
   "cell_type": "code",
   "execution_count": 16,
   "metadata": {},
   "outputs": [
    {
     "name": "stdout",
     "output_type": "stream",
     "text": [
      "Train on 16209 samples, validate on 5403 samples\n",
      "Epoch 1/20\n",
      "16209/16209 [==============================] - 41s 3ms/step - loss: 1.1971 - acc: 0.4214 - val_loss: 1.0612 - val_acc: 0.4875\n",
      "Epoch 2/20\n",
      "16209/16209 [==============================] - 41s 2ms/step - loss: 1.0382 - acc: 0.4992 - val_loss: 1.0237 - val_acc: 0.4927\n",
      "Epoch 3/20\n",
      "16209/16209 [==============================] - 41s 3ms/step - loss: 1.0048 - acc: 0.5169 - val_loss: 1.0032 - val_acc: 0.5156\n",
      "Epoch 4/20\n",
      "16209/16209 [==============================] - 41s 3ms/step - loss: 0.9801 - acc: 0.5286 - val_loss: 0.9893 - val_acc: 0.5127\n",
      "Epoch 5/20\n",
      "16209/16209 [==============================] - 41s 3ms/step - loss: 0.9606 - acc: 0.5366 - val_loss: 0.9811 - val_acc: 0.5232\n",
      "Epoch 6/20\n",
      "16209/16209 [==============================] - 206s 13ms/step - loss: 0.9417 - acc: 0.5437 - val_loss: 0.9750 - val_acc: 0.5290\n",
      "Epoch 7/20\n",
      "16209/16209 [==============================] - 49s 3ms/step - loss: 0.9247 - acc: 0.5560 - val_loss: 0.9775 - val_acc: 0.5280\n",
      "Epoch 8/20\n",
      "16209/16209 [==============================] - 41s 3ms/step - loss: 0.9035 - acc: 0.5686 - val_loss: 0.9532 - val_acc: 0.5445\n",
      "Epoch 9/20\n",
      "16209/16209 [==============================] - 44s 3ms/step - loss: 0.8782 - acc: 0.5777 - val_loss: 0.9783 - val_acc: 0.5341\n",
      "Epoch 10/20\n",
      "16209/16209 [==============================] - 40s 2ms/step - loss: 0.8616 - acc: 0.5898 - val_loss: 0.9532 - val_acc: 0.5292\n",
      "Epoch 11/20\n",
      "16209/16209 [==============================] - 39s 2ms/step - loss: 0.8349 - acc: 0.6036 - val_loss: 0.9532 - val_acc: 0.5399\n",
      "Epoch 12/20\n",
      "16209/16209 [==============================] - 39s 2ms/step - loss: 0.8074 - acc: 0.6194 - val_loss: 0.9661 - val_acc: 0.5423\n",
      "Epoch 13/20\n",
      "16209/16209 [==============================] - 40s 2ms/step - loss: 0.7869 - acc: 0.6287 - val_loss: 0.9565 - val_acc: 0.5341\n",
      "Epoch 14/20\n",
      "16209/16209 [==============================] - 40s 2ms/step - loss: 0.7650 - acc: 0.6379 - val_loss: 0.9684 - val_acc: 0.5434\n",
      "Epoch 15/20\n",
      "16209/16209 [==============================] - 40s 2ms/step - loss: 0.7378 - acc: 0.6540 - val_loss: 0.9930 - val_acc: 0.5425\n",
      "Epoch 16/20\n",
      "16209/16209 [==============================] - 40s 2ms/step - loss: 0.7201 - acc: 0.6644 - val_loss: 0.9886 - val_acc: 0.5406\n",
      "Epoch 17/20\n",
      "16209/16209 [==============================] - 40s 2ms/step - loss: 0.6964 - acc: 0.6737 - val_loss: 1.0038 - val_acc: 0.5397\n",
      "Epoch 18/20\n",
      "16209/16209 [==============================] - 39s 2ms/step - loss: 0.6705 - acc: 0.6923 - val_loss: 1.0498 - val_acc: 0.5349\n",
      "Epoch 19/20\n",
      "16209/16209 [==============================] - 39s 2ms/step - loss: 0.6496 - acc: 0.7052 - val_loss: 1.0479 - val_acc: 0.5425\n",
      "Epoch 20/20\n",
      "16209/16209 [==============================] - 40s 2ms/step - loss: 0.6293 - acc: 0.7149 - val_loss: 1.0734 - val_acc: 0.5358\n"
     ]
    }
   ],
   "source": [
    "epochs = 20\n",
    "batch_size = 256\n",
    "\n",
    "history3 = model3.fit(train_rus, train_labels_rus_wide, batch_size=batch_size, epochs=epochs, validation_split=0.25, verbose=1, shuffle=True)"
   ]
  },
  {
   "cell_type": "code",
   "execution_count": 17,
   "metadata": {},
   "outputs": [
    {
     "data": {
      "image/png": "[encoded data removed]",
      "text/plain": [
       "<Figure size 432x288 with 1 Axes>"
      ]
     },
     "metadata": {},
     "output_type": "display_data"
    }
   ],
   "source": [
    "loss3 = history3.history['loss']\n",
    "val_loss3 = history3.history['val_loss']\n",
    "\n",
    "plt.xlabel('Epochs')\n",
    "plt.ylabel('Loss')\n",
    "plt.plot(loss3, 'blue', label='Training Loss')\n",
    "plt.plot(val_loss3, 'green', label='Validation Loss')\n",
    "plt.xticks(range(0,epochs)[0::2])\n",
    "plt.legend()\n",
    "plt.show()"
   ]
  },
  {
   "cell_type": "markdown",
   "metadata": {},
   "source": [
    "Fourth architecture\n"
   ]
  },
  {
   "cell_type": "code",
   "execution_count": 18,
   "metadata": {},
   "outputs": [
    {
     "name": "stdout",
     "output_type": "stream",
     "text": [
      "_________________________________________________________________\n",
      "Layer (type)                 Output Shape              Param #   \n",
      "=================================================================\n",
      "conv2d_5 (Conv2D)            (None, 32, 15, 15)        2080      \n",
      "_________________________________________________________________\n",
      "dropout_2 (Dropout)          (None, 32, 15, 15)        0         \n",
      "_________________________________________________________________\n",
      "conv2d_6 (Conv2D)            (None, 64, 6, 6)          32832     \n",
      "_________________________________________________________________\n",
      "dropout_3 (Dropout)          (None, 64, 6, 6)          0         \n",
      "_________________________________________________________________\n",
      "conv2d_7 (Conv2D)            (None, 64, 4, 4)          36928     \n",
      "_________________________________________________________________\n",
      "flatten_4 (Flatten)          (None, 1024)              0         \n",
      "_________________________________________________________________\n",
      "dense_9 (Dense)              (None, 128)               131200    \n",
      "_________________________________________________________________\n",
      "dropout_4 (Dropout)          (None, 128)               0         \n",
      "_________________________________________________________________\n",
      "dense_10 (Dense)             (None, 128)               16512     \n",
      "_________________________________________________________________\n",
      "dropout_5 (Dropout)          (None, 128)               0         \n",
      "_________________________________________________________________\n",
      "dense_11 (Dense)             (None, 128)               16512     \n",
      "_________________________________________________________________\n",
      "dropout_6 (Dropout)          (None, 128)               0         \n",
      "_________________________________________________________________\n",
      "dense_12 (Dense)             (None, 128)               16512     \n",
      "_________________________________________________________________\n",
      "dropout_7 (Dropout)          (None, 128)               0         \n",
      "_________________________________________________________________\n",
      "dense_13 (Dense)             (None, 4)                 516       \n",
      "=================================================================\n",
      "Total params: 253,092\n",
      "Trainable params: 253,092\n",
      "Non-trainable params: 0\n",
      "_________________________________________________________________\n"
     ]
    }
   ],
   "source": [
    "model4 = Sequential()\n",
    "\n",
    "model4.add(Conv2D(32, (8,8),strides = (4,4), activation='relu', input_shape=(CHANNELS, ROWS, COLS)))\n",
    "model4.add(Dropout(0.5))\n",
    "model4.add(Conv2D(64, (4,4),strides = (2,2), activation='relu'))\n",
    "model4.add(Dropout(0.5))\n",
    "model4.add(Conv2D(64, (3,3),strides = (1,1), activation='relu'))\n",
    "model4.add(Flatten())\n",
    "model4.add(Dense(128, activation='relu'))\n",
    "model4.add(Dropout(0.5))\n",
    "model4.add(Dense(128, activation='relu'))\n",
    "model4.add(Dropout(0.5))\n",
    "model4.add(Dense(128, activation='relu'))\n",
    "model4.add(Dropout(0.5))\n",
    "model4.add(Dense(128, activation='relu'))\n",
    "model4.add(Dropout(0.5))\n",
    "model4.add(Dense(num_classes, activation='softmax'))\n",
    "\n",
    "model4.summary()"
   ]
  },
  {
   "cell_type": "code",
   "execution_count": 19,
   "metadata": {},
   "outputs": [],
   "source": [
    "model4.compile(loss='categorical_crossentropy', optimizer=adam(lr=1e-3), metrics=['accuracy'])"
   ]
  },
  {
   "cell_type": "code",
   "execution_count": 20,
   "metadata": {},
   "outputs": [
    {
     "name": "stdout",
     "output_type": "stream",
     "text": [
      "Train on 16209 samples, validate on 5403 samples\n",
      "Epoch 1/20\n",
      "16209/16209 [==============================] - 44s 3ms/step - loss: 1.3876 - acc: 0.2491 - val_loss: 1.3865 - val_acc: 0.2421\n",
      "Epoch 2/20\n",
      "16209/16209 [==============================] - 43s 3ms/step - loss: 1.3866 - acc: 0.2471 - val_loss: 1.3864 - val_acc: 0.2421\n",
      "Epoch 3/20\n",
      "16209/16209 [==============================] - 43s 3ms/step - loss: 1.3864 - acc: 0.2534 - val_loss: 1.3862 - val_acc: 0.2452\n",
      "Epoch 4/20\n",
      "16209/16209 [==============================] - 42s 3ms/step - loss: 1.3867 - acc: 0.2483 - val_loss: 1.3856 - val_acc: 0.2517\n",
      "Epoch 5/20\n",
      "16209/16209 [==============================] - 44s 3ms/step - loss: 1.3131 - acc: 0.3350 - val_loss: 1.1667 - val_acc: 0.4203\n",
      "Epoch 6/20\n",
      "16209/16209 [==============================] - 44s 3ms/step - loss: 1.1690 - acc: 0.4411 - val_loss: 1.0693 - val_acc: 0.4921\n",
      "Epoch 7/20\n",
      "16209/16209 [==============================] - 42s 3ms/step - loss: 1.1082 - acc: 0.4712 - val_loss: 1.0476 - val_acc: 0.4919\n",
      "Epoch 8/20\n",
      "16209/16209 [==============================] - 53s 3ms/step - loss: 1.0846 - acc: 0.4780 - val_loss: 1.0306 - val_acc: 0.5023\n",
      "Epoch 9/20\n",
      "16209/16209 [==============================] - 48s 3ms/step - loss: 1.0635 - acc: 0.4858 - val_loss: 1.0147 - val_acc: 0.5064\n",
      "Epoch 10/20\n",
      "16209/16209 [==============================] - 45s 3ms/step - loss: 1.0525 - acc: 0.4917 - val_loss: 1.0140 - val_acc: 0.5064\n",
      "Epoch 11/20\n",
      "16209/16209 [==============================] - 47s 3ms/step - loss: 1.0453 - acc: 0.4969 - val_loss: 1.0100 - val_acc: 0.5112\n",
      "Epoch 12/20\n",
      "16209/16209 [==============================] - 46s 3ms/step - loss: 1.0442 - acc: 0.4948 - val_loss: 1.0202 - val_acc: 0.5077\n",
      "Epoch 13/20\n",
      "16209/16209 [==============================] - 47s 3ms/step - loss: 1.0431 - acc: 0.4974 - val_loss: 0.9977 - val_acc: 0.5190\n",
      "Epoch 14/20\n",
      "16209/16209 [==============================] - 46s 3ms/step - loss: 1.0327 - acc: 0.4974 - val_loss: 0.9952 - val_acc: 0.5119\n",
      "Epoch 15/20\n",
      "16209/16209 [==============================] - 44s 3ms/step - loss: 1.0221 - acc: 0.5066 - val_loss: 0.9909 - val_acc: 0.5210\n",
      "Epoch 16/20\n",
      "16209/16209 [==============================] - 46s 3ms/step - loss: 1.0235 - acc: 0.5039 - val_loss: 0.9936 - val_acc: 0.5177\n",
      "Epoch 17/20\n",
      "16209/16209 [==============================] - 45s 3ms/step - loss: 1.0205 - acc: 0.5117 - val_loss: 0.9879 - val_acc: 0.5230\n",
      "Epoch 18/20\n",
      "16209/16209 [==============================] - 45s 3ms/step - loss: 1.0105 - acc: 0.5080 - val_loss: 0.9827 - val_acc: 0.5230\n",
      "Epoch 19/20\n",
      "16209/16209 [==============================] - 45s 3ms/step - loss: 1.0068 - acc: 0.5119 - val_loss: 0.9843 - val_acc: 0.5193\n",
      "Epoch 20/20\n",
      "16209/16209 [==============================] - 46s 3ms/step - loss: 1.0064 - acc: 0.5130 - val_loss: 0.9775 - val_acc: 0.5262\n"
     ]
    }
   ],
   "source": [
    "epochs = 20\n",
    "batch_size = 256\n",
    "\n",
    "history4 = model4.fit(train_rus, train_labels_rus_wide, batch_size=batch_size, epochs=epochs, validation_split=0.25, verbose=1, shuffle=True)"
   ]
  },
  {
   "cell_type": "code",
   "execution_count": 21,
   "metadata": {},
   "outputs": [
    {
     "data": {
      "image/png": "[encoded data removed]",
      "text/plain": [
       "<Figure size 432x288 with 1 Axes>"
      ]
     },
     "metadata": {},
     "output_type": "display_data"
    }
   ],
   "source": [
    "loss4 = history4.history['loss']\n",
    "val_loss4 = history4.history['val_loss']\n",
    "\n",
    "plt.xlabel('Epochs')\n",
    "plt.ylabel('Loss')\n",
    "plt.plot(loss3, 'blue', label='Training Loss')\n",
    "plt.plot(val_loss3, 'green', label='Validation Loss')\n",
    "plt.xticks(range(0,epochs)[0::2])\n",
    "plt.legend()\n",
    "plt.show()"
   ]
  },
  {
   "cell_type": "code",
   "execution_count": 22,
   "metadata": {},
   "outputs": [],
   "source": [
    "A = {\"Model 1\": model1, \" Model 2\": model2, \"Model 3\": model3, \"Model 4\": model4}"
   ]
  },
  {
   "cell_type": "code",
   "execution_count": 23,
   "metadata": {},
   "outputs": [
    {
     "name": "stdout",
     "output_type": "stream",
     "text": [
      "Confusion Matrix for  Model 2\n",
      "[[ 851  512 3168  322]\n",
      " [  99  901  360   22]\n",
      " [ 861  585 3360  450]\n",
      " [ 182   58  323  811]]\n",
      "Accuracy for  Model 2\n",
      "0.46039642440730666 \n",
      "\n",
      "Confusion Matrix for Model 1\n",
      "[[1949  527 1713  664]\n",
      " [ 205  959  188   30]\n",
      " [1950  595 1918  793]\n",
      " [ 207   24  163  980]]\n",
      "Accuracy for Model 1\n",
      "0.45130198212203654 \n",
      "\n",
      "Confusion Matrix for Model 4\n",
      "[[3382  450  432  589]\n",
      " [ 432  913   26   11]\n",
      " [3498  569  446  743]\n",
      " [ 360   35   57  922]]\n",
      "Accuracy for Model 4\n",
      "0.440186552662262 \n",
      "\n",
      "Confusion Matrix for Model 3\n",
      "[[1478  767 1756  852]\n",
      " [ 133 1032  172   45]\n",
      " [1598  847 1875  936]\n",
      " [ 138   20  160 1056]]\n",
      "Accuracy for Model 3\n",
      "0.4229304314030315 \n",
      "\n"
     ]
    }
   ],
   "source": [
    "# Evaluating the performance of all of the classifiers \n",
    "accuracy_table = pd.DataFrame(index = [\"Accuracy\"], columns=A.keys())\n",
    "maximum = 0\n",
    "for keys, items in A.items():\n",
    "    pred = items.predict_classes(test)\n",
    "    print(\"Confusion Matrix for\", keys)\n",
    "    print(metrics.confusion_matrix(test_labels, pred))\n",
    "    print(\"Accuracy for\", keys)\n",
    "    X = metrics.accuracy_score(pred, test_labels)\n",
    "    print(X, \"\\n\")\n",
    "    if X>maximum:\n",
    "        maximum = X\n",
    "        classifier = items\n",
    "        name = keys\n",
    "    accuracy_table.loc[\"Accuracy\",keys] = X"
   ]
  },
  {
   "cell_type": "code",
   "execution_count": 24,
   "metadata": {},
   "outputs": [
    {
     "data": {
      "text/html": [
       "<div>\n",
       "<style scoped>\n",
       "    .dataframe tbody tr th:only-of-type {\n",
       "        vertical-align: middle;\n",
       "    }\n",
       "\n",
       "    .dataframe tbody tr th {\n",
       "        vertical-align: top;\n",
       "    }\n",
       "\n",
       "    .dataframe thead th {\n",
       "        text-align: right;\n",
       "    }\n",
       "</style>\n",
       "<table border=\"1\" class=\"dataframe\">\n",
       "  <thead>\n",
       "    <tr style=\"text-align: right;\">\n",
       "      <th></th>\n",
       "      <th>Model 2</th>\n",
       "      <th>Model 1</th>\n",
       "      <th>Model 4</th>\n",
       "      <th>Model 3</th>\n",
       "    </tr>\n",
       "  </thead>\n",
       "  <tbody>\n",
       "    <tr>\n",
       "      <th>Accuracy</th>\n",
       "      <td>0.460396</td>\n",
       "      <td>0.451302</td>\n",
       "      <td>0.440187</td>\n",
       "      <td>0.42293</td>\n",
       "    </tr>\n",
       "  </tbody>\n",
       "</table>\n",
       "</div>"
      ],
      "text/plain": [
       "           Model 2   Model 1   Model 4  Model 3\n",
       "Accuracy  0.460396  0.451302  0.440187  0.42293"
      ]
     },
     "execution_count": 24,
     "metadata": {},
     "output_type": "execute_result"
    }
   ],
   "source": [
    "accuracy_table"
   ]
  },
  {
   "cell_type": "code",
   "execution_count": 25,
   "metadata": {},
   "outputs": [
    {
     "name": "stdout",
     "output_type": "stream",
     "text": [
      "Best classifier is:  Model 2 with accuracy of: 0.46039642440730666\n"
     ]
    }
   ],
   "source": [
    "print(\"Best classifier is:\", name, \"with accuracy of:\", maximum)\n",
    "filepath = \"task2.mod\"\n",
    "classifier.save(filepath)"
   ]
  }
 ],
 "metadata": {
  "kernelspec": {
   "display_name": "rl",
   "language": "python",
   "name": "python3"
  },
  "language_info": {
   "codemirror_mode": {
    "name": "ipython",
    "version": 3
   },
   "file_extension": ".py",
   "mimetype": "text/x-python",
   "name": "python",
   "nbconvert_exporter": "python",
   "pygments_lexer": "ipython3",
   "version": "3.10.8"
  },
  "vscode": {
   "interpreter": {
    "hash": "c829ac570c3f4c81ff757025aa4b0d29606d66e2eb4d39dc7ef8cd75ea9f9574"
   }
  }
 },
 "nbformat": 4,
 "nbformat_minor": 2
}
