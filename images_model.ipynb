{
 "cells": [
  {
   "cell_type": "markdown",
   "metadata": {},
   "source": [
    "In this notebook I will consider a number of CNN architectures to predict actions based on images. Initially I will test their accuracy on the training data but later in the notebook I make my final evaluation on their performance on the unseen test data. The best performing model will be saved as task2.mod."
   ]
  },
  {
   "cell_type": "code",
   "execution_count": 1,
   "metadata": {},
   "outputs": [
    {
     "name": "stderr",
     "output_type": "stream",
     "text": [
      "/Users/ajeffares/anaconda/lib/python3.5/site-packages/h5py/__init__.py:36: FutureWarning: Conversion of the second argument of issubdtype from `float` to `np.floating` is deprecated. In future, it will be treated as `np.float64 == np.dtype(float).type`.\n",
      "  from ._conv import register_converters as _register_converters\n",
      "Using TensorFlow backend.\n"
     ]
    }
   ],
   "source": [
    "import os \n",
    "import random\n",
    "import numpy as np\n",
    "import cv2\n",
    "import pandas as pd\n",
    "\n",
    "\n",
    "import matplotlib.pyplot as plt\n",
    "%matplotlib inline \n",
    "from matplotlib import ticker\n",
    "import seaborn as sns\n",
    "\n",
    "from sklearn.model_selection import train_test_split\n",
    "from sklearn import metrics\n",
    "from imblearn.under_sampling import RandomUnderSampler\n",
    "from sklearn.utils import shuffle\n",
    "\n",
    "import keras\n",
    "from keras.models import Sequential\n",
    "from keras.layers import Input, Dropout, Flatten, Conv2D, MaxPooling2D, Dense, Activation, Convolution2D\n",
    "from keras.optimizers import RMSprop\n",
    "from tensorflow.keras.optimizers import Adam as adam\n",
    "from keras.utils import np_utils\n",
    "\n",
    "from keras import backend as K\n",
    "\n",
    "K.set_image_data_format('channels_first')"
   ]
  },
  {
   "cell_type": "code",
   "execution_count": 2,
   "metadata": {},
   "outputs": [
    {
     "name": "stdout",
     "output_type": "stream",
     "text": [
      "Processed 0 of 64323\n",
      "Processed 1000 of 64323\n",
      "Processed 2000 of 64323\n",
      "Processed 3000 of 64323\n",
      "Processed 4000 of 64323\n",
      "Processed 5000 of 64323\n",
      "Processed 6000 of 64323\n",
      "Processed 7000 of 64323\n",
      "Processed 8000 of 64323\n",
      "Processed 9000 of 64323\n",
      "Processed 10000 of 64323\n",
      "Processed 11000 of 64323\n",
      "Processed 12000 of 64323\n",
      "Processed 13000 of 64323\n",
      "Processed 14000 of 64323\n",
      "Processed 15000 of 64323\n",
      "Processed 16000 of 64323\n",
      "Processed 17000 of 64323\n",
      "Processed 18000 of 64323\n",
      "Processed 19000 of 64323\n",
      "Processed 20000 of 64323\n",
      "Processed 21000 of 64323\n",
      "Processed 22000 of 64323\n",
      "Processed 23000 of 64323\n",
      "Processed 24000 of 64323\n",
      "Processed 25000 of 64323\n",
      "Processed 26000 of 64323\n",
      "Processed 27000 of 64323\n",
      "Processed 28000 of 64323\n",
      "Processed 29000 of 64323\n",
      "Processed 30000 of 64323\n",
      "Processed 31000 of 64323\n",
      "Processed 32000 of 64323\n",
      "Processed 33000 of 64323\n",
      "Processed 34000 of 64323\n",
      "Processed 35000 of 64323\n",
      "Processed 36000 of 64323\n",
      "Processed 37000 of 64323\n",
      "Processed 38000 of 64323\n",
      "Processed 39000 of 64323\n",
      "Processed 40000 of 64323\n",
      "Processed 41000 of 64323\n",
      "Processed 42000 of 64323\n",
      "Processed 43000 of 64323\n",
      "Processed 44000 of 64323\n",
      "Processed 45000 of 64323\n",
      "Processed 46000 of 64323\n",
      "Processed 47000 of 64323\n",
      "Processed 48000 of 64323\n",
      "Processed 49000 of 64323\n",
      "Processed 50000 of 64323\n",
      "Processed 51000 of 64323\n",
      "Processed 52000 of 64323\n",
      "Processed 53000 of 64323\n",
      "Processed 54000 of 64323\n",
      "Processed 55000 of 64323\n",
      "Processed 56000 of 64323\n",
      "Processed 57000 of 64323\n",
      "Processed 58000 of 64323\n",
      "Processed 59000 of 64323\n",
      "Processed 60000 of 64323\n",
      "Processed 61000 of 64323\n",
      "Processed 62000 of 64323\n",
      "Processed 63000 of 64323\n",
      "Processed 64000 of 64323\n",
      "Train shape: (64323, 1, 64, 64)\n"
     ]
    }
   ],
   "source": [
    "# Set up some parmaeters for data loading\n",
    "TRAIN_DIR = './data/'\n",
    "sample_rate = 1\n",
    "ROWS = 64\n",
    "COLS = 64\n",
    "CHANNELS = 1\n",
    "\n",
    "# generate filenames from the data folder and do sampling\n",
    "image_filenames = [TRAIN_DIR+i for i in os.listdir(TRAIN_DIR) if not i.startswith('.')] # use this for full dataset\n",
    "image_filenames = random.sample(image_filenames, int(len(image_filenames)*sample_rate))\n",
    "\n",
    "# Create a data array for image data\n",
    "count = len(image_filenames)\n",
    "data = np.ndarray((count, CHANNELS, ROWS, COLS), dtype=np.float)\n",
    "\n",
    "# Iterate throuigh the filenames and for each one load the image, resize and normalise\n",
    "for i, image_file in enumerate(image_filenames):\n",
    "    image = cv2.imread(image_file, cv2.IMREAD_GRAYSCALE)\n",
    "    image = cv2.resize(image, (ROWS, COLS), interpolation=cv2.INTER_CUBIC)        \n",
    "    data[i] = image\n",
    "    data[i] = data[i]/255\n",
    "    if i%1000 == 0: print('Processed {} of {}'.format(i, count))\n",
    "\n",
    "print(\"Train shape: {}\".format(data.shape))"
   ]
  },
  {
   "cell_type": "code",
   "execution_count": null,
   "metadata": {},
   "outputs": [],
   "source": [
    "plt.imshow(np.squeeze(data[6]))"
   ]
  },
  {
   "cell_type": "code",
   "execution_count": 3,
   "metadata": {},
   "outputs": [
    {
     "data": {
      "text/plain": [
       "<matplotlib.axes._subplots.AxesSubplot at 0x1250769b0>"
      ]
     },
     "execution_count": 3,
     "metadata": {},
     "output_type": "execute_result"
    },
    {
     "data": {
      "image/png": "[encoded data removed]",
      "text/plain": [
       "<Figure size 432x288 with 1 Axes>"
      ]
     },
     "metadata": {},
     "output_type": "display_data"
    }
   ],
   "source": [
    "# Extract the lables from the last characters in the filename\n",
    "labels = []\n",
    "for i in image_filenames:\n",
    "    l = i[-6:-5]\n",
    "    labels.append(int(l))\n",
    "        \n",
    "# Count the number of clases\n",
    "num_classes = len(set(labels))\n",
    "\n",
    "# convert to binary encoded labels\n",
    "labels_wide = keras.utils.to_categorical(labels, num_classes)\n",
    "\n",
    "# Plot a bar plot of the \n",
    "df = pd.DataFrame(labels, columns = ['label'])\n",
    "sns.countplot(x=df[\"label\"])"
   ]
  },
  {
   "cell_type": "code",
   "execution_count": 4,
   "metadata": {},
   "outputs": [],
   "source": [
    "train, test, train_labels, test_labels = train_test_split(data, labels, random_state=0, test_size = 0.2, train_size = 0.8)\n",
    "train_labels_wide = keras.utils.to_categorical(train_labels, num_classes)\n",
    "test_labels_wide = keras.utils.to_categorical(test_labels, num_classes)"
   ]
  },
  {
   "cell_type": "code",
   "execution_count": 5,
   "metadata": {},
   "outputs": [
    {
     "data": {
      "image/png": "[encoded data removed]",
      "text/plain": [
       "<Figure size 432x288 with 1 Axes>"
      ]
     },
     "metadata": {},
     "output_type": "display_data"
    }
   ],
   "source": [
    "# Apply the random under-sampling\n",
    "rus = RandomUnderSampler(return_indices=True)\n",
    "train_rus, train_labels_rus, idx_resampled = rus.fit_sample(train.reshape(len(train), ROWS*COLS*CHANNELS), train_labels)\n",
    "train_rus, train_labels_rus = shuffle(train_rus, train_labels_rus)\n",
    "train_rus = train_rus.reshape(len(train_rus), CHANNELS,ROWS, COLS)\n",
    "sns.countplot(train_labels_rus)\n",
    "train_labels_rus_wide = keras.utils.to_categorical(train_labels_rus, num_classes)"
   ]
  },
  {
   "cell_type": "markdown",
   "metadata": {},
   "source": [
    "Trying out a couple of model architectures\n",
    "\n",
    "First architecture:"
   ]
  },
  {
   "cell_type": "code",
   "execution_count": 6,
   "metadata": {},
   "outputs": [
    {
     "name": "stdout",
     "output_type": "stream",
     "text": [
      "_________________________________________________________________\n",
      "Layer (type)                 Output Shape              Param #   \n",
      "=================================================================\n",
      "conv2d_1 (Conv2D)            (None, 32, 64, 64)        320       \n",
      "_________________________________________________________________\n",
      "max_pooling2d_1 (MaxPooling2 (None, 32, 32, 32)        0         \n",
      "_________________________________________________________________\n",
      "flatten_1 (Flatten)          (None, 32768)             0         \n",
      "_________________________________________________________________\n",
      "dense_1 (Dense)              (None, 128)               4194432   \n",
      "_________________________________________________________________\n",
      "dropout_1 (Dropout)          (None, 128)               0         \n",
      "_________________________________________________________________\n",
      "dense_2 (Dense)              (None, 4)                 516       \n",
      "=================================================================\n",
      "Total params: 4,195,268\n",
      "Trainable params: 4,195,268\n",
      "Non-trainable params: 0\n",
      "_________________________________________________________________\n"
     ]
    }
   ],
   "source": [
    "#first model:\n",
    "\n",
    "model1 = Sequential()\n",
    "\n",
    "model1.add(Conv2D(32, (3, 3), padding='same', input_shape=(CHANNELS, ROWS, COLS), activation='relu'))\n",
    "model1.add(MaxPooling2D(pool_size=(2, 2)))\n",
    "\n",
    "model1.add(Flatten())\n",
    "\n",
    "model1.add(Dense(128, activation='relu'))\n",
    "model1.add(Dropout(0.5))\n",
    "\n",
    "model1.add(Dense(num_classes, activation = 'softmax'))\n",
    "\n",
    "model1.summary()"
   ]
  },
  {
   "cell_type": "code",
   "execution_count": 7,
   "metadata": {},
   "outputs": [],
   "source": [
    "model1.compile(loss='categorical_crossentropy', optimizer=adam(lr=1e-3), metrics=['accuracy'])"
   ]
  },
  {
   "cell_type": "code",
   "execution_count": 8,
   "metadata": {},
   "outputs": [
    {
     "name": "stdout",
     "output_type": "stream",
     "text": [
      "Train on 16209 samples, validate on 5403 samples\n",
      "Epoch 1/20\n",
      "16209/16209 [==============================] - 598s 37ms/step - loss: 1.3266 - acc: 0.3630 - val_loss: 1.1885 - val_acc: 0.4566\n",
      "Epoch 2/20\n",
      "16209/16209 [==============================] - 620s 38ms/step - loss: 1.1662 - acc: 0.4503 - val_loss: 1.0866 - val_acc: 0.4995\n",
      "Epoch 3/20\n",
      "16209/16209 [==============================] - 408s 25ms/step - loss: 1.1048 - acc: 0.4865 - val_loss: 1.0549 - val_acc: 0.5038\n",
      "Epoch 4/20\n",
      "16209/16209 [==============================] - 1575s 97ms/step - loss: 1.0571 - acc: 0.5048 - val_loss: 1.0249 - val_acc: 0.5197\n",
      "Epoch 5/20\n",
      "16209/16209 [==============================] - 1138s 70ms/step - loss: 1.0312 - acc: 0.5114 - val_loss: 1.0066 - val_acc: 0.5253\n",
      "Epoch 6/20\n",
      "16209/16209 [==============================] - 495s 31ms/step - loss: 1.0055 - acc: 0.5251 - val_loss: 0.9883 - val_acc: 0.5292\n",
      "Epoch 7/20\n",
      "16209/16209 [==============================] - 605s 37ms/step - loss: 0.9860 - acc: 0.5331 - val_loss: 0.9782 - val_acc: 0.5340\n",
      "Epoch 8/20\n",
      "16209/16209 [==============================] - 466s 29ms/step - loss: 0.9678 - acc: 0.5411 - val_loss: 0.9740 - val_acc: 0.5325\n",
      "Epoch 9/20\n",
      "16209/16209 [==============================] - 390s 24ms/step - loss: 0.9588 - acc: 0.5445 - val_loss: 0.9688 - val_acc: 0.5327\n",
      "Epoch 10/20\n",
      "16209/16209 [==============================] - 419s 26ms/step - loss: 0.9414 - acc: 0.5518 - val_loss: 0.9712 - val_acc: 0.5299\n",
      "Epoch 11/20\n",
      "16209/16209 [==============================] - 396s 24ms/step - loss: 0.9336 - acc: 0.5552 - val_loss: 0.9608 - val_acc: 0.5440\n",
      "Epoch 12/20\n",
      "16209/16209 [==============================] - 434s 27ms/step - loss: 0.9183 - acc: 0.5665 - val_loss: 0.9576 - val_acc: 0.5419\n",
      "Epoch 13/20\n",
      "16209/16209 [==============================] - 391s 24ms/step - loss: 0.9054 - acc: 0.5671 - val_loss: 0.9579 - val_acc: 0.5375\n",
      "Epoch 14/20\n",
      "16209/16209 [==============================] - 393s 24ms/step - loss: 0.8977 - acc: 0.5746 - val_loss: 0.9659 - val_acc: 0.5366\n",
      "Epoch 15/20\n",
      "16209/16209 [==============================] - 393s 24ms/step - loss: 0.8858 - acc: 0.5795 - val_loss: 0.9575 - val_acc: 0.5395\n",
      "Epoch 16/20\n",
      "16209/16209 [==============================] - 388s 24ms/step - loss: 0.8752 - acc: 0.5822 - val_loss: 0.9581 - val_acc: 0.5388\n",
      "Epoch 17/20\n",
      "16209/16209 [==============================] - 390s 24ms/step - loss: 0.8631 - acc: 0.5913 - val_loss: 0.9623 - val_acc: 0.5458\n",
      "Epoch 18/20\n",
      "16209/16209 [==============================] - 390s 24ms/step - loss: 0.8511 - acc: 0.5962 - val_loss: 0.9631 - val_acc: 0.5303\n",
      "Epoch 19/20\n",
      "16209/16209 [==============================] - 392s 24ms/step - loss: 0.8509 - acc: 0.6000 - val_loss: 0.9706 - val_acc: 0.5312\n",
      "Epoch 20/20\n",
      "16209/16209 [==============================] - 388s 24ms/step - loss: 0.8284 - acc: 0.6103 - val_loss: 0.9667 - val_acc: 0.5354\n"
     ]
    }
   ],
   "source": [
    "epochs = 20\n",
    "batch_size = 256\n",
    "\n",
    "history1 = model1.fit(train_rus, train_labels_rus_wide, batch_size=batch_size, epochs=epochs, validation_split=0.25, verbose=1, shuffle=True)"
   ]
  },
  {
   "cell_type": "code",
   "execution_count": 9,
   "metadata": {},
   "outputs": [
    {
     "data": {
      "image/png": "[encoded data removed]",
      "text/plain": [
       "<Figure size 432x288 with 1 Axes>"
      ]
     },
     "metadata": {},
     "output_type": "display_data"
    }
   ],
   "source": [
    "loss1 = history1.history['loss']\n",
    "val_loss1 = history1.history['val_loss']\n",
    "\n",
    "plt.xlabel('Epochs')\n",
    "plt.ylabel('Loss')\n",
    "plt.plot(loss1, 'blue', label='Training Loss')\n",
    "plt.plot(val_loss1, 'green', label='Validation Loss')\n",
    "plt.xticks(range(0,epochs)[0::2])\n",
    "plt.legend()\n",
    "plt.show()"
   ]
  },
  {
   "cell_type": "markdown",
   "metadata": {},
   "source": [
    "Second architecture:"
   ]
  },
  {
   "cell_type": "code",
   "execution_count": 10,
   "metadata": {},
   "outputs": [
    {
     "name": "stdout",
     "output_type": "stream",
     "text": [
      "_________________________________________________________________\n",
      "Layer (type)                 Output Shape              Param #   \n",
      "=================================================================\n",
      "flatten_2 (Flatten)          (None, 4096)              0         \n",
      "_________________________________________________________________\n",
      "dense_3 (Dense)              (None, 16)                65552     \n",
      "_________________________________________________________________\n",
      "activation_1 (Activation)    (None, 16)                0         \n",
      "_________________________________________________________________\n",
      "dense_4 (Dense)              (None, 16)                272       \n",
      "_________________________________________________________________\n",
      "activation_2 (Activation)    (None, 16)                0         \n",
      "_________________________________________________________________\n",
      "dense_5 (Dense)              (None, 16)                272       \n",
      "_________________________________________________________________\n",
      "activation_3 (Activation)    (None, 16)                0         \n",
      "_________________________________________________________________\n",
      "dense_6 (Dense)              (None, 4)                 68        \n",
      "_________________________________________________________________\n",
      "activation_4 (Activation)    (None, 4)                 0         \n",
      "=================================================================\n",
      "Total params: 66,164\n",
      "Trainable params: 66,164\n",
      "Non-trainable params: 0\n",
      "_________________________________________________________________\n"
     ]
    }
   ],
   "source": [
    "model2 = Sequential()\n",
    "model2.add(Flatten(input_shape=(CHANNELS, ROWS, COLS)))\n",
    "model2.add(Dense(16))\n",
    "model2.add(Activation('relu'))\n",
    "model2.add(Dense(16))\n",
    "model2.add(Activation('relu'))\n",
    "model2.add(Dense(16))\n",
    "model2.add(Activation('relu'))\n",
    "model2.add(Dense(num_classes))\n",
    "model2.add(Activation('softmax'))\n",
    "\n",
    "model2.summary()"
   ]
  },
  {
   "cell_type": "code",
   "execution_count": 11,
   "metadata": {},
   "outputs": [],
   "source": [
    "model2.compile(loss='categorical_crossentropy', optimizer=adam(lr=1e-3), metrics=['accuracy'])"
   ]
  },
  {
   "cell_type": "code",
   "execution_count": 12,
   "metadata": {},
   "outputs": [
    {
     "name": "stdout",
     "output_type": "stream",
     "text": [
      "Train on 16209 samples, validate on 5403 samples\n",
      "Epoch 1/20\n",
      "16209/16209 [==============================] - 3s 192us/step - loss: 1.3683 - acc: 0.2975 - val_loss: 1.3436 - val_acc: 0.2837\n",
      "Epoch 2/20\n",
      "16209/16209 [==============================] - 2s 120us/step - loss: 1.2551 - acc: 0.3838 - val_loss: 1.2236 - val_acc: 0.3774\n",
      "Epoch 3/20\n",
      "16209/16209 [==============================] - 2s 103us/step - loss: 1.2092 - acc: 0.4295 - val_loss: 1.2309 - val_acc: 0.4285\n",
      "Epoch 4/20\n",
      "16209/16209 [==============================] - 2s 108us/step - loss: 1.1709 - acc: 0.4667 - val_loss: 1.1608 - val_acc: 0.4609\n",
      "Epoch 5/20\n",
      "16209/16209 [==============================] - 2s 137us/step - loss: 1.1326 - acc: 0.4808 - val_loss: 1.1255 - val_acc: 0.4670\n",
      "Epoch 6/20\n",
      "16209/16209 [==============================] - 2s 97us/step - loss: 1.0850 - acc: 0.4923 - val_loss: 1.0748 - val_acc: 0.5064\n",
      "Epoch 7/20\n",
      "16209/16209 [==============================] - 1s 91us/step - loss: 1.0492 - acc: 0.5048 - val_loss: 1.0552 - val_acc: 0.5143\n",
      "Epoch 8/20\n",
      "16209/16209 [==============================] - 1s 86us/step - loss: 1.0379 - acc: 0.5071 - val_loss: 1.0459 - val_acc: 0.4994\n",
      "Epoch 9/20\n",
      "16209/16209 [==============================] - 1s 90us/step - loss: 1.0043 - acc: 0.5171 - val_loss: 1.0600 - val_acc: 0.4823\n",
      "Epoch 10/20\n",
      "16209/16209 [==============================] - 1s 89us/step - loss: 1.0053 - acc: 0.5144 - val_loss: 1.0095 - val_acc: 0.5199\n",
      "Epoch 11/20\n",
      "16209/16209 [==============================] - 1s 89us/step - loss: 0.9844 - acc: 0.5250 - val_loss: 1.0038 - val_acc: 0.5142\n",
      "Epoch 12/20\n",
      "16209/16209 [==============================] - 1s 90us/step - loss: 0.9763 - acc: 0.5294 - val_loss: 1.0009 - val_acc: 0.5160\n",
      "Epoch 13/20\n",
      "16209/16209 [==============================] - 1s 90us/step - loss: 0.9649 - acc: 0.5362 - val_loss: 1.0044 - val_acc: 0.5171\n",
      "Epoch 14/20\n",
      "16209/16209 [==============================] - 1s 89us/step - loss: 0.9692 - acc: 0.5329 - val_loss: 1.0038 - val_acc: 0.5201\n",
      "Epoch 15/20\n",
      "16209/16209 [==============================] - 1s 87us/step - loss: 0.9671 - acc: 0.5330 - val_loss: 1.0260 - val_acc: 0.5162\n",
      "Epoch 16/20\n",
      "16209/16209 [==============================] - 1s 92us/step - loss: 0.9641 - acc: 0.5381 - val_loss: 1.0191 - val_acc: 0.5103\n",
      "Epoch 17/20\n",
      "16209/16209 [==============================] - 1s 87us/step - loss: 0.9591 - acc: 0.5374 - val_loss: 1.0052 - val_acc: 0.5236\n",
      "Epoch 18/20\n",
      "16209/16209 [==============================] - 1s 87us/step - loss: 0.9476 - acc: 0.5387 - val_loss: 0.9870 - val_acc: 0.5273\n",
      "Epoch 19/20\n",
      "16209/16209 [==============================] - 1s 85us/step - loss: 0.9452 - acc: 0.5448 - val_loss: 0.9899 - val_acc: 0.5249\n",
      "Epoch 20/20\n",
      "16209/16209 [==============================] - 1s 89us/step - loss: 0.9424 - acc: 0.5405 - val_loss: 0.9917 - val_acc: 0.5193\n"
     ]
    }
   ],
   "source": [
    "epochs = 20\n",
    "batch_size = 256\n",
    "\n",
    "history2 = model2.fit(train_rus, train_labels_rus_wide, batch_size=batch_size, epochs=epochs, validation_split=0.25, verbose=1, shuffle=True)"
   ]
  },
  {
   "cell_type": "code",
   "execution_count": 13,
   "metadata": {},
   "outputs": [
    {
     "data": {
      "image/png": "[encoded data removed]",
      "text/plain": [
       "<Figure size 432x288 with 1 Axes>"
      ]
     },
     "metadata": {},
     "output_type": "display_data"
    }
   ],
   "source": [
    "loss2 = history2.history['loss']\n",
    "val_loss2 = history2.history['val_loss']\n",
    "\n",
    "plt.xlabel('Epochs')\n",
    "plt.ylabel('Loss')\n",
    "plt.plot(loss2, 'blue', label='Training Loss')\n",
    "plt.plot(val_loss2, 'green', label='Validation Loss')\n",
    "plt.xticks(range(0,epochs)[0::2])\n",
    "plt.legend()\n",
    "plt.show()"
   ]
  },
  {
   "cell_type": "markdown",
   "metadata": {},
   "source": [
    "Third architecture:"
   ]
  },
  {
   "cell_type": "code",
   "execution_count": 14,
   "metadata": {},
   "outputs": [
    {
     "name": "stdout",
     "output_type": "stream",
     "text": [
      "_________________________________________________________________\n",
      "Layer (type)                 Output Shape              Param #   \n",
      "=================================================================\n",
      "conv2d_2 (Conv2D)            (None, 32, 15, 15)        2080      \n",
      "_________________________________________________________________\n",
      "activation_5 (Activation)    (None, 32, 15, 15)        0         \n",
      "_________________________________________________________________\n",
      "conv2d_3 (Conv2D)            (None, 64, 6, 6)          32832     \n",
      "_________________________________________________________________\n",
      "activation_6 (Activation)    (None, 64, 6, 6)          0         \n",
      "_________________________________________________________________\n",
      "conv2d_4 (Conv2D)            (None, 64, 4, 4)          36928     \n",
      "_________________________________________________________________\n",
      "activation_7 (Activation)    (None, 64, 4, 4)          0         \n",
      "_________________________________________________________________\n",
      "flatten_3 (Flatten)          (None, 1024)              0         \n",
      "_________________________________________________________________\n",
      "dense_7 (Dense)              (None, 512)               524800    \n",
      "_________________________________________________________________\n",
      "activation_8 (Activation)    (None, 512)               0         \n",
      "_________________________________________________________________\n",
      "dense_8 (Dense)              (None, 4)                 2052      \n",
      "_________________________________________________________________\n",
      "activation_9 (Activation)    (None, 4)                 0         \n",
      "=================================================================\n",
      "Total params: 598,692\n",
      "Trainable params: 598,692\n",
      "Non-trainable params: 0\n",
      "_________________________________________________________________\n",
      "None\n"
     ]
    }
   ],
   "source": [
    "model3 = Sequential()\n",
    "model3.add(Conv2D(32, (8, 8), input_shape=(CHANNELS, ROWS, COLS), strides=(4, 4)))\n",
    "model3.add(Activation('relu'))\n",
    "model3.add(Conv2D(64, (4, 4), strides=(2, 2)))\n",
    "model3.add(Activation('relu'))\n",
    "model3.add(Conv2D(64, (3, 3), strides=(1, 1)))\n",
    "model3.add(Activation('relu'))\n",
    "model3.add(Flatten())\n",
    "model3.add(Dense(512))\n",
    "model3.add(Activation('relu'))\n",
    "model3.add(Dense(num_classes))\n",
    "model3.add(Activation('softmax'))\n",
    "print(model3.summary())"
   ]
  },
  {
   "cell_type": "code",
   "execution_count": 15,
   "metadata": {},
   "outputs": [],
   "source": [
    "model3.compile(loss='categorical_crossentropy', optimizer=adam(lr=1e-3), metrics=['accuracy'])"
   ]
  },
  {
   "cell_type": "code",
   "execution_count": 16,
   "metadata": {},
   "outputs": [
    {
     "name": "stdout",
     "output_type": "stream",
     "text": [
      "Train on 16209 samples, validate on 5403 samples\n",
      "Epoch 1/20\n",
      "16209/16209 [==============================] - 41s 3ms/step - loss: 1.1971 - acc: 0.4214 - val_loss: 1.0612 - val_acc: 0.4875\n",
      "Epoch 2/20\n",
      "16209/16209 [==============================] - 41s 2ms/step - loss: 1.0382 - acc: 0.4992 - val_loss: 1.0237 - val_acc: 0.4927\n",
      "Epoch 3/20\n",
      "16209/16209 [==============================] - 41s 3ms/step - loss: 1.0048 - acc: 0.5169 - val_loss: 1.0032 - val_acc: 0.5156\n",
      "Epoch 4/20\n",
      "16209/16209 [==============================] - 41s 3ms/step - loss: 0.9801 - acc: 0.5286 - val_loss: 0.9893 - val_acc: 0.5127\n",
      "Epoch 5/20\n",
      "16209/16209 [==============================] - 41s 3ms/step - loss: 0.9606 - acc: 0.5366 - val_loss: 0.9811 - val_acc: 0.5232\n",
      "Epoch 6/20\n",
      "16209/16209 [==============================] - 206s 13ms/step - loss: 0.9417 - acc: 0.5437 - val_loss: 0.9750 - val_acc: 0.5290\n",
      "Epoch 7/20\n",
      "16209/16209 [==============================] - 49s 3ms/step - loss: 0.9247 - acc: 0.5560 - val_loss: 0.9775 - val_acc: 0.5280\n",
      "Epoch 8/20\n",
      "16209/16209 [==============================] - 41s 3ms/step - loss: 0.9035 - acc: 0.5686 - val_loss: 0.9532 - val_acc: 0.5445\n",
      "Epoch 9/20\n",
      "16209/16209 [==============================] - 44s 3ms/step - loss: 0.8782 - acc: 0.5777 - val_loss: 0.9783 - val_acc: 0.5341\n",
      "Epoch 10/20\n",
      "16209/16209 [==============================] - 40s 2ms/step - loss: 0.8616 - acc: 0.5898 - val_loss: 0.9532 - val_acc: 0.5292\n",
      "Epoch 11/20\n",
      "16209/16209 [==============================] - 39s 2ms/step - loss: 0.8349 - acc: 0.6036 - val_loss: 0.9532 - val_acc: 0.5399\n",
      "Epoch 12/20\n",
      "16209/16209 [==============================] - 39s 2ms/step - loss: 0.8074 - acc: 0.6194 - val_loss: 0.9661 - val_acc: 0.5423\n",
      "Epoch 13/20\n",
      "16209/16209 [==============================] - 40s 2ms/step - loss: 0.7869 - acc: 0.6287 - val_loss: 0.9565 - val_acc: 0.5341\n",
      "Epoch 14/20\n",
      "16209/16209 [==============================] - 40s 2ms/step - loss: 0.7650 - acc: 0.6379 - val_loss: 0.9684 - val_acc: 0.5434\n",
      "Epoch 15/20\n",
      "16209/16209 [==============================] - 40s 2ms/step - loss: 0.7378 - acc: 0.6540 - val_loss: 0.9930 - val_acc: 0.5425\n",
      "Epoch 16/20\n",
      "16209/16209 [==============================] - 40s 2ms/step - loss: 0.7201 - acc: 0.6644 - val_loss: 0.9886 - val_acc: 0.5406\n",
      "Epoch 17/20\n",
      "16209/16209 [==============================] - 40s 2ms/step - loss: 0.6964 - acc: 0.6737 - val_loss: 1.0038 - val_acc: 0.5397\n",
      "Epoch 18/20\n",
      "16209/16209 [==============================] - 39s 2ms/step - loss: 0.6705 - acc: 0.6923 - val_loss: 1.0498 - val_acc: 0.5349\n",
      "Epoch 19/20\n",
      "16209/16209 [==============================] - 39s 2ms/step - loss: 0.6496 - acc: 0.7052 - val_loss: 1.0479 - val_acc: 0.5425\n",
      "Epoch 20/20\n",
      "16209/16209 [==============================] - 40s 2ms/step - loss: 0.6293 - acc: 0.7149 - val_loss: 1.0734 - val_acc: 0.5358\n"
     ]
    }
   ],
   "source": [
    "epochs = 20\n",
    "batch_size = 256\n",
    "\n",
    "history3 = model3.fit(train_rus, train_labels_rus_wide, batch_size=batch_size, epochs=epochs, validation_split=0.25, verbose=1, shuffle=True)"
   ]
  },
  {
   "cell_type": "code",
   "execution_count": 17,
   "metadata": {},
   "outputs": [
    {
     "data": {
      "image/png": "[encoded data removed]",
      "text/plain": [
       "<Figure size 432x288 with 1 Axes>"
      ]
     },
     "metadata": {},
     "output_type": "display_data"
    }
   ],
   "source": [
    "loss3 = history3.history['loss']\n",
    "val_loss3 = history3.history['val_loss']\n",
    "\n",
    "plt.xlabel('Epochs')\n",
    "plt.ylabel('Loss')\n",
    "plt.plot(loss3, 'blue', label='Training Loss')\n",
    "plt.plot(val_loss3, 'green', label='Validation Loss')\n",
    "plt.xticks(range(0,epochs)[0::2])\n",
    "plt.legend()\n",
    "plt.show()"
   ]
  },
  {
   "cell_type": "markdown",
   "metadata": {},
   "source": [
    "Fourth architecture\n"
   ]
  },
  {
   "cell_type": "code",
   "execution_count": 18,
   "metadata": {},
   "outputs": [
    {
     "name": "stdout",
     "output_type": "stream",
     "text": [
      "_________________________________________________________________\n",
      "Layer (type)                 Output Shape              Param #   \n",
      "=================================================================\n",
      "conv2d_5 (Conv2D)            (None, 32, 15, 15)        2080      \n",
      "_________________________________________________________________\n",
      "dropout_2 (Dropout)          (None, 32, 15, 15)        0         \n",
      "_________________________________________________________________\n",
      "conv2d_6 (Conv2D)            (None, 64, 6, 6)          32832     \n",
      "_________________________________________________________________\n",
      "dropout_3 (Dropout)          (None, 64, 6, 6)          0         \n",
      "_________________________________________________________________\n",
      "conv2d_7 (Conv2D)            (None, 64, 4, 4)          36928     \n",
      "_________________________________________________________________\n",
      "flatten_4 (Flatten)          (None, 1024)              0         \n",
      "_________________________________________________________________\n",
      "dense_9 (Dense)              (None, 128)               131200    \n",
      "_________________________________________________________________\n",
      "dropout_4 (Dropout)          (None, 128)               0         \n",
      "_________________________________________________________________\n",
      "dense_10 (Dense)             (None, 128)               16512     \n",
      "_________________________________________________________________\n",
      "dropout_5 (Dropout)          (None, 128)               0         \n",
      "_________________________________________________________________\n",
      "dense_11 (Dense)             (None, 128)               16512     \n",
      "_________________________________________________________________\n",
      "dropout_6 (Dropout)          (None, 128)               0         \n",
      "_________________________________________________________________\n",
      "dense_12 (Dense)             (None, 128)               16512     \n",
      "_________________________________________________________________\n",
      "dropout_7 (Dropout)          (None, 128)               0         \n",
      "_________________________________________________________________\n",
      "dense_13 (Dense)             (None, 4)                 516       \n",
      "=================================================================\n",
      "Total params: 253,092\n",
      "Trainable params: 253,092\n",
      "Non-trainable params: 0\n",
      "_________________________________________________________________\n"
     ]
    }
   ],
   "source": [
    "model4 = Sequential()\n",
    "\n",
    "model4.add(Conv2D(32, (8,8),strides = (4,4), activation='relu', input_shape=(CHANNELS, ROWS, COLS)))\n",
    "model4.add(Dropout(0.5))\n",
    "model4.add(Conv2D(64, (4,4),strides = (2,2), activation='relu'))\n",
    "model4.add(Dropout(0.5))\n",
    "model4.add(Conv2D(64, (3,3),strides = (1,1), activation='relu'))\n",
    "model4.add(Flatten())\n",
    "model4.add(Dense(128, activation='relu'))\n",
    "model4.add(Dropout(0.5))\n",
    "model4.add(Dense(128, activation='relu'))\n",
    "model4.add(Dropout(0.5))\n",
    "model4.add(Dense(128, activation='relu'))\n",
    "model4.add(Dropout(0.5))\n",
    "model4.add(Dense(128, activation='relu'))\n",
    "model4.add(Dropout(0.5))\n",
    "model4.add(Dense(num_classes, activation='softmax'))\n",
    "\n",
    "model4.summary()"
   ]
  },
  {
   "cell_type": "code",
   "execution_count": 19,
   "metadata": {},
   "outputs": [],
   "source": [
    "model4.compile(loss='categorical_crossentropy', optimizer=adam(lr=1e-3), metrics=['accuracy'])"
   ]
  },
  {
   "cell_type": "code",
   "execution_count": 20,
   "metadata": {},
   "outputs": [
    {
     "name": "stdout",
     "output_type": "stream",
     "text": [
      "Train on 16209 samples, validate on 5403 samples\n",
      "Epoch 1/20\n",
      "16209/16209 [==============================] - 44s 3ms/step - loss: 1.3876 - acc: 0.2491 - val_loss: 1.3865 - val_acc: 0.2421\n",
      "Epoch 2/20\n",
      "16209/16209 [==============================] - 43s 3ms/step - loss: 1.3866 - acc: 0.2471 - val_loss: 1.3864 - val_acc: 0.2421\n",
      "Epoch 3/20\n",
      "16209/16209 [==============================] - 43s 3ms/step - loss: 1.3864 - acc: 0.2534 - val_loss: 1.3862 - val_acc: 0.2452\n",
      "Epoch 4/20\n",
      "16209/16209 [==============================] - 42s 3ms/step - loss: 1.3867 - acc: 0.2483 - val_loss: 1.3856 - val_acc: 0.2517\n",
      "Epoch 5/20\n",
      "16209/16209 [==============================] - 44s 3ms/step - loss: 1.3131 - acc: 0.3350 - val_loss: 1.1667 - val_acc: 0.4203\n",
      "Epoch 6/20\n",
      "16209/16209 [==============================] - 44s 3ms/step - loss: 1.1690 - acc: 0.4411 - val_loss: 1.0693 - val_acc: 0.4921\n",
      "Epoch 7/20\n",
      "16209/16209 [==============================] - 42s 3ms/step - loss: 1.1082 - acc: 0.4712 - val_loss: 1.0476 - val_acc: 0.4919\n",
      "Epoch 8/20\n",
      "16209/16209 [==============================] - 53s 3ms/step - loss: 1.0846 - acc: 0.4780 - val_loss: 1.0306 - val_acc: 0.5023\n",
      "Epoch 9/20\n",
      "16209/16209 [==============================] - 48s 3ms/step - loss: 1.0635 - acc: 0.4858 - val_loss: 1.0147 - val_acc: 0.5064\n",
      "Epoch 10/20\n",
      "16209/16209 [==============================] - 45s 3ms/step - loss: 1.0525 - acc: 0.4917 - val_loss: 1.0140 - val_acc: 0.5064\n",
      "Epoch 11/20\n",
      "16209/16209 [==============================] - 47s 3ms/step - loss: 1.0453 - acc: 0.4969 - val_loss: 1.0100 - val_acc: 0.5112\n",
      "Epoch 12/20\n",
      "16209/16209 [==============================] - 46s 3ms/step - loss: 1.0442 - acc: 0.4948 - val_loss: 1.0202 - val_acc: 0.5077\n",
      "Epoch 13/20\n",
      "16209/16209 [==============================] - 47s 3ms/step - loss: 1.0431 - acc: 0.4974 - val_loss: 0.9977 - val_acc: 0.5190\n",
      "Epoch 14/20\n",
      "16209/16209 [==============================] - 46s 3ms/step - loss: 1.0327 - acc: 0.4974 - val_loss: 0.9952 - val_acc: 0.5119\n",
      "Epoch 15/20\n",
      "16209/16209 [==============================] - 44s 3ms/step - loss: 1.0221 - acc: 0.5066 - val_loss: 0.9909 - val_acc: 0.5210\n",
      "Epoch 16/20\n",
      "16209/16209 [==============================] - 46s 3ms/step - loss: 1.0235 - acc: 0.5039 - val_loss: 0.9936 - val_acc: 0.5177\n",
      "Epoch 17/20\n",
      "16209/16209 [==============================] - 45s 3ms/step - loss: 1.0205 - acc: 0.5117 - val_loss: 0.9879 - val_acc: 0.5230\n",
      "Epoch 18/20\n",
      "16209/16209 [==============================] - 45s 3ms/step - loss: 1.0105 - acc: 0.5080 - val_loss: 0.9827 - val_acc: 0.5230\n",
      "Epoch 19/20\n",
      "16209/16209 [==============================] - 45s 3ms/step - loss: 1.0068 - acc: 0.5119 - val_loss: 0.9843 - val_acc: 0.5193\n",
      "Epoch 20/20\n",
      "16209/16209 [==============================] - 46s 3ms/step - loss: 1.0064 - acc: 0.5130 - val_loss: 0.9775 - val_acc: 0.5262\n"
     ]
    }
   ],
   "source": [
    "epochs = 20\n",
    "batch_size = 256\n",
    "\n",
    "history4 = model4.fit(train_rus, train_labels_rus_wide, batch_size=batch_size, epochs=epochs, validation_split=0.25, verbose=1, shuffle=True)"
   ]
  },
  {
   "cell_type": "code",
   "execution_count": 21,
   "metadata": {},
   "outputs": [
    {
     "data": {
      "image/png": "[encoded data removed]",
      "text/plain": [
       "<Figure size 432x288 with 1 Axes>"
      ]
     },
     "metadata": {},
     "output_type": "display_data"
    }
   ],
   "source": [
    "loss4 = history4.history['loss']\n",
    "val_loss4 = history4.history['val_loss']\n",
    "\n",
    "plt.xlabel('Epochs')\n",
    "plt.ylabel('Loss')\n",
    "plt.plot(loss3, 'blue', label='Training Loss')\n",
    "plt.plot(val_loss3, 'green', label='Validation Loss')\n",
    "plt.xticks(range(0,epochs)[0::2])\n",
    "plt.legend()\n",
    "plt.show()"
   ]
  },
  {
   "cell_type": "code",
   "execution_count": 22,
   "metadata": {},
   "outputs": [],
   "source": [
    "A = {\"Model 1\": model1, \" Model 2\": model2, \"Model 3\": model3, \"Model 4\": model4}"
   ]
  },
  {
   "cell_type": "code",
   "execution_count": 23,
   "metadata": {},
   "outputs": [
    {
     "name": "stdout",
     "output_type": "stream",
     "text": [
      "Confusion Matrix for  Model 2\n",
      "[[ 851  512 3168  322]\n",
      " [  99  901  360   22]\n",
      " [ 861  585 3360  450]\n",
      " [ 182   58  323  811]]\n",
      "Accuracy for  Model 2\n",
      "0.46039642440730666 \n",
      "\n",
      "Confusion Matrix for Model 1\n",
      "[[1949  527 1713  664]\n",
      " [ 205  959  188   30]\n",
      " [1950  595 1918  793]\n",
      " [ 207   24  163  980]]\n",
      "Accuracy for Model 1\n",
      "0.45130198212203654 \n",
      "\n",
      "Confusion Matrix for Model 4\n",
      "[[3382  450  432  589]\n",
      " [ 432  913   26   11]\n",
      " [3498  569  446  743]\n",
      " [ 360   35   57  922]]\n",
      "Accuracy for Model 4\n",
      "0.440186552662262 \n",
      "\n",
      "Confusion Matrix for Model 3\n",
      "[[1478  767 1756  852]\n",
      " [ 133 1032  172   45]\n",
      " [1598  847 1875  936]\n",
      " [ 138   20  160 1056]]\n",
      "Accuracy for Model 3\n",
      "0.4229304314030315 \n",
      "\n"
     ]
    }
   ],
   "source": [
    "# Evaluating the performance of all of the classifiers \n",
    "accuracy_table = pd.DataFrame(index = [\"Accuracy\"], columns=A.keys())\n",
    "maximum = 0\n",
    "for keys, items in A.items():\n",
    "    pred = items.predict_classes(test)\n",
    "    print(\"Confusion Matrix for\", keys)\n",
    "    print(metrics.confusion_matrix(test_labels, pred))\n",
    "    print(\"Accuracy for\", keys)\n",
    "    X = metrics.accuracy_score(pred, test_labels)\n",
    "    print(X, \"\\n\")\n",
    "    if X>maximum:\n",
    "        maximum = X\n",
    "        classifier = items\n",
    "        name = keys\n",
    "    accuracy_table.loc[\"Accuracy\",keys] = X"
   ]
  },
  {
   "cell_type": "code",
   "execution_count": 24,
   "metadata": {},
   "outputs": [
    {
     "data": {
      "text/html": [
       "<div>\n",
       "<style scoped>\n",
       "    .dataframe tbody tr th:only-of-type {\n",
       "        vertical-align: middle;\n",
       "    }\n",
       "\n",
       "    .dataframe tbody tr th {\n",
       "        vertical-align: top;\n",
       "    }\n",
       "\n",
       "    .dataframe thead th {\n",
       "        text-align: right;\n",
       "    }\n",
       "</style>\n",
       "<table border=\"1\" class=\"dataframe\">\n",
       "  <thead>\n",
       "    <tr style=\"text-align: right;\">\n",
       "      <th></th>\n",
       "      <th>Model 2</th>\n",
       "      <th>Model 1</th>\n",
       "      <th>Model 4</th>\n",
       "      <th>Model 3</th>\n",
       "    </tr>\n",
       "  </thead>\n",
       "  <tbody>\n",
       "    <tr>\n",
       "      <th>Accuracy</th>\n",
       "      <td>0.460396</td>\n",
       "      <td>0.451302</td>\n",
       "      <td>0.440187</td>\n",
       "      <td>0.42293</td>\n",
       "    </tr>\n",
       "  </tbody>\n",
       "</table>\n",
       "</div>"
      ],
      "text/plain": [
       "           Model 2   Model 1   Model 4  Model 3\n",
       "Accuracy  0.460396  0.451302  0.440187  0.42293"
      ]
     },
     "execution_count": 24,
     "metadata": {},
     "output_type": "execute_result"
    }
   ],
   "source": [
    "accuracy_table"
   ]
  },
  {
   "cell_type": "code",
   "execution_count": 25,
   "metadata": {},
   "outputs": [
    {
     "name": "stdout",
     "output_type": "stream",
     "text": [
      "Best classifier is:  Model 2 with accuracy of: 0.46039642440730666\n"
     ]
    }
   ],
   "source": [
    "print(\"Best classifier is:\", name, \"with accuracy of:\", maximum)\n",
    "filepath = \"task2.mod\"\n",
    "classifier.save(filepath)"
   ]
  }
 ],
 "metadata": {
  "kernelspec": {
   "display_name": "rl",
   "language": "python",
   "name": "python3"
  },
  "language_info": {
   "codemirror_mode": {
    "name": "ipython",
    "version": 3
   },
   "file_extension": ".py",
   "mimetype": "text/x-python",
   "name": "python",
   "nbconvert_exporter": "python",
   "pygments_lexer": "ipython3",
   "version": "3.10.8 (main, Nov 24 2022, 14:13:03) [GCC 11.2.0]"
  },
  "vscode": {
   "interpreter": {
    "hash": "c829ac570c3f4c81ff757025aa4b0d29606d66e2eb4d39dc7ef8cd75ea9f9574"
   }
  }
 },
 "nbformat": 4,
 "nbformat_minor": 2
}
