{
 "cells": [
  {
   "attachments": {},
   "cell_type": "markdown",
   "metadata": {},
   "source": [
    "# Plot Embeddings"
   ]
  },
  {
   "cell_type": "code",
   "execution_count": 23,
   "metadata": {},
   "outputs": [],
   "source": [
    "import numpy as np\n",
    "import pandas as pd\n",
    "import os\n",
    "from sklearn.decomposition import PCA\n",
    "from sklearn.discriminant_analysis import LinearDiscriminantAnalysis\n",
    "from sklearn.manifold import TSNE\n",
    "from sklearn.metrics.pairwise import cosine_similarity\n",
    "%matplotlib qt\n",
    "import matplotlib.pyplot as plt\n",
    "import plotly.express as px\n",
    "import itertools"
   ]
  },
  {
   "cell_type": "code",
   "execution_count": 24,
   "metadata": {},
   "outputs": [],
   "source": [
    "## globals args\n",
    "data_root_dir = os.getcwd() + '/plots_vae/'\n",
    "vae_model = 'optimal-laggy-80-filled-s20'\n",
    "\n",
    "agent_models = [\n",
    "               'optimal',\n",
    "               'laggy'\n",
    "               ]"
   ]
  },
  {
   "cell_type": "code",
   "execution_count": 33,
   "metadata": {},
   "outputs": [],
   "source": [
    "## load embeddings\n",
    "embeddings = []\n",
    "embeddings_sep = []\n",
    "labels = []\n",
    "label_counts = []\n",
    "\n",
    "for idx, agent in enumerate(agent_models):\n",
    "    embedding_dir = data_root_dir + vae_model + '/' + agent + '/'\n",
    "    embed = np.load(embedding_dir + 'embeddings-test.npy')\n",
    "    labels.append([idx] * len(embed))\n",
    "    label_counts.append(len(embed))\n",
    "    embeddings.append(embed)\n",
    "    # embeddings_sep.append((embed - embed.mean(0, keepdims=True)) / embed.std(axis=0))\n",
    "    embeddings_sep.append(embed / np.linalg.norm(embed, 2))\n",
    "\n",
    "embeddings = np.concatenate(embeddings)\n",
    "embeddings = (embeddings - embeddings.mean(0, keepdims=True)) / embeddings.std(axis=0)\n",
    "labels = list(itertools.chain(*labels))\n",
    "agent_dict = {0: \"optimal\", 1:\"laggy\"} \n",
    "models = list(map(agent_dict.get, labels))"
   ]
  },
  {
   "cell_type": "code",
   "execution_count": 34,
   "metadata": {},
   "outputs": [],
   "source": [
    "# pca = PCA(n_components=3)\n",
    "pca = PCA(n_components=2)\n",
    "embeds_pca = pca.fit_transform(embeddings)\n",
    "\n",
    "## draw PCA using matplotlib\n",
    "# ax= plt.figure().add_subplot(projection='3d')\n",
    "# # ax= plt.figure().add_subplot()\n",
    "\n",
    "# ax.scatter(reduced_embeds[:,0],\n",
    "#             reduced_embeds[:,1],\n",
    "#             reduced_embeds[:,2],\n",
    "#             c = colors)\n",
    "\n",
    "# plt.show()"
   ]
  },
  {
   "cell_type": "code",
   "execution_count": 36,
   "metadata": {},
   "outputs": [
    {
     "data": {
      "application/vnd.plotly.v1+json": {
       "config": {
        "plotlyServerURL": "https://plot.ly"
       },
       "data": [
        {
         "hovertemplate": "agent_model=optimal<br>pca_1=%{x}<br>pca_2=%{y}<extra></extra>",
         "legendgroup": "optimal",
         "marker": {
          "color": "#636efa",
          "symbol": "circle"
         },
         "mode": "markers",
         "name": "optimal",
         "orientation": "v",
         "showlegend": true,
         "type": "scatter",
         "x": [
          -8.636143684387207,
          -0.024129848927259445,
          -3.550309181213379,
          -5.140638828277588,
          2.5952963829040527,
          13.670963287353516,
          -6.827924728393555,
          0.6620631814002991,
          7.329188346862793,
          9.756547927856445,
          2.291443347930908,
          7.0056633949279785,
          4.639663219451904,
          -11.238911628723145,
          6.809380531311035,
          1.9167733192443848,
          -10.622042655944824,
          -1.4836615324020386,
          6.673275470733643,
          15.856367111206055,
          2.159151554107666,
          7.058056354522705,
          3.9744482040405273,
          -1.8118505477905273,
          -12.495987892150879,
          11.456631660461426,
          -13.24036693572998,
          5.87403678894043,
          -12.043228149414062,
          3.7466824054718018,
          -2.103936195373535,
          -10.529709815979004,
          -3.0884811878204346,
          -3.4912071228027344,
          -12.034701347351074,
          8.70319938659668,
          -6.398245811462402,
          -13.017848014831543,
          -5.443719863891602,
          -5.337186336517334,
          9.10340690612793,
          -0.6943714618682861,
          -2.530681610107422,
          -4.405562877655029,
          -2.4091227054595947,
          -2.8447515964508057,
          -1.5028036832809448,
          -3.963380813598633,
          10.80671215057373,
          -3.8556530475616455,
          10.821754455566406,
          2.759444236755371,
          -1.4522539377212524,
          0.1329614520072937,
          0.8843842148780823,
          -2.5645108222961426,
          -1.2289749383926392,
          9.01828670501709,
          7.593410968780518,
          2.8453316688537598,
          0.5031416416168213,
          3.985614538192749,
          -14.480583190917969,
          -1.2878450155258179,
          2.842745780944824,
          0.07606201618909836,
          -8.94293212890625,
          -4.415409564971924,
          15.205682754516602,
          2.3927669525146484,
          -6.2811455726623535,
          7.6559648513793945,
          -4.500992774963379,
          -4.67333984375,
          -5.010156154632568,
          14.888577461242676,
          -0.113215371966362,
          12.706732749938965,
          -1.342513918876648,
          -0.9173575639724731,
          14.496844291687012,
          -1.3256287574768066,
          -5.944307804107666,
          -3.290499448776245,
          7.842310428619385,
          -14.052579879760742,
          12.605286598205566,
          2.912440299987793,
          5.044853210449219,
          -9.923158645629883,
          -0.8870701789855957,
          -13.624994277954102,
          -2.947625160217285,
          5.902220249176025,
          -4.092927932739258,
          -2.7227871417999268,
          -1.4394360780715942,
          7.041913032531738,
          -8.495920181274414,
          -1.410847544670105
         ],
         "xaxis": "x",
         "y": [
          -5.568044662475586,
          -5.999898910522461,
          -3.782609701156616,
          7.6070027351379395,
          0.6564451456069946,
          0.8370596170425415,
          -9.607603073120117,
          -5.108921051025391,
          10.370542526245117,
          3.757174015045166,
          6.161995887756348,
          -9.086594581604004,
          -7.810009956359863,
          2.259556531906128,
          4.818812847137451,
          -10.142244338989258,
          6.612452983856201,
          13.327300071716309,
          -1.4754388332366943,
          1.264588713645935,
          16.343076705932617,
          5.703840732574463,
          5.393709182739258,
          -7.046709060668945,
          -0.49485906958580017,
          6.100500106811523,
          1.1340184211730957,
          -9.882681846618652,
          -2.038207530975342,
          0.9061153531074524,
          13.443588256835938,
          0.7500050067901611,
          -7.019626140594482,
          6.711609363555908,
          2.3022665977478027,
          0.9231272339820862,
          1.0418564081192017,
          -0.27607688307762146,
          -3.486548662185669,
          -4.866940021514893,
          -2.4691460132598877,
          5.448916435241699,
          0.0361151285469532,
          1.2944958209991455,
          2.149068593978882,
          8.264257431030273,
          -1.1765270233154297,
          -13.846782684326172,
          0.013043349608778954,
          1.453143835067749,
          8.383503913879395,
          -0.8540455102920532,
          1.16728937625885,
          1.8553693294525146,
          4.849358081817627,
          -5.801706314086914,
          16.21359634399414,
          -2.4788730144500732,
          -5.4559173583984375,
          -14.23884391784668,
          -12.501578330993652,
          -0.24136853218078613,
          -2.6426117420196533,
          -6.656360149383545,
          -1.5873665809631348,
          6.321386814117432,
          -5.227924346923828,
          -1.6774941682815552,
          -0.7480139136314392,
          -0.8656753301620483,
          5.771244049072266,
          -6.315763473510742,
          0.3783540427684784,
          2.7490904331207275,
          -7.239902973175049,
          1.078499436378479,
          -8.040907859802246,
          -1.1134517192840576,
          -0.09146904945373535,
          3.217792272567749,
          5.794602870941162,
          5.305675506591797,
          3.036104202270508,
          1.5466398000717163,
          -4.582876682281494,
          1.7711951732635498,
          -5.236084461212158,
          0.4572383761405945,
          -2.416788339614868,
          -0.5013267993927002,
          8.618972778320312,
          0.9375619292259216,
          3.827474355697632,
          -11.752166748046875,
          -0.9450966715812683,
          -6.877739906311035,
          -1.569205641746521,
          8.13517951965332,
          -0.1808762103319168,
          -3.0434253215789795
         ],
         "yaxis": "y"
        },
        {
         "hovertemplate": "agent_model=laggy<br>pca_1=%{x}<br>pca_2=%{y}<extra></extra>",
         "legendgroup": "laggy",
         "marker": {
          "color": "#EF553B",
          "symbol": "circle"
         },
         "mode": "markers",
         "name": "laggy",
         "orientation": "v",
         "showlegend": true,
         "type": "scatter",
         "x": [
          0.06226790323853493,
          6.346698760986328,
          -2.0656137466430664,
          15.287059783935547,
          -5.827142715454102,
          3.235685110092163,
          -4.38446569442749,
          -4.835653781890869,
          -4.4191813468933105,
          1.4328364133834839,
          3.237761974334717,
          -5.76457405090332,
          12.213543891906738,
          3.734107255935669,
          7.395140647888184,
          -8.223392486572266,
          -1.093260645866394,
          3.2640862464904785,
          6.377381324768066,
          6.730955600738525,
          -6.023550510406494,
          1.0220344066619873,
          -6.848567008972168,
          -6.05576229095459,
          4.001148223876953,
          1.1832197904586792,
          2.384166955947876,
          -1.634557843208313,
          -9.393023490905762,
          -8.300695419311523,
          12.380745887756348,
          -0.26531293988227844,
          10.980334281921387,
          4.731664657592773,
          11.129240989685059,
          -6.564356327056885,
          14.4426851272583,
          -2.0186755657196045,
          -8.259109497070312,
          -3.4756007194519043,
          -5.52681827545166,
          -4.364931583404541,
          8.85342025756836,
          -0.5558164119720459,
          4.3201398849487305,
          -7.111395835876465,
          -2.9187381267547607,
          -2.0835511684417725,
          -8.424994468688965,
          -11.457475662231445,
          2.1012682914733887,
          8.586020469665527,
          8.595410346984863,
          12.257307052612305,
          7.26723051071167,
          3.5092973709106445,
          0.11026917397975922,
          5.890937805175781,
          15.031083106994629,
          -6.660543441772461,
          4.260907173156738,
          -11.806800842285156,
          -8.867124557495117,
          10.39774227142334,
          -2.536114454269409,
          2.4969701766967773,
          5.863668441772461,
          -5.421687126159668,
          0.18269190192222595,
          -1.7665879726409912,
          0.8918330073356628,
          4.297058582305908,
          -13.829873085021973,
          0.016270384192466736,
          -5.610282897949219,
          10.814723014831543,
          1.2719950675964355,
          -7.653252601623535,
          -9.596357345581055,
          -8.981998443603516,
          -1.5506290197372437,
          -1.6602694988250732,
          -17.65534782409668,
          -9.671096801757812,
          -5.075414657592773,
          -2.2571165561676025,
          18.7470645904541,
          -2.9418811798095703,
          -13.148292541503906,
          12.778620719909668,
          -3.7082903385162354,
          10.612207412719727,
          -6.859688758850098,
          4.906818389892578,
          -4.59094762802124
         ],
         "xaxis": "x",
         "y": [
          -4.042876243591309,
          5.50508975982666,
          12.269414901733398,
          2.8771889209747314,
          6.895632743835449,
          6.1904520988464355,
          -7.608615398406982,
          -9.73447036743164,
          -3.808485984802246,
          -1.737989902496338,
          9.447539329528809,
          3.1972885131835938,
          -4.068079471588135,
          10.29787826538086,
          -9.558881759643555,
          1.8647124767303467,
          -3.34029483795166,
          9.097782135009766,
          0.2741508483886719,
          8.686365127563477,
          -3.209852457046509,
          6.774753093719482,
          3.071160316467285,
          0.4316469430923462,
          3.5856401920318604,
          12.780179023742676,
          2.2816388607025146,
          -5.768796920776367,
          7.938614368438721,
          1.3506685495376587,
          1.7918075323104858,
          9.149157524108887,
          -1.4348838329315186,
          5.430258274078369,
          7.057746410369873,
          0.348209023475647,
          -2.360502243041992,
          7.422802448272705,
          -7.836524963378906,
          6.105607032775879,
          -6.209286212921143,
          7.856590747833252,
          -7.997314929962158,
          -2.6555426120758057,
          -15.870896339416504,
          9.947717666625977,
          -8.756875991821289,
          2.511406898498535,
          -4.5427069664001465,
          3.5474236011505127,
          -5.967832565307617,
          -5.375314235687256,
          1.521456003189087,
          -8.626700401306152,
          -0.7328174710273743,
          -7.619138240814209,
          0.9887590408325195,
          -3.55268931388855,
          5.9266886711120605,
          -9.336495399475098,
          9.061071395874023,
          -1.2039694786071777,
          -10.217833518981934,
          6.177969932556152,
          4.67244815826416,
          -13.34904956817627,
          -12.204625129699707,
          -3.510016918182373,
          3.852631092071533,
          -3.4510531425476074,
          -3.80967378616333,
          -0.6932661533355713,
          1.9922504425048828,
          1.640428066253662,
          -10.643402099609375,
          4.5069146156311035,
          0.5747576355934143,
          -7.8440046310424805,
          -2.5414583683013916,
          13.082745552062988,
          1.6013176441192627,
          5.147622585296631,
          -4.761402606964111,
          6.879060745239258,
          7.032093048095703,
          5.6089982986450195,
          0.7418689727783203,
          -10.46963882446289,
          3.253866672515869,
          -2.9568841457366943,
          -5.6113810539245605,
          -12.90599250793457,
          6.559272289276123,
          5.21280574798584,
          -10.525567054748535
         ],
         "yaxis": "y"
        }
       ],
       "layout": {
        "legend": {
         "title": {
          "text": "agent_model"
         },
         "tracegroupgap": 0
        },
        "margin": {
         "b": 25,
         "l": 25,
         "r": 25,
         "t": 25
        },
        "paper_bgcolor": "rgba(0, 0, 0, 0)",
        "plot_bgcolor": "rgba(0, 0, 0, 0)",
        "template": {
         "data": {
          "bar": [
           {
            "error_x": {
             "color": "#2a3f5f"
            },
            "error_y": {
             "color": "#2a3f5f"
            },
            "marker": {
             "line": {
              "color": "#E5ECF6",
              "width": 0.5
             },
             "pattern": {
              "fillmode": "overlay",
              "size": 10,
              "solidity": 0.2
             }
            },
            "type": "bar"
           }
          ],
          "barpolar": [
           {
            "marker": {
             "line": {
              "color": "#E5ECF6",
              "width": 0.5
             },
             "pattern": {
              "fillmode": "overlay",
              "size": 10,
              "solidity": 0.2
             }
            },
            "type": "barpolar"
           }
          ],
          "carpet": [
           {
            "aaxis": {
             "endlinecolor": "#2a3f5f",
             "gridcolor": "white",
             "linecolor": "white",
             "minorgridcolor": "white",
             "startlinecolor": "#2a3f5f"
            },
            "baxis": {
             "endlinecolor": "#2a3f5f",
             "gridcolor": "white",
             "linecolor": "white",
             "minorgridcolor": "white",
             "startlinecolor": "#2a3f5f"
            },
            "type": "carpet"
           }
          ],
          "choropleth": [
           {
            "colorbar": {
             "outlinewidth": 0,
             "ticks": ""
            },
            "type": "choropleth"
           }
          ],
          "contour": [
           {
            "colorbar": {
             "outlinewidth": 0,
             "ticks": ""
            },
            "colorscale": [
             [
              0,
              "#0d0887"
             ],
             [
              0.1111111111111111,
              "#46039f"
             ],
             [
              0.2222222222222222,
              "#7201a8"
             ],
             [
              0.3333333333333333,
              "#9c179e"
             ],
             [
              0.4444444444444444,
              "#bd3786"
             ],
             [
              0.5555555555555556,
              "#d8576b"
             ],
             [
              0.6666666666666666,
              "#ed7953"
             ],
             [
              0.7777777777777778,
              "#fb9f3a"
             ],
             [
              0.8888888888888888,
              "#fdca26"
             ],
             [
              1,
              "#f0f921"
             ]
            ],
            "type": "contour"
           }
          ],
          "contourcarpet": [
           {
            "colorbar": {
             "outlinewidth": 0,
             "ticks": ""
            },
            "type": "contourcarpet"
           }
          ],
          "heatmap": [
           {
            "colorbar": {
             "outlinewidth": 0,
             "ticks": ""
            },
            "colorscale": [
             [
              0,
              "#0d0887"
             ],
             [
              0.1111111111111111,
              "#46039f"
             ],
             [
              0.2222222222222222,
              "#7201a8"
             ],
             [
              0.3333333333333333,
              "#9c179e"
             ],
             [
              0.4444444444444444,
              "#bd3786"
             ],
             [
              0.5555555555555556,
              "#d8576b"
             ],
             [
              0.6666666666666666,
              "#ed7953"
             ],
             [
              0.7777777777777778,
              "#fb9f3a"
             ],
             [
              0.8888888888888888,
              "#fdca26"
             ],
             [
              1,
              "#f0f921"
             ]
            ],
            "type": "heatmap"
           }
          ],
          "heatmapgl": [
           {
            "colorbar": {
             "outlinewidth": 0,
             "ticks": ""
            },
            "colorscale": [
             [
              0,
              "#0d0887"
             ],
             [
              0.1111111111111111,
              "#46039f"
             ],
             [
              0.2222222222222222,
              "#7201a8"
             ],
             [
              0.3333333333333333,
              "#9c179e"
             ],
             [
              0.4444444444444444,
              "#bd3786"
             ],
             [
              0.5555555555555556,
              "#d8576b"
             ],
             [
              0.6666666666666666,
              "#ed7953"
             ],
             [
              0.7777777777777778,
              "#fb9f3a"
             ],
             [
              0.8888888888888888,
              "#fdca26"
             ],
             [
              1,
              "#f0f921"
             ]
            ],
            "type": "heatmapgl"
           }
          ],
          "histogram": [
           {
            "marker": {
             "pattern": {
              "fillmode": "overlay",
              "size": 10,
              "solidity": 0.2
             }
            },
            "type": "histogram"
           }
          ],
          "histogram2d": [
           {
            "colorbar": {
             "outlinewidth": 0,
             "ticks": ""
            },
            "colorscale": [
             [
              0,
              "#0d0887"
             ],
             [
              0.1111111111111111,
              "#46039f"
             ],
             [
              0.2222222222222222,
              "#7201a8"
             ],
             [
              0.3333333333333333,
              "#9c179e"
             ],
             [
              0.4444444444444444,
              "#bd3786"
             ],
             [
              0.5555555555555556,
              "#d8576b"
             ],
             [
              0.6666666666666666,
              "#ed7953"
             ],
             [
              0.7777777777777778,
              "#fb9f3a"
             ],
             [
              0.8888888888888888,
              "#fdca26"
             ],
             [
              1,
              "#f0f921"
             ]
            ],
            "type": "histogram2d"
           }
          ],
          "histogram2dcontour": [
           {
            "colorbar": {
             "outlinewidth": 0,
             "ticks": ""
            },
            "colorscale": [
             [
              0,
              "#0d0887"
             ],
             [
              0.1111111111111111,
              "#46039f"
             ],
             [
              0.2222222222222222,
              "#7201a8"
             ],
             [
              0.3333333333333333,
              "#9c179e"
             ],
             [
              0.4444444444444444,
              "#bd3786"
             ],
             [
              0.5555555555555556,
              "#d8576b"
             ],
             [
              0.6666666666666666,
              "#ed7953"
             ],
             [
              0.7777777777777778,
              "#fb9f3a"
             ],
             [
              0.8888888888888888,
              "#fdca26"
             ],
             [
              1,
              "#f0f921"
             ]
            ],
            "type": "histogram2dcontour"
           }
          ],
          "mesh3d": [
           {
            "colorbar": {
             "outlinewidth": 0,
             "ticks": ""
            },
            "type": "mesh3d"
           }
          ],
          "parcoords": [
           {
            "line": {
             "colorbar": {
              "outlinewidth": 0,
              "ticks": ""
             }
            },
            "type": "parcoords"
           }
          ],
          "pie": [
           {
            "automargin": true,
            "type": "pie"
           }
          ],
          "scatter": [
           {
            "fillpattern": {
             "fillmode": "overlay",
             "size": 10,
             "solidity": 0.2
            },
            "type": "scatter"
           }
          ],
          "scatter3d": [
           {
            "line": {
             "colorbar": {
              "outlinewidth": 0,
              "ticks": ""
             }
            },
            "marker": {
             "colorbar": {
              "outlinewidth": 0,
              "ticks": ""
             }
            },
            "type": "scatter3d"
           }
          ],
          "scattercarpet": [
           {
            "marker": {
             "colorbar": {
              "outlinewidth": 0,
              "ticks": ""
             }
            },
            "type": "scattercarpet"
           }
          ],
          "scattergeo": [
           {
            "marker": {
             "colorbar": {
              "outlinewidth": 0,
              "ticks": ""
             }
            },
            "type": "scattergeo"
           }
          ],
          "scattergl": [
           {
            "marker": {
             "colorbar": {
              "outlinewidth": 0,
              "ticks": ""
             }
            },
            "type": "scattergl"
           }
          ],
          "scattermapbox": [
           {
            "marker": {
             "colorbar": {
              "outlinewidth": 0,
              "ticks": ""
             }
            },
            "type": "scattermapbox"
           }
          ],
          "scatterpolar": [
           {
            "marker": {
             "colorbar": {
              "outlinewidth": 0,
              "ticks": ""
             }
            },
            "type": "scatterpolar"
           }
          ],
          "scatterpolargl": [
           {
            "marker": {
             "colorbar": {
              "outlinewidth": 0,
              "ticks": ""
             }
            },
            "type": "scatterpolargl"
           }
          ],
          "scatterternary": [
           {
            "marker": {
             "colorbar": {
              "outlinewidth": 0,
              "ticks": ""
             }
            },
            "type": "scatterternary"
           }
          ],
          "surface": [
           {
            "colorbar": {
             "outlinewidth": 0,
             "ticks": ""
            },
            "colorscale": [
             [
              0,
              "#0d0887"
             ],
             [
              0.1111111111111111,
              "#46039f"
             ],
             [
              0.2222222222222222,
              "#7201a8"
             ],
             [
              0.3333333333333333,
              "#9c179e"
             ],
             [
              0.4444444444444444,
              "#bd3786"
             ],
             [
              0.5555555555555556,
              "#d8576b"
             ],
             [
              0.6666666666666666,
              "#ed7953"
             ],
             [
              0.7777777777777778,
              "#fb9f3a"
             ],
             [
              0.8888888888888888,
              "#fdca26"
             ],
             [
              1,
              "#f0f921"
             ]
            ],
            "type": "surface"
           }
          ],
          "table": [
           {
            "cells": {
             "fill": {
              "color": "#EBF0F8"
             },
             "line": {
              "color": "white"
             }
            },
            "header": {
             "fill": {
              "color": "#C8D4E3"
             },
             "line": {
              "color": "white"
             }
            },
            "type": "table"
           }
          ]
         },
         "layout": {
          "annotationdefaults": {
           "arrowcolor": "#2a3f5f",
           "arrowhead": 0,
           "arrowwidth": 1
          },
          "autotypenumbers": "strict",
          "coloraxis": {
           "colorbar": {
            "outlinewidth": 0,
            "ticks": ""
           }
          },
          "colorscale": {
           "diverging": [
            [
             0,
             "#8e0152"
            ],
            [
             0.1,
             "#c51b7d"
            ],
            [
             0.2,
             "#de77ae"
            ],
            [
             0.3,
             "#f1b6da"
            ],
            [
             0.4,
             "#fde0ef"
            ],
            [
             0.5,
             "#f7f7f7"
            ],
            [
             0.6,
             "#e6f5d0"
            ],
            [
             0.7,
             "#b8e186"
            ],
            [
             0.8,
             "#7fbc41"
            ],
            [
             0.9,
             "#4d9221"
            ],
            [
             1,
             "#276419"
            ]
           ],
           "sequential": [
            [
             0,
             "#0d0887"
            ],
            [
             0.1111111111111111,
             "#46039f"
            ],
            [
             0.2222222222222222,
             "#7201a8"
            ],
            [
             0.3333333333333333,
             "#9c179e"
            ],
            [
             0.4444444444444444,
             "#bd3786"
            ],
            [
             0.5555555555555556,
             "#d8576b"
            ],
            [
             0.6666666666666666,
             "#ed7953"
            ],
            [
             0.7777777777777778,
             "#fb9f3a"
            ],
            [
             0.8888888888888888,
             "#fdca26"
            ],
            [
             1,
             "#f0f921"
            ]
           ],
           "sequentialminus": [
            [
             0,
             "#0d0887"
            ],
            [
             0.1111111111111111,
             "#46039f"
            ],
            [
             0.2222222222222222,
             "#7201a8"
            ],
            [
             0.3333333333333333,
             "#9c179e"
            ],
            [
             0.4444444444444444,
             "#bd3786"
            ],
            [
             0.5555555555555556,
             "#d8576b"
            ],
            [
             0.6666666666666666,
             "#ed7953"
            ],
            [
             0.7777777777777778,
             "#fb9f3a"
            ],
            [
             0.8888888888888888,
             "#fdca26"
            ],
            [
             1,
             "#f0f921"
            ]
           ]
          },
          "colorway": [
           "#636efa",
           "#EF553B",
           "#00cc96",
           "#ab63fa",
           "#FFA15A",
           "#19d3f3",
           "#FF6692",
           "#B6E880",
           "#FF97FF",
           "#FECB52"
          ],
          "font": {
           "color": "#2a3f5f"
          },
          "geo": {
           "bgcolor": "white",
           "lakecolor": "white",
           "landcolor": "#E5ECF6",
           "showlakes": true,
           "showland": true,
           "subunitcolor": "white"
          },
          "hoverlabel": {
           "align": "left"
          },
          "hovermode": "closest",
          "mapbox": {
           "style": "light"
          },
          "paper_bgcolor": "white",
          "plot_bgcolor": "#E5ECF6",
          "polar": {
           "angularaxis": {
            "gridcolor": "white",
            "linecolor": "white",
            "ticks": ""
           },
           "bgcolor": "#E5ECF6",
           "radialaxis": {
            "gridcolor": "white",
            "linecolor": "white",
            "ticks": ""
           }
          },
          "scene": {
           "xaxis": {
            "backgroundcolor": "#E5ECF6",
            "gridcolor": "white",
            "gridwidth": 2,
            "linecolor": "white",
            "showbackground": true,
            "ticks": "",
            "zerolinecolor": "white"
           },
           "yaxis": {
            "backgroundcolor": "#E5ECF6",
            "gridcolor": "white",
            "gridwidth": 2,
            "linecolor": "white",
            "showbackground": true,
            "ticks": "",
            "zerolinecolor": "white"
           },
           "zaxis": {
            "backgroundcolor": "#E5ECF6",
            "gridcolor": "white",
            "gridwidth": 2,
            "linecolor": "white",
            "showbackground": true,
            "ticks": "",
            "zerolinecolor": "white"
           }
          },
          "shapedefaults": {
           "line": {
            "color": "#2a3f5f"
           }
          },
          "ternary": {
           "aaxis": {
            "gridcolor": "white",
            "linecolor": "white",
            "ticks": ""
           },
           "baxis": {
            "gridcolor": "white",
            "linecolor": "white",
            "ticks": ""
           },
           "bgcolor": "#E5ECF6",
           "caxis": {
            "gridcolor": "white",
            "linecolor": "white",
            "ticks": ""
           }
          },
          "title": {
           "x": 0.05
          },
          "xaxis": {
           "automargin": true,
           "gridcolor": "white",
           "linecolor": "white",
           "ticks": "",
           "title": {
            "standoff": 15
           },
           "zerolinecolor": "white",
           "zerolinewidth": 2
          },
          "yaxis": {
           "automargin": true,
           "gridcolor": "white",
           "linecolor": "white",
           "ticks": "",
           "title": {
            "standoff": 15
           },
           "zerolinecolor": "white",
           "zerolinewidth": 2
          }
         }
        },
        "title": {
         "text": "PCA of embeddings -- test data",
         "x": 0.5
        },
        "xaxis": {
         "anchor": "y",
         "domain": [
          0,
          1
         ],
         "title": {
          "text": "pca_1"
         }
        },
        "yaxis": {
         "anchor": "x",
         "domain": [
          0,
          1
         ],
         "title": {
          "text": "pca_2"
         }
        }
       }
      }
     },
     "metadata": {},
     "output_type": "display_data"
    }
   ],
   "source": [
    "## draw PCA using plotly\n",
    "\n",
    "df_pca = pd.DataFrame(embeds_pca, columns=['pca_1', 'pca_2'])\n",
    "# df_pca = pd.DataFrame(embeds_pca, columns=['pca_1', 'pca_2', 'pca_3'])\n",
    "df_pca['agent_model'] = models\n",
    "\n",
    "\n",
    "# fig = px.scatter_matrix(df_pca,\n",
    "#                         labels=labels,\n",
    "#                         dimensions=['pca_1', 'pca_2', 'pca_3'],\n",
    "#                         color='agent_model')\n",
    "# fig.update_traces(diagonal_visible=False)\n",
    "\n",
    "# fig = px.scatter_3d(df_pca,\n",
    "#                     x='pca_1', y='pca_2', z='pca_3',\n",
    "#                     color='agent_model')\n",
    "\n",
    "fig = px.scatter(df_pca, \n",
    "                 x=\"pca_1\", y=\"pca_2\",\n",
    "                #  color_discrete_sequence=[\"#14213D\", \"#FCA311\", \"#976391\"],\n",
    "                 color=\"agent_model\",\n",
    "                 title='PCA of embeddings -- test data',)\n",
    "fig.update_layout(margin=dict(l=25, r=25, t=25, b=25),\n",
    "                  plot_bgcolor='rgba(0, 0, 0, 0)',\n",
    "                  paper_bgcolor='rgba(0, 0, 0, 0)',\n",
    "                  title_x=0.5)\n",
    "\n",
    "fig.show()"
   ]
  },
  {
   "cell_type": "code",
   "execution_count": 8,
   "metadata": {},
   "outputs": [
    {
     "data": {
      "application/vnd.plotly.v1+json": {
       "config": {
        "plotlyServerURL": "https://plot.ly"
       },
       "data": [
        {
         "coloraxis": "coloraxis",
         "hovertemplate": "agent type: %{x}<br>agent type: %{y}<br>similarity: %{z}<extra></extra>",
         "name": "0",
         "texttemplate": "%{z}",
         "type": "heatmap",
         "x": [
          "optimal",
          "laggy"
         ],
         "xaxis": "x",
         "y": [
          "optimal",
          "laggy"
         ],
         "yaxis": "y",
         "z": [
          [
           0.4669739305973053,
           0.4718252718448639
          ],
          [
           0.4718252122402191,
           0.46320709586143494
          ]
         ]
        }
       ],
       "layout": {
        "coloraxis": {
         "colorbar": {
          "title": {
           "text": "similarity"
          }
         },
         "colorscale": [
          [
           0,
           "#0d0887"
          ],
          [
           0.1111111111111111,
           "#46039f"
          ],
          [
           0.2222222222222222,
           "#7201a8"
          ],
          [
           0.3333333333333333,
           "#9c179e"
          ],
          [
           0.4444444444444444,
           "#bd3786"
          ],
          [
           0.5555555555555556,
           "#d8576b"
          ],
          [
           0.6666666666666666,
           "#ed7953"
          ],
          [
           0.7777777777777778,
           "#fb9f3a"
          ],
          [
           0.8888888888888888,
           "#fdca26"
          ],
          [
           1,
           "#f0f921"
          ]
         ]
        },
        "margin": {
         "t": 60
        },
        "template": {
         "data": {
          "bar": [
           {
            "error_x": {
             "color": "#2a3f5f"
            },
            "error_y": {
             "color": "#2a3f5f"
            },
            "marker": {
             "line": {
              "color": "#E5ECF6",
              "width": 0.5
             },
             "pattern": {
              "fillmode": "overlay",
              "size": 10,
              "solidity": 0.2
             }
            },
            "type": "bar"
           }
          ],
          "barpolar": [
           {
            "marker": {
             "line": {
              "color": "#E5ECF6",
              "width": 0.5
             },
             "pattern": {
              "fillmode": "overlay",
              "size": 10,
              "solidity": 0.2
             }
            },
            "type": "barpolar"
           }
          ],
          "carpet": [
           {
            "aaxis": {
             "endlinecolor": "#2a3f5f",
             "gridcolor": "white",
             "linecolor": "white",
             "minorgridcolor": "white",
             "startlinecolor": "#2a3f5f"
            },
            "baxis": {
             "endlinecolor": "#2a3f5f",
             "gridcolor": "white",
             "linecolor": "white",
             "minorgridcolor": "white",
             "startlinecolor": "#2a3f5f"
            },
            "type": "carpet"
           }
          ],
          "choropleth": [
           {
            "colorbar": {
             "outlinewidth": 0,
             "ticks": ""
            },
            "type": "choropleth"
           }
          ],
          "contour": [
           {
            "colorbar": {
             "outlinewidth": 0,
             "ticks": ""
            },
            "colorscale": [
             [
              0,
              "#0d0887"
             ],
             [
              0.1111111111111111,
              "#46039f"
             ],
             [
              0.2222222222222222,
              "#7201a8"
             ],
             [
              0.3333333333333333,
              "#9c179e"
             ],
             [
              0.4444444444444444,
              "#bd3786"
             ],
             [
              0.5555555555555556,
              "#d8576b"
             ],
             [
              0.6666666666666666,
              "#ed7953"
             ],
             [
              0.7777777777777778,
              "#fb9f3a"
             ],
             [
              0.8888888888888888,
              "#fdca26"
             ],
             [
              1,
              "#f0f921"
             ]
            ],
            "type": "contour"
           }
          ],
          "contourcarpet": [
           {
            "colorbar": {
             "outlinewidth": 0,
             "ticks": ""
            },
            "type": "contourcarpet"
           }
          ],
          "heatmap": [
           {
            "colorbar": {
             "outlinewidth": 0,
             "ticks": ""
            },
            "colorscale": [
             [
              0,
              "#0d0887"
             ],
             [
              0.1111111111111111,
              "#46039f"
             ],
             [
              0.2222222222222222,
              "#7201a8"
             ],
             [
              0.3333333333333333,
              "#9c179e"
             ],
             [
              0.4444444444444444,
              "#bd3786"
             ],
             [
              0.5555555555555556,
              "#d8576b"
             ],
             [
              0.6666666666666666,
              "#ed7953"
             ],
             [
              0.7777777777777778,
              "#fb9f3a"
             ],
             [
              0.8888888888888888,
              "#fdca26"
             ],
             [
              1,
              "#f0f921"
             ]
            ],
            "type": "heatmap"
           }
          ],
          "heatmapgl": [
           {
            "colorbar": {
             "outlinewidth": 0,
             "ticks": ""
            },
            "colorscale": [
             [
              0,
              "#0d0887"
             ],
             [
              0.1111111111111111,
              "#46039f"
             ],
             [
              0.2222222222222222,
              "#7201a8"
             ],
             [
              0.3333333333333333,
              "#9c179e"
             ],
             [
              0.4444444444444444,
              "#bd3786"
             ],
             [
              0.5555555555555556,
              "#d8576b"
             ],
             [
              0.6666666666666666,
              "#ed7953"
             ],
             [
              0.7777777777777778,
              "#fb9f3a"
             ],
             [
              0.8888888888888888,
              "#fdca26"
             ],
             [
              1,
              "#f0f921"
             ]
            ],
            "type": "heatmapgl"
           }
          ],
          "histogram": [
           {
            "marker": {
             "pattern": {
              "fillmode": "overlay",
              "size": 10,
              "solidity": 0.2
             }
            },
            "type": "histogram"
           }
          ],
          "histogram2d": [
           {
            "colorbar": {
             "outlinewidth": 0,
             "ticks": ""
            },
            "colorscale": [
             [
              0,
              "#0d0887"
             ],
             [
              0.1111111111111111,
              "#46039f"
             ],
             [
              0.2222222222222222,
              "#7201a8"
             ],
             [
              0.3333333333333333,
              "#9c179e"
             ],
             [
              0.4444444444444444,
              "#bd3786"
             ],
             [
              0.5555555555555556,
              "#d8576b"
             ],
             [
              0.6666666666666666,
              "#ed7953"
             ],
             [
              0.7777777777777778,
              "#fb9f3a"
             ],
             [
              0.8888888888888888,
              "#fdca26"
             ],
             [
              1,
              "#f0f921"
             ]
            ],
            "type": "histogram2d"
           }
          ],
          "histogram2dcontour": [
           {
            "colorbar": {
             "outlinewidth": 0,
             "ticks": ""
            },
            "colorscale": [
             [
              0,
              "#0d0887"
             ],
             [
              0.1111111111111111,
              "#46039f"
             ],
             [
              0.2222222222222222,
              "#7201a8"
             ],
             [
              0.3333333333333333,
              "#9c179e"
             ],
             [
              0.4444444444444444,
              "#bd3786"
             ],
             [
              0.5555555555555556,
              "#d8576b"
             ],
             [
              0.6666666666666666,
              "#ed7953"
             ],
             [
              0.7777777777777778,
              "#fb9f3a"
             ],
             [
              0.8888888888888888,
              "#fdca26"
             ],
             [
              1,
              "#f0f921"
             ]
            ],
            "type": "histogram2dcontour"
           }
          ],
          "mesh3d": [
           {
            "colorbar": {
             "outlinewidth": 0,
             "ticks": ""
            },
            "type": "mesh3d"
           }
          ],
          "parcoords": [
           {
            "line": {
             "colorbar": {
              "outlinewidth": 0,
              "ticks": ""
             }
            },
            "type": "parcoords"
           }
          ],
          "pie": [
           {
            "automargin": true,
            "type": "pie"
           }
          ],
          "scatter": [
           {
            "fillpattern": {
             "fillmode": "overlay",
             "size": 10,
             "solidity": 0.2
            },
            "type": "scatter"
           }
          ],
          "scatter3d": [
           {
            "line": {
             "colorbar": {
              "outlinewidth": 0,
              "ticks": ""
             }
            },
            "marker": {
             "colorbar": {
              "outlinewidth": 0,
              "ticks": ""
             }
            },
            "type": "scatter3d"
           }
          ],
          "scattercarpet": [
           {
            "marker": {
             "colorbar": {
              "outlinewidth": 0,
              "ticks": ""
             }
            },
            "type": "scattercarpet"
           }
          ],
          "scattergeo": [
           {
            "marker": {
             "colorbar": {
              "outlinewidth": 0,
              "ticks": ""
             }
            },
            "type": "scattergeo"
           }
          ],
          "scattergl": [
           {
            "marker": {
             "colorbar": {
              "outlinewidth": 0,
              "ticks": ""
             }
            },
            "type": "scattergl"
           }
          ],
          "scattermapbox": [
           {
            "marker": {
             "colorbar": {
              "outlinewidth": 0,
              "ticks": ""
             }
            },
            "type": "scattermapbox"
           }
          ],
          "scatterpolar": [
           {
            "marker": {
             "colorbar": {
              "outlinewidth": 0,
              "ticks": ""
             }
            },
            "type": "scatterpolar"
           }
          ],
          "scatterpolargl": [
           {
            "marker": {
             "colorbar": {
              "outlinewidth": 0,
              "ticks": ""
             }
            },
            "type": "scatterpolargl"
           }
          ],
          "scatterternary": [
           {
            "marker": {
             "colorbar": {
              "outlinewidth": 0,
              "ticks": ""
             }
            },
            "type": "scatterternary"
           }
          ],
          "surface": [
           {
            "colorbar": {
             "outlinewidth": 0,
             "ticks": ""
            },
            "colorscale": [
             [
              0,
              "#0d0887"
             ],
             [
              0.1111111111111111,
              "#46039f"
             ],
             [
              0.2222222222222222,
              "#7201a8"
             ],
             [
              0.3333333333333333,
              "#9c179e"
             ],
             [
              0.4444444444444444,
              "#bd3786"
             ],
             [
              0.5555555555555556,
              "#d8576b"
             ],
             [
              0.6666666666666666,
              "#ed7953"
             ],
             [
              0.7777777777777778,
              "#fb9f3a"
             ],
             [
              0.8888888888888888,
              "#fdca26"
             ],
             [
              1,
              "#f0f921"
             ]
            ],
            "type": "surface"
           }
          ],
          "table": [
           {
            "cells": {
             "fill": {
              "color": "#EBF0F8"
             },
             "line": {
              "color": "white"
             }
            },
            "header": {
             "fill": {
              "color": "#C8D4E3"
             },
             "line": {
              "color": "white"
             }
            },
            "type": "table"
           }
          ]
         },
         "layout": {
          "annotationdefaults": {
           "arrowcolor": "#2a3f5f",
           "arrowhead": 0,
           "arrowwidth": 1
          },
          "autotypenumbers": "strict",
          "coloraxis": {
           "colorbar": {
            "outlinewidth": 0,
            "ticks": ""
           }
          },
          "colorscale": {
           "diverging": [
            [
             0,
             "#8e0152"
            ],
            [
             0.1,
             "#c51b7d"
            ],
            [
             0.2,
             "#de77ae"
            ],
            [
             0.3,
             "#f1b6da"
            ],
            [
             0.4,
             "#fde0ef"
            ],
            [
             0.5,
             "#f7f7f7"
            ],
            [
             0.6,
             "#e6f5d0"
            ],
            [
             0.7,
             "#b8e186"
            ],
            [
             0.8,
             "#7fbc41"
            ],
            [
             0.9,
             "#4d9221"
            ],
            [
             1,
             "#276419"
            ]
           ],
           "sequential": [
            [
             0,
             "#0d0887"
            ],
            [
             0.1111111111111111,
             "#46039f"
            ],
            [
             0.2222222222222222,
             "#7201a8"
            ],
            [
             0.3333333333333333,
             "#9c179e"
            ],
            [
             0.4444444444444444,
             "#bd3786"
            ],
            [
             0.5555555555555556,
             "#d8576b"
            ],
            [
             0.6666666666666666,
             "#ed7953"
            ],
            [
             0.7777777777777778,
             "#fb9f3a"
            ],
            [
             0.8888888888888888,
             "#fdca26"
            ],
            [
             1,
             "#f0f921"
            ]
           ],
           "sequentialminus": [
            [
             0,
             "#0d0887"
            ],
            [
             0.1111111111111111,
             "#46039f"
            ],
            [
             0.2222222222222222,
             "#7201a8"
            ],
            [
             0.3333333333333333,
             "#9c179e"
            ],
            [
             0.4444444444444444,
             "#bd3786"
            ],
            [
             0.5555555555555556,
             "#d8576b"
            ],
            [
             0.6666666666666666,
             "#ed7953"
            ],
            [
             0.7777777777777778,
             "#fb9f3a"
            ],
            [
             0.8888888888888888,
             "#fdca26"
            ],
            [
             1,
             "#f0f921"
            ]
           ]
          },
          "colorway": [
           "#636efa",
           "#EF553B",
           "#00cc96",
           "#ab63fa",
           "#FFA15A",
           "#19d3f3",
           "#FF6692",
           "#B6E880",
           "#FF97FF",
           "#FECB52"
          ],
          "font": {
           "color": "#2a3f5f"
          },
          "geo": {
           "bgcolor": "white",
           "lakecolor": "white",
           "landcolor": "#E5ECF6",
           "showlakes": true,
           "showland": true,
           "subunitcolor": "white"
          },
          "hoverlabel": {
           "align": "left"
          },
          "hovermode": "closest",
          "mapbox": {
           "style": "light"
          },
          "paper_bgcolor": "white",
          "plot_bgcolor": "#E5ECF6",
          "polar": {
           "angularaxis": {
            "gridcolor": "white",
            "linecolor": "white",
            "ticks": ""
           },
           "bgcolor": "#E5ECF6",
           "radialaxis": {
            "gridcolor": "white",
            "linecolor": "white",
            "ticks": ""
           }
          },
          "scene": {
           "xaxis": {
            "backgroundcolor": "#E5ECF6",
            "gridcolor": "white",
            "gridwidth": 2,
            "linecolor": "white",
            "showbackground": true,
            "ticks": "",
            "zerolinecolor": "white"
           },
           "yaxis": {
            "backgroundcolor": "#E5ECF6",
            "gridcolor": "white",
            "gridwidth": 2,
            "linecolor": "white",
            "showbackground": true,
            "ticks": "",
            "zerolinecolor": "white"
           },
           "zaxis": {
            "backgroundcolor": "#E5ECF6",
            "gridcolor": "white",
            "gridwidth": 2,
            "linecolor": "white",
            "showbackground": true,
            "ticks": "",
            "zerolinecolor": "white"
           }
          },
          "shapedefaults": {
           "line": {
            "color": "#2a3f5f"
           }
          },
          "ternary": {
           "aaxis": {
            "gridcolor": "white",
            "linecolor": "white",
            "ticks": ""
           },
           "baxis": {
            "gridcolor": "white",
            "linecolor": "white",
            "ticks": ""
           },
           "bgcolor": "#E5ECF6",
           "caxis": {
            "gridcolor": "white",
            "linecolor": "white",
            "ticks": ""
           }
          },
          "title": {
           "x": 0.05
          },
          "xaxis": {
           "automargin": true,
           "gridcolor": "white",
           "linecolor": "white",
           "ticks": "",
           "title": {
            "standoff": 15
           },
           "zerolinecolor": "white",
           "zerolinewidth": 2
          },
          "yaxis": {
           "automargin": true,
           "gridcolor": "white",
           "linecolor": "white",
           "ticks": "",
           "title": {
            "standoff": 15
           },
           "zerolinecolor": "white",
           "zerolinewidth": 2
          }
         }
        },
        "xaxis": {
         "anchor": "y",
         "constrain": "domain",
         "domain": [
          0,
          1
         ],
         "scaleanchor": "y",
         "side": "top",
         "title": {
          "text": "agent type"
         }
        },
        "yaxis": {
         "anchor": "x",
         "autorange": "reversed",
         "constrain": "domain",
         "domain": [
          0,
          1
         ],
         "title": {
          "text": "agent type"
         }
        }
       }
      }
     },
     "metadata": {},
     "output_type": "display_data"
    }
   ],
   "source": [
    "## similarity matrix\n",
    "\n",
    "sim_matrix = np.zeros([len(agent_models), len(agent_models)])\n",
    "for l1 in range(len(agent_models)):\n",
    "    for l2 in range(len(agent_models)):\n",
    "        if l1 != l2:\n",
    "            sim_matrix[l1, l2] = cosine_similarity(embeddings_sep[l1], embeddings_sep[l2]).mean()\n",
    "        else:\n",
    "            mask = np.ones([len(embeddings_sep[l1]),len(embeddings_sep[l2])], dtype=bool)\n",
    "            np.fill_diagonal(mask, 0)\n",
    "            sim_matrix[l1, l2] = (cosine_similarity(embeddings_sep[l1], embeddings_sep[l2])*mask).mean()\n",
    "\n",
    "## plot similarity matrix\n",
    "fig = px.imshow(sim_matrix,\n",
    "                labels=dict(x=\"agent type\", y=\"agent type\", color=\"similarity\"),\n",
    "                x=['optimal', 'laggy'],\n",
    "                y=['optimal', 'laggy'],\n",
    "                text_auto=True\n",
    "               )\n",
    "fig.update_xaxes(side=\"top\")\n",
    "fig.show()"
   ]
  },
  {
   "cell_type": "code",
   "execution_count": 21,
   "metadata": {},
   "outputs": [
    {
     "name": "stdout",
     "output_type": "stream",
     "text": [
      "[t-SNE] Computing 91 nearest neighbors...\n",
      "[t-SNE] Indexed 192 samples in 0.000s...\n",
      "[t-SNE] Computed neighbors for 192 samples in 0.011s...\n",
      "[t-SNE] Computed conditional probabilities for sample 192 / 192\n",
      "[t-SNE] Mean sigma: 6.709093\n",
      "[t-SNE] KL divergence after 250 iterations with early exaggeration: 52.422657\n",
      "[t-SNE] KL divergence after 1000 iterations: 0.825109\n"
     ]
    },
    {
     "data": {
      "text/plain": [
       "<matplotlib.collections.PathCollection at 0x7f1983e85630>"
      ]
     },
     "execution_count": 21,
     "metadata": {},
     "output_type": "execute_result"
    }
   ],
   "source": [
    "color_dict = {0:'#14213D', 1:'#FCA311', 2:'#976391'}\n",
    "# 0: 14213D\n",
    "# 1: FCA311\n",
    "# 2: 976391\n",
    "colors = list(map(color_dict.get, labels))\n",
    "\n",
    "# tsne = TSNE(3, verbose=1)\n",
    "tsne = TSNE(2, verbose=1)\n",
    "tsne_proj = tsne.fit_transform(embeddings)\n",
    "\n",
    "# ax = plt.figure().add_subplot(projection='3d')\n",
    "ax = plt.figure().add_subplot()\n",
    "plt.scatter(tsne_proj[:,0],\n",
    "            tsne_proj[:,1],\n",
    "            # tsne_proj[:,2],\n",
    "            color=colors)"
   ]
  },
  {
   "attachments": {},
   "cell_type": "markdown",
   "metadata": {},
   "source": [
    "# Plot Trajectory"
   ]
  },
  {
   "cell_type": "code",
   "execution_count": 9,
   "metadata": {},
   "outputs": [],
   "source": [
    "import numpy as np\n",
    "import pandas as pd\n",
    "import os\n",
    "# %matplotlib qt\n",
    "import matplotlib.pyplot as plt\n",
    "# import plotly.express as px\n",
    "# import itertools\n",
    "\n",
    "import skvideo.io"
   ]
  },
  {
   "cell_type": "code",
   "execution_count": 38,
   "metadata": {},
   "outputs": [
    {
     "name": "stdout",
     "output_type": "stream",
     "text": [
      "done\n"
     ]
    }
   ],
   "source": [
    "data_root_dir = os.getcwd() + '/data_videos/'\n",
    "agent = 'laggy'\n",
    "\n",
    "root_dir = data_root_dir + agent + '-test/'\n",
    "file = f'final-model-ppo-LunarLander-v2-{agent}-0.mp4'\n",
    "frames = skvideo.io.vread(root_dir + file)\n",
    "truth_data = np.load(root_dir+'env_grids.npy')[0]\n",
    "agent_poss = np.stack(np.load(root_dir+'agent_poss.npz')['arr_0'])\n",
    "\n",
    "\n",
    "print('done')"
   ]
  },
  {
   "cell_type": "code",
   "execution_count": 37,
   "metadata": {},
   "outputs": [
    {
     "data": {
      "text/plain": [
       "(142, 2)"
      ]
     },
     "execution_count": 37,
     "metadata": {},
     "output_type": "execute_result"
    }
   ],
   "source": [
    "agent_poss['arr_0'].shape"
   ]
  }
 ],
 "metadata": {
  "kernelspec": {
   "display_name": "rl",
   "language": "python",
   "name": "python3"
  },
  "language_info": {
   "codemirror_mode": {
    "name": "ipython",
    "version": 3
   },
   "file_extension": ".py",
   "mimetype": "text/x-python",
   "name": "python",
   "nbconvert_exporter": "python",
   "pygments_lexer": "ipython3",
   "version": "3.10.8"
  },
  "orig_nbformat": 4
 },
 "nbformat": 4,
 "nbformat_minor": 2
}
