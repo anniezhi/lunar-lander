{
 "cells": [
  {
   "attachments": {},
   "cell_type": "markdown",
   "metadata": {},
   "source": [
    "# Plot Embeddings"
   ]
  },
  {
   "cell_type": "code",
   "execution_count": 7,
   "metadata": {},
   "outputs": [],
   "source": [
    "import numpy as np\n",
    "import pandas as pd\n",
    "import os\n",
    "from sklearn.decomposition import PCA\n",
    "from sklearn.discriminant_analysis import LinearDiscriminantAnalysis\n",
    "from sklearn.manifold import TSNE\n",
    "from sklearn.metrics.pairwise import cosine_similarity\n",
    "%matplotlib qt\n",
    "import matplotlib.pyplot as plt\n",
    "import plotly.express as px\n",
    "import itertools"
   ]
  },
  {
   "cell_type": "code",
   "execution_count": 8,
   "metadata": {},
   "outputs": [],
   "source": [
    "## globals args\n",
    "data_root_dir = os.getcwd() + '/plots_vae/'\n",
    "vae_model = 'optimal-laggy-80-filled-s20-2'\n",
    "\n",
    "agent_models = [\n",
    "               'optimal',\n",
    "               'laggy'\n",
    "               ]"
   ]
  },
  {
   "cell_type": "code",
   "execution_count": 27,
   "metadata": {},
   "outputs": [],
   "source": [
    "## load embeddings\n",
    "embeddings = []\n",
    "embeddings_sep = []\n",
    "labels = []\n",
    "label_counts = []\n",
    "\n",
    "for idx, agent in enumerate(agent_models):\n",
    "    embedding_dir = data_root_dir + vae_model + '/' + agent + '/'\n",
    "    embed = np.load(embedding_dir + 'embeddings-trainmixed.npy')\n",
    "    labels.append([idx] * len(embed))\n",
    "    label_counts.append(len(embed))\n",
    "    embeddings.append(embed)\n",
    "    # embeddings_sep.append((embed - embed.mean(0, keepdims=True)) / embed.std(axis=0))\n",
    "    embeddings_sep.append(embed / np.linalg.norm(embed, 2))\n",
    "\n",
    "embeddings = np.concatenate(embeddings)\n",
    "embeddings = (embeddings - embeddings.mean(0, keepdims=True)) / embeddings.std(axis=0)\n",
    "labels = list(itertools.chain(*labels))\n",
    "agent_dict = {0: \"optimal\", 1:\"laggy\"} \n",
    "models = list(map(agent_dict.get, labels))"
   ]
  },
  {
   "cell_type": "code",
   "execution_count": 28,
   "metadata": {},
   "outputs": [],
   "source": [
    "# pca = PCA(n_components=3)\n",
    "pca = PCA(n_components=2)\n",
    "embeds_pca = pca.fit_transform(embeddings)\n",
    "\n",
    "## draw PCA using matplotlib\n",
    "# ax= plt.figure().add_subplot(projection='3d')\n",
    "# # ax= plt.figure().add_subplot()\n",
    "\n",
    "# ax.scatter(reduced_embeds[:,0],\n",
    "#             reduced_embeds[:,1],\n",
    "#             reduced_embeds[:,2],\n",
    "#             c = colors)\n",
    "\n",
    "# plt.show()"
   ]
  },
  {
   "cell_type": "code",
   "execution_count": 29,
   "metadata": {},
   "outputs": [
    {
     "data": {
      "application/vnd.plotly.v1+json": {
       "config": {
        "plotlyServerURL": "https://plot.ly"
       },
       "data": [
        {
         "hovertemplate": "agent_model=optimal<br>pca_1=%{x}<br>pca_2=%{y}<extra></extra>",
         "legendgroup": "optimal",
         "marker": {
          "color": "#636efa",
          "symbol": "circle"
         },
         "mode": "markers",
         "name": "optimal",
         "orientation": "v",
         "showlegend": true,
         "type": "scatter",
         "x": [
          -1.2109663486480713,
          2.8683090209960938,
          -2.6445679664611816,
          0.7899242639541626,
          -4.121697902679443,
          12.620931625366211,
          -5.249749660491943,
          10.131831169128418,
          -16.7710018157959,
          -8.65655517578125,
          -14.214729309082031,
          -12.932408332824707,
          1.122413158416748,
          -4.143723964691162,
          -3.8147127628326416,
          -4.332502365112305,
          9.044820785522461,
          2.920583486557007,
          3.9360384941101074,
          -0.8789529204368591,
          0.6498710513114929,
          3.076687812805176,
          13.18249797821045,
          1.0490577220916748,
          8.9459228515625,
          19.16429901123047,
          5.040975570678711,
          -15.078496932983398,
          5.655158042907715,
          -9.497703552246094,
          8.8744535446167,
          -8.849425315856934,
          -0.4185560941696167,
          7.9253387451171875,
          -4.921416282653809,
          -8.743021965026855,
          -2.197554349899292,
          -1.070579171180725,
          -15.430036544799805,
          6.220090389251709,
          -2.303412437438965,
          6.290764331817627,
          2.675729751586914,
          1.0367999076843262,
          0.16982151567935944,
          -4.266382694244385,
          -6.426577091217041,
          0.012810738757252693,
          6.2304534912109375,
          -13.559800148010254,
          -1.5263594388961792,
          2.2774851322174072,
          2.0160675048828125,
          -1.4765256643295288,
          -6.011282920837402,
          2.2884037494659424,
          3.4457590579986572,
          -6.003052711486816,
          3.9269042015075684,
          -5.940141677856445,
          4.912271499633789,
          4.372983932495117,
          6.126168251037598,
          -5.008549213409424,
          14.471177101135254,
          6.263242721557617,
          4.6041789054870605,
          2.7028820514678955,
          -13.589272499084473,
          5.203407287597656,
          -12.88985538482666,
          -1.9265905618667603,
          2.754204034805298,
          -11.416509628295898,
          -11.011116027832031,
          -3.5940818786621094,
          4.368805885314941,
          7.308041095733643,
          -4.8554229736328125,
          8.674263000488281,
          -3.0227859020233154,
          6.547431945800781,
          -12.159707069396973,
          -2.4822726249694824,
          4.409491062164307,
          1.0685175657272339,
          5.531716823577881,
          8.01284122467041,
          -1.59498929977417,
          1.997568130493164,
          -1.8986037969589233,
          0.03856811672449112,
          -9.843512535095215,
          4.331119060516357,
          3.452493906021118,
          12.564738273620605,
          -1.2982465028762817,
          -7.64678955078125,
          -11.732979774475098,
          5.343093395233154
         ],
         "xaxis": "x",
         "y": [
          -13.096683502197266,
          -7.769090175628662,
          -13.836080551147461,
          -4.41605806350708,
          -6.057973384857178,
          0.2783485949039459,
          11.96108627319336,
          -1.685638427734375,
          0.053960371762514114,
          2.945899486541748,
          1.1268565654754639,
          -3.5072875022888184,
          -2.291287660598755,
          -7.318042755126953,
          -0.9482977390289307,
          10.726762771606445,
          -9.894726753234863,
          2.9949679374694824,
          -2.9686384201049805,
          3.218475818634033,
          -1.5491331815719604,
          17.222238540649414,
          1.0664750337600708,
          12.092164993286133,
          0.9225478172302246,
          -1.5393931865692139,
          5.011235237121582,
          1.7323733568191528,
          -4.916234016418457,
          -2.0587003231048584,
          0.7562025189399719,
          4.996682643890381,
          -0.15188062191009521,
          1.0832016468048096,
          -2.5949866771698,
          2.034289598464966,
          2.262455463409424,
          19.820398330688477,
          2.59085750579834,
          4.944408893585205,
          -10.204815864562988,
          1.3655304908752441,
          3.156898021697998,
          -6.464022636413574,
          -0.18680381774902344,
          3.9716296195983887,
          -6.5784993171691895,
          13.09896469116211,
          -12.655951499938965,
          -3.782170534133911,
          10.484020233154297,
          -5.782116413116455,
          -3.1588830947875977,
          -2.136016845703125,
          -4.588412761688232,
          -5.195914268493652,
          -0.14374734461307526,
          10.970000267028809,
          3.263421058654785,
          7.522226810455322,
          7.233857154846191,
          0.2572488784790039,
          -3.3595774173736572,
          9.608548164367676,
          3.982818841934204,
          -2.930838108062744,
          -0.17384983599185944,
          7.46984338760376,
          -6.788051605224609,
          -3.2565059661865234,
          8.805014610290527,
          -5.877756118774414,
          -11.238967895507812,
          -8.248132705688477,
          -2.1993637084960938,
          -3.8388421535491943,
          -8.407276153564453,
          1.3853175640106201,
          -1.2934539318084717,
          -1.5150129795074463,
          -11.879050254821777,
          9.3366117477417,
          -3.3547544479370117,
          5.92767333984375,
          3.3959450721740723,
          -4.2926154136657715,
          -8.123291015625,
          -6.996071815490723,
          2.6027839183807373,
          1.3993123769760132,
          -1.7786674499511719,
          6.613503932952881,
          3.501215934753418,
          2.3204445838928223,
          -4.855906009674072,
          1.9265440702438354,
          6.400872707366943,
          1.911971092224121,
          2.645925283432007,
          2.8004343509674072
         ],
         "yaxis": "y"
        },
        {
         "hovertemplate": "agent_model=laggy<br>pca_1=%{x}<br>pca_2=%{y}<extra></extra>",
         "legendgroup": "laggy",
         "marker": {
          "color": "#EF553B",
          "symbol": "circle"
         },
         "mode": "markers",
         "name": "laggy",
         "orientation": "v",
         "showlegend": true,
         "type": "scatter",
         "x": [
          -5.327502250671387,
          7.379080295562744,
          19.345571517944336,
          4.970534324645996,
          -9.910096168518066,
          -2.650599956512451,
          1.1179174184799194,
          -9.372222900390625,
          -0.8315410017967224,
          2.515943765640259,
          -13.442028999328613,
          -3.4587161540985107,
          -2.5304348468780518,
          7.08173131942749,
          -4.462795257568359,
          8.246187210083008,
          -15.72124195098877,
          7.063198089599609,
          10.162105560302734,
          2.2881619930267334,
          14.345995903015137,
          -15.040675163269043,
          10.067493438720703,
          -1.3375232219696045,
          3.624790906906128,
          -0.5668277740478516,
          -7.176183700561523,
          10.295883178710938,
          -7.278841972351074,
          4.697911262512207,
          7.581827163696289,
          -3.771146535873413,
          3.7165098190307617,
          -5.8530168533325195,
          0.7051694393157959,
          -9.006220817565918,
          -5.138598918914795,
          -11.756129264831543,
          -4.657325744628906,
          -15.896306037902832,
          3.3322527408599854,
          6.786292552947998,
          9.397860527038574,
          4.5260515213012695,
          -6.973460674285889,
          7.482646465301514,
          1.616888403892517,
          -6.79266357421875,
          0.2614341974258423,
          2.7750117778778076,
          -5.99409294128418,
          1.118387222290039,
          -1.66471529006958,
          0.5882293581962585,
          -3.0289089679718018,
          -1.1906503438949585,
          6.269062042236328,
          -4.561985969543457,
          -11.418418884277344,
          3.4276599884033203,
          -5.564504623413086,
          -0.7570669054985046,
          2.3614745140075684,
          6.158663272857666,
          12.275200843811035,
          3.946495771408081,
          3.0607099533081055,
          -6.599394798278809,
          -9.106812477111816,
          0.4259396195411682,
          12.52649974822998,
          0.17238768935203552,
          -3.7708487510681152,
          -8.761809349060059,
          -6.302509784698486,
          5.856419563293457,
          -3.5191893577575684,
          11.767751693725586,
          -3.0415377616882324,
          5.241703033447266,
          -7.49101448059082,
          5.671619415283203,
          9.370146751403809,
          5.084020614624023,
          -2.7234175205230713,
          6.20536470413208,
          15.255610466003418,
          -3.670501232147217,
          12.3925199508667,
          2.8951945304870605,
          -2.2210044860839844,
          -3.1012747287750244
         ],
         "xaxis": "x",
         "y": [
          6.910395622253418,
          4.7251458168029785,
          3.9889214038848877,
          4.300208568572998,
          8.827482223510742,
          1.3179383277893066,
          4.249271392822266,
          -2.4484996795654297,
          -12.114078521728516,
          -4.983179569244385,
          -0.9192131161689758,
          -2.1679298877716064,
          6.08302116394043,
          -1.6518362760543823,
          -11.514410972595215,
          -8.780814170837402,
          3.851245403289795,
          -15.924348831176758,
          8.570159912109375,
          6.432520389556885,
          5.789005279541016,
          -4.821232795715332,
          11.215458869934082,
          -3.1009230613708496,
          6.4196062088012695,
          3.036961793899536,
          -3.262281894683838,
          13.138082504272461,
          5.831663131713867,
          -13.159956932067871,
          -13.388712882995605,
          -9.92530632019043,
          -6.497537612915039,
          0.6409826874732971,
          9.664815902709961,
          10.484816551208496,
          -9.72931957244873,
          -5.92518424987793,
          7.019670009613037,
          0.059919845312833786,
          4.235885143280029,
          6.070134162902832,
          -6.375016212463379,
          -4.85666561126709,
          3.654463291168213,
          2.18473744392395,
          -11.128632545471191,
          -6.625493049621582,
          8.664698600769043,
          0.5968055725097656,
          -4.801199436187744,
          0.3942122161388397,
          2.6470015048980713,
          6.2653937339782715,
          8.062411308288574,
          -12.67772388458252,
          6.876673221588135,
          3.5938069820404053,
          3.8830738067626953,
          8.381170272827148,
          -3.919092893600464,
          -10.540143013000488,
          6.725030422210693,
          -4.577640056610107,
          5.711024284362793,
          -2.9671521186828613,
          -7.143923282623291,
          4.796354293823242,
          2.9267919063568115,
          6.77788782119751,
          2.2414515018463135,
          0.5327889919281006,
          1.0172148942947388,
          10.85361385345459,
          4.663144588470459,
          -3.3674376010894775,
          9.234990119934082,
          -5.702082633972168,
          -6.838545322418213,
          0.7200486660003662,
          -3.6817967891693115,
          5.378065586090088,
          7.438292503356934,
          10.246858596801758,
          -7.278923988342285,
          1.8153904676437378,
          -2.5020840167999268,
          -6.6507487297058105,
          -7.17507791519165,
          -4.9332451820373535,
          -15.817283630371094,
          -14.58701229095459
         ],
         "yaxis": "y"
        }
       ],
       "layout": {
        "legend": {
         "title": {
          "text": "agent_model"
         },
         "tracegroupgap": 0
        },
        "margin": {
         "b": 25,
         "l": 25,
         "r": 25,
         "t": 25
        },
        "paper_bgcolor": "rgba(0, 0, 0, 0)",
        "plot_bgcolor": "rgba(0, 0, 0, 0)",
        "template": {
         "data": {
          "bar": [
           {
            "error_x": {
             "color": "#2a3f5f"
            },
            "error_y": {
             "color": "#2a3f5f"
            },
            "marker": {
             "line": {
              "color": "#E5ECF6",
              "width": 0.5
             },
             "pattern": {
              "fillmode": "overlay",
              "size": 10,
              "solidity": 0.2
             }
            },
            "type": "bar"
           }
          ],
          "barpolar": [
           {
            "marker": {
             "line": {
              "color": "#E5ECF6",
              "width": 0.5
             },
             "pattern": {
              "fillmode": "overlay",
              "size": 10,
              "solidity": 0.2
             }
            },
            "type": "barpolar"
           }
          ],
          "carpet": [
           {
            "aaxis": {
             "endlinecolor": "#2a3f5f",
             "gridcolor": "white",
             "linecolor": "white",
             "minorgridcolor": "white",
             "startlinecolor": "#2a3f5f"
            },
            "baxis": {
             "endlinecolor": "#2a3f5f",
             "gridcolor": "white",
             "linecolor": "white",
             "minorgridcolor": "white",
             "startlinecolor": "#2a3f5f"
            },
            "type": "carpet"
           }
          ],
          "choropleth": [
           {
            "colorbar": {
             "outlinewidth": 0,
             "ticks": ""
            },
            "type": "choropleth"
           }
          ],
          "contour": [
           {
            "colorbar": {
             "outlinewidth": 0,
             "ticks": ""
            },
            "colorscale": [
             [
              0,
              "#0d0887"
             ],
             [
              0.1111111111111111,
              "#46039f"
             ],
             [
              0.2222222222222222,
              "#7201a8"
             ],
             [
              0.3333333333333333,
              "#9c179e"
             ],
             [
              0.4444444444444444,
              "#bd3786"
             ],
             [
              0.5555555555555556,
              "#d8576b"
             ],
             [
              0.6666666666666666,
              "#ed7953"
             ],
             [
              0.7777777777777778,
              "#fb9f3a"
             ],
             [
              0.8888888888888888,
              "#fdca26"
             ],
             [
              1,
              "#f0f921"
             ]
            ],
            "type": "contour"
           }
          ],
          "contourcarpet": [
           {
            "colorbar": {
             "outlinewidth": 0,
             "ticks": ""
            },
            "type": "contourcarpet"
           }
          ],
          "heatmap": [
           {
            "colorbar": {
             "outlinewidth": 0,
             "ticks": ""
            },
            "colorscale": [
             [
              0,
              "#0d0887"
             ],
             [
              0.1111111111111111,
              "#46039f"
             ],
             [
              0.2222222222222222,
              "#7201a8"
             ],
             [
              0.3333333333333333,
              "#9c179e"
             ],
             [
              0.4444444444444444,
              "#bd3786"
             ],
             [
              0.5555555555555556,
              "#d8576b"
             ],
             [
              0.6666666666666666,
              "#ed7953"
             ],
             [
              0.7777777777777778,
              "#fb9f3a"
             ],
             [
              0.8888888888888888,
              "#fdca26"
             ],
             [
              1,
              "#f0f921"
             ]
            ],
            "type": "heatmap"
           }
          ],
          "heatmapgl": [
           {
            "colorbar": {
             "outlinewidth": 0,
             "ticks": ""
            },
            "colorscale": [
             [
              0,
              "#0d0887"
             ],
             [
              0.1111111111111111,
              "#46039f"
             ],
             [
              0.2222222222222222,
              "#7201a8"
             ],
             [
              0.3333333333333333,
              "#9c179e"
             ],
             [
              0.4444444444444444,
              "#bd3786"
             ],
             [
              0.5555555555555556,
              "#d8576b"
             ],
             [
              0.6666666666666666,
              "#ed7953"
             ],
             [
              0.7777777777777778,
              "#fb9f3a"
             ],
             [
              0.8888888888888888,
              "#fdca26"
             ],
             [
              1,
              "#f0f921"
             ]
            ],
            "type": "heatmapgl"
           }
          ],
          "histogram": [
           {
            "marker": {
             "pattern": {
              "fillmode": "overlay",
              "size": 10,
              "solidity": 0.2
             }
            },
            "type": "histogram"
           }
          ],
          "histogram2d": [
           {
            "colorbar": {
             "outlinewidth": 0,
             "ticks": ""
            },
            "colorscale": [
             [
              0,
              "#0d0887"
             ],
             [
              0.1111111111111111,
              "#46039f"
             ],
             [
              0.2222222222222222,
              "#7201a8"
             ],
             [
              0.3333333333333333,
              "#9c179e"
             ],
             [
              0.4444444444444444,
              "#bd3786"
             ],
             [
              0.5555555555555556,
              "#d8576b"
             ],
             [
              0.6666666666666666,
              "#ed7953"
             ],
             [
              0.7777777777777778,
              "#fb9f3a"
             ],
             [
              0.8888888888888888,
              "#fdca26"
             ],
             [
              1,
              "#f0f921"
             ]
            ],
            "type": "histogram2d"
           }
          ],
          "histogram2dcontour": [
           {
            "colorbar": {
             "outlinewidth": 0,
             "ticks": ""
            },
            "colorscale": [
             [
              0,
              "#0d0887"
             ],
             [
              0.1111111111111111,
              "#46039f"
             ],
             [
              0.2222222222222222,
              "#7201a8"
             ],
             [
              0.3333333333333333,
              "#9c179e"
             ],
             [
              0.4444444444444444,
              "#bd3786"
             ],
             [
              0.5555555555555556,
              "#d8576b"
             ],
             [
              0.6666666666666666,
              "#ed7953"
             ],
             [
              0.7777777777777778,
              "#fb9f3a"
             ],
             [
              0.8888888888888888,
              "#fdca26"
             ],
             [
              1,
              "#f0f921"
             ]
            ],
            "type": "histogram2dcontour"
           }
          ],
          "mesh3d": [
           {
            "colorbar": {
             "outlinewidth": 0,
             "ticks": ""
            },
            "type": "mesh3d"
           }
          ],
          "parcoords": [
           {
            "line": {
             "colorbar": {
              "outlinewidth": 0,
              "ticks": ""
             }
            },
            "type": "parcoords"
           }
          ],
          "pie": [
           {
            "automargin": true,
            "type": "pie"
           }
          ],
          "scatter": [
           {
            "fillpattern": {
             "fillmode": "overlay",
             "size": 10,
             "solidity": 0.2
            },
            "type": "scatter"
           }
          ],
          "scatter3d": [
           {
            "line": {
             "colorbar": {
              "outlinewidth": 0,
              "ticks": ""
             }
            },
            "marker": {
             "colorbar": {
              "outlinewidth": 0,
              "ticks": ""
             }
            },
            "type": "scatter3d"
           }
          ],
          "scattercarpet": [
           {
            "marker": {
             "colorbar": {
              "outlinewidth": 0,
              "ticks": ""
             }
            },
            "type": "scattercarpet"
           }
          ],
          "scattergeo": [
           {
            "marker": {
             "colorbar": {
              "outlinewidth": 0,
              "ticks": ""
             }
            },
            "type": "scattergeo"
           }
          ],
          "scattergl": [
           {
            "marker": {
             "colorbar": {
              "outlinewidth": 0,
              "ticks": ""
             }
            },
            "type": "scattergl"
           }
          ],
          "scattermapbox": [
           {
            "marker": {
             "colorbar": {
              "outlinewidth": 0,
              "ticks": ""
             }
            },
            "type": "scattermapbox"
           }
          ],
          "scatterpolar": [
           {
            "marker": {
             "colorbar": {
              "outlinewidth": 0,
              "ticks": ""
             }
            },
            "type": "scatterpolar"
           }
          ],
          "scatterpolargl": [
           {
            "marker": {
             "colorbar": {
              "outlinewidth": 0,
              "ticks": ""
             }
            },
            "type": "scatterpolargl"
           }
          ],
          "scatterternary": [
           {
            "marker": {
             "colorbar": {
              "outlinewidth": 0,
              "ticks": ""
             }
            },
            "type": "scatterternary"
           }
          ],
          "surface": [
           {
            "colorbar": {
             "outlinewidth": 0,
             "ticks": ""
            },
            "colorscale": [
             [
              0,
              "#0d0887"
             ],
             [
              0.1111111111111111,
              "#46039f"
             ],
             [
              0.2222222222222222,
              "#7201a8"
             ],
             [
              0.3333333333333333,
              "#9c179e"
             ],
             [
              0.4444444444444444,
              "#bd3786"
             ],
             [
              0.5555555555555556,
              "#d8576b"
             ],
             [
              0.6666666666666666,
              "#ed7953"
             ],
             [
              0.7777777777777778,
              "#fb9f3a"
             ],
             [
              0.8888888888888888,
              "#fdca26"
             ],
             [
              1,
              "#f0f921"
             ]
            ],
            "type": "surface"
           }
          ],
          "table": [
           {
            "cells": {
             "fill": {
              "color": "#EBF0F8"
             },
             "line": {
              "color": "white"
             }
            },
            "header": {
             "fill": {
              "color": "#C8D4E3"
             },
             "line": {
              "color": "white"
             }
            },
            "type": "table"
           }
          ]
         },
         "layout": {
          "annotationdefaults": {
           "arrowcolor": "#2a3f5f",
           "arrowhead": 0,
           "arrowwidth": 1
          },
          "autotypenumbers": "strict",
          "coloraxis": {
           "colorbar": {
            "outlinewidth": 0,
            "ticks": ""
           }
          },
          "colorscale": {
           "diverging": [
            [
             0,
             "#8e0152"
            ],
            [
             0.1,
             "#c51b7d"
            ],
            [
             0.2,
             "#de77ae"
            ],
            [
             0.3,
             "#f1b6da"
            ],
            [
             0.4,
             "#fde0ef"
            ],
            [
             0.5,
             "#f7f7f7"
            ],
            [
             0.6,
             "#e6f5d0"
            ],
            [
             0.7,
             "#b8e186"
            ],
            [
             0.8,
             "#7fbc41"
            ],
            [
             0.9,
             "#4d9221"
            ],
            [
             1,
             "#276419"
            ]
           ],
           "sequential": [
            [
             0,
             "#0d0887"
            ],
            [
             0.1111111111111111,
             "#46039f"
            ],
            [
             0.2222222222222222,
             "#7201a8"
            ],
            [
             0.3333333333333333,
             "#9c179e"
            ],
            [
             0.4444444444444444,
             "#bd3786"
            ],
            [
             0.5555555555555556,
             "#d8576b"
            ],
            [
             0.6666666666666666,
             "#ed7953"
            ],
            [
             0.7777777777777778,
             "#fb9f3a"
            ],
            [
             0.8888888888888888,
             "#fdca26"
            ],
            [
             1,
             "#f0f921"
            ]
           ],
           "sequentialminus": [
            [
             0,
             "#0d0887"
            ],
            [
             0.1111111111111111,
             "#46039f"
            ],
            [
             0.2222222222222222,
             "#7201a8"
            ],
            [
             0.3333333333333333,
             "#9c179e"
            ],
            [
             0.4444444444444444,
             "#bd3786"
            ],
            [
             0.5555555555555556,
             "#d8576b"
            ],
            [
             0.6666666666666666,
             "#ed7953"
            ],
            [
             0.7777777777777778,
             "#fb9f3a"
            ],
            [
             0.8888888888888888,
             "#fdca26"
            ],
            [
             1,
             "#f0f921"
            ]
           ]
          },
          "colorway": [
           "#636efa",
           "#EF553B",
           "#00cc96",
           "#ab63fa",
           "#FFA15A",
           "#19d3f3",
           "#FF6692",
           "#B6E880",
           "#FF97FF",
           "#FECB52"
          ],
          "font": {
           "color": "#2a3f5f"
          },
          "geo": {
           "bgcolor": "white",
           "lakecolor": "white",
           "landcolor": "#E5ECF6",
           "showlakes": true,
           "showland": true,
           "subunitcolor": "white"
          },
          "hoverlabel": {
           "align": "left"
          },
          "hovermode": "closest",
          "mapbox": {
           "style": "light"
          },
          "paper_bgcolor": "white",
          "plot_bgcolor": "#E5ECF6",
          "polar": {
           "angularaxis": {
            "gridcolor": "white",
            "linecolor": "white",
            "ticks": ""
           },
           "bgcolor": "#E5ECF6",
           "radialaxis": {
            "gridcolor": "white",
            "linecolor": "white",
            "ticks": ""
           }
          },
          "scene": {
           "xaxis": {
            "backgroundcolor": "#E5ECF6",
            "gridcolor": "white",
            "gridwidth": 2,
            "linecolor": "white",
            "showbackground": true,
            "ticks": "",
            "zerolinecolor": "white"
           },
           "yaxis": {
            "backgroundcolor": "#E5ECF6",
            "gridcolor": "white",
            "gridwidth": 2,
            "linecolor": "white",
            "showbackground": true,
            "ticks": "",
            "zerolinecolor": "white"
           },
           "zaxis": {
            "backgroundcolor": "#E5ECF6",
            "gridcolor": "white",
            "gridwidth": 2,
            "linecolor": "white",
            "showbackground": true,
            "ticks": "",
            "zerolinecolor": "white"
           }
          },
          "shapedefaults": {
           "line": {
            "color": "#2a3f5f"
           }
          },
          "ternary": {
           "aaxis": {
            "gridcolor": "white",
            "linecolor": "white",
            "ticks": ""
           },
           "baxis": {
            "gridcolor": "white",
            "linecolor": "white",
            "ticks": ""
           },
           "bgcolor": "#E5ECF6",
           "caxis": {
            "gridcolor": "white",
            "linecolor": "white",
            "ticks": ""
           }
          },
          "title": {
           "x": 0.05
          },
          "xaxis": {
           "automargin": true,
           "gridcolor": "white",
           "linecolor": "white",
           "ticks": "",
           "title": {
            "standoff": 15
           },
           "zerolinecolor": "white",
           "zerolinewidth": 2
          },
          "yaxis": {
           "automargin": true,
           "gridcolor": "white",
           "linecolor": "white",
           "ticks": "",
           "title": {
            "standoff": 15
           },
           "zerolinecolor": "white",
           "zerolinewidth": 2
          }
         }
        },
        "title": {
         "text": "PCA of embeddings -- train data",
         "x": 0.5
        },
        "xaxis": {
         "anchor": "y",
         "domain": [
          0,
          1
         ],
         "title": {
          "text": "pca_1"
         }
        },
        "yaxis": {
         "anchor": "x",
         "domain": [
          0,
          1
         ],
         "title": {
          "text": "pca_2"
         }
        }
       }
      }
     },
     "metadata": {},
     "output_type": "display_data"
    }
   ],
   "source": [
    "## draw PCA using plotly\n",
    "\n",
    "df_pca = pd.DataFrame(embeds_pca, columns=['pca_1', 'pca_2'])\n",
    "# df_pca = pd.DataFrame(embeds_pca, columns=['pca_1', 'pca_2', 'pca_3'])\n",
    "df_pca['agent_model'] = models\n",
    "\n",
    "\n",
    "# fig = px.scatter_matrix(df_pca,\n",
    "#                         labels=labels,\n",
    "#                         dimensions=['pca_1', 'pca_2', 'pca_3'],\n",
    "#                         color='agent_model')\n",
    "# fig.update_traces(diagonal_visible=False)\n",
    "\n",
    "# fig = px.scatter_3d(df_pca,\n",
    "#                     x='pca_1', y='pca_2', z='pca_3',\n",
    "#                     color='agent_model')\n",
    "\n",
    "fig = px.scatter(df_pca, \n",
    "                 x=\"pca_1\", y=\"pca_2\",\n",
    "                #  color_discrete_sequence=[\"#14213D\", \"#FCA311\", \"#976391\"],\n",
    "                 color=\"agent_model\",\n",
    "                 title='PCA of embeddings -- train data',)\n",
    "fig.update_layout(margin=dict(l=25, r=25, t=25, b=25),\n",
    "                  plot_bgcolor='rgba(0, 0, 0, 0)',\n",
    "                  paper_bgcolor='rgba(0, 0, 0, 0)',\n",
    "                  title_x=0.5)\n",
    "\n",
    "fig.show()"
   ]
  },
  {
   "cell_type": "code",
   "execution_count": 8,
   "metadata": {},
   "outputs": [
    {
     "data": {
      "application/vnd.plotly.v1+json": {
       "config": {
        "plotlyServerURL": "https://plot.ly"
       },
       "data": [
        {
         "coloraxis": "coloraxis",
         "hovertemplate": "agent type: %{x}<br>agent type: %{y}<br>similarity: %{z}<extra></extra>",
         "name": "0",
         "texttemplate": "%{z}",
         "type": "heatmap",
         "x": [
          "optimal",
          "laggy"
         ],
         "xaxis": "x",
         "y": [
          "optimal",
          "laggy"
         ],
         "yaxis": "y",
         "z": [
          [
           0.4669739305973053,
           0.4718252718448639
          ],
          [
           0.4718252122402191,
           0.46320709586143494
          ]
         ]
        }
       ],
       "layout": {
        "coloraxis": {
         "colorbar": {
          "title": {
           "text": "similarity"
          }
         },
         "colorscale": [
          [
           0,
           "#0d0887"
          ],
          [
           0.1111111111111111,
           "#46039f"
          ],
          [
           0.2222222222222222,
           "#7201a8"
          ],
          [
           0.3333333333333333,
           "#9c179e"
          ],
          [
           0.4444444444444444,
           "#bd3786"
          ],
          [
           0.5555555555555556,
           "#d8576b"
          ],
          [
           0.6666666666666666,
           "#ed7953"
          ],
          [
           0.7777777777777778,
           "#fb9f3a"
          ],
          [
           0.8888888888888888,
           "#fdca26"
          ],
          [
           1,
           "#f0f921"
          ]
         ]
        },
        "margin": {
         "t": 60
        },
        "template": {
         "data": {
          "bar": [
           {
            "error_x": {
             "color": "#2a3f5f"
            },
            "error_y": {
             "color": "#2a3f5f"
            },
            "marker": {
             "line": {
              "color": "#E5ECF6",
              "width": 0.5
             },
             "pattern": {
              "fillmode": "overlay",
              "size": 10,
              "solidity": 0.2
             }
            },
            "type": "bar"
           }
          ],
          "barpolar": [
           {
            "marker": {
             "line": {
              "color": "#E5ECF6",
              "width": 0.5
             },
             "pattern": {
              "fillmode": "overlay",
              "size": 10,
              "solidity": 0.2
             }
            },
            "type": "barpolar"
           }
          ],
          "carpet": [
           {
            "aaxis": {
             "endlinecolor": "#2a3f5f",
             "gridcolor": "white",
             "linecolor": "white",
             "minorgridcolor": "white",
             "startlinecolor": "#2a3f5f"
            },
            "baxis": {
             "endlinecolor": "#2a3f5f",
             "gridcolor": "white",
             "linecolor": "white",
             "minorgridcolor": "white",
             "startlinecolor": "#2a3f5f"
            },
            "type": "carpet"
           }
          ],
          "choropleth": [
           {
            "colorbar": {
             "outlinewidth": 0,
             "ticks": ""
            },
            "type": "choropleth"
           }
          ],
          "contour": [
           {
            "colorbar": {
             "outlinewidth": 0,
             "ticks": ""
            },
            "colorscale": [
             [
              0,
              "#0d0887"
             ],
             [
              0.1111111111111111,
              "#46039f"
             ],
             [
              0.2222222222222222,
              "#7201a8"
             ],
             [
              0.3333333333333333,
              "#9c179e"
             ],
             [
              0.4444444444444444,
              "#bd3786"
             ],
             [
              0.5555555555555556,
              "#d8576b"
             ],
             [
              0.6666666666666666,
              "#ed7953"
             ],
             [
              0.7777777777777778,
              "#fb9f3a"
             ],
             [
              0.8888888888888888,
              "#fdca26"
             ],
             [
              1,
              "#f0f921"
             ]
            ],
            "type": "contour"
           }
          ],
          "contourcarpet": [
           {
            "colorbar": {
             "outlinewidth": 0,
             "ticks": ""
            },
            "type": "contourcarpet"
           }
          ],
          "heatmap": [
           {
            "colorbar": {
             "outlinewidth": 0,
             "ticks": ""
            },
            "colorscale": [
             [
              0,
              "#0d0887"
             ],
             [
              0.1111111111111111,
              "#46039f"
             ],
             [
              0.2222222222222222,
              "#7201a8"
             ],
             [
              0.3333333333333333,
              "#9c179e"
             ],
             [
              0.4444444444444444,
              "#bd3786"
             ],
             [
              0.5555555555555556,
              "#d8576b"
             ],
             [
              0.6666666666666666,
              "#ed7953"
             ],
             [
              0.7777777777777778,
              "#fb9f3a"
             ],
             [
              0.8888888888888888,
              "#fdca26"
             ],
             [
              1,
              "#f0f921"
             ]
            ],
            "type": "heatmap"
           }
          ],
          "heatmapgl": [
           {
            "colorbar": {
             "outlinewidth": 0,
             "ticks": ""
            },
            "colorscale": [
             [
              0,
              "#0d0887"
             ],
             [
              0.1111111111111111,
              "#46039f"
             ],
             [
              0.2222222222222222,
              "#7201a8"
             ],
             [
              0.3333333333333333,
              "#9c179e"
             ],
             [
              0.4444444444444444,
              "#bd3786"
             ],
             [
              0.5555555555555556,
              "#d8576b"
             ],
             [
              0.6666666666666666,
              "#ed7953"
             ],
             [
              0.7777777777777778,
              "#fb9f3a"
             ],
             [
              0.8888888888888888,
              "#fdca26"
             ],
             [
              1,
              "#f0f921"
             ]
            ],
            "type": "heatmapgl"
           }
          ],
          "histogram": [
           {
            "marker": {
             "pattern": {
              "fillmode": "overlay",
              "size": 10,
              "solidity": 0.2
             }
            },
            "type": "histogram"
           }
          ],
          "histogram2d": [
           {
            "colorbar": {
             "outlinewidth": 0,
             "ticks": ""
            },
            "colorscale": [
             [
              0,
              "#0d0887"
             ],
             [
              0.1111111111111111,
              "#46039f"
             ],
             [
              0.2222222222222222,
              "#7201a8"
             ],
             [
              0.3333333333333333,
              "#9c179e"
             ],
             [
              0.4444444444444444,
              "#bd3786"
             ],
             [
              0.5555555555555556,
              "#d8576b"
             ],
             [
              0.6666666666666666,
              "#ed7953"
             ],
             [
              0.7777777777777778,
              "#fb9f3a"
             ],
             [
              0.8888888888888888,
              "#fdca26"
             ],
             [
              1,
              "#f0f921"
             ]
            ],
            "type": "histogram2d"
           }
          ],
          "histogram2dcontour": [
           {
            "colorbar": {
             "outlinewidth": 0,
             "ticks": ""
            },
            "colorscale": [
             [
              0,
              "#0d0887"
             ],
             [
              0.1111111111111111,
              "#46039f"
             ],
             [
              0.2222222222222222,
              "#7201a8"
             ],
             [
              0.3333333333333333,
              "#9c179e"
             ],
             [
              0.4444444444444444,
              "#bd3786"
             ],
             [
              0.5555555555555556,
              "#d8576b"
             ],
             [
              0.6666666666666666,
              "#ed7953"
             ],
             [
              0.7777777777777778,
              "#fb9f3a"
             ],
             [
              0.8888888888888888,
              "#fdca26"
             ],
             [
              1,
              "#f0f921"
             ]
            ],
            "type": "histogram2dcontour"
           }
          ],
          "mesh3d": [
           {
            "colorbar": {
             "outlinewidth": 0,
             "ticks": ""
            },
            "type": "mesh3d"
           }
          ],
          "parcoords": [
           {
            "line": {
             "colorbar": {
              "outlinewidth": 0,
              "ticks": ""
             }
            },
            "type": "parcoords"
           }
          ],
          "pie": [
           {
            "automargin": true,
            "type": "pie"
           }
          ],
          "scatter": [
           {
            "fillpattern": {
             "fillmode": "overlay",
             "size": 10,
             "solidity": 0.2
            },
            "type": "scatter"
           }
          ],
          "scatter3d": [
           {
            "line": {
             "colorbar": {
              "outlinewidth": 0,
              "ticks": ""
             }
            },
            "marker": {
             "colorbar": {
              "outlinewidth": 0,
              "ticks": ""
             }
            },
            "type": "scatter3d"
           }
          ],
          "scattercarpet": [
           {
            "marker": {
             "colorbar": {
              "outlinewidth": 0,
              "ticks": ""
             }
            },
            "type": "scattercarpet"
           }
          ],
          "scattergeo": [
           {
            "marker": {
             "colorbar": {
              "outlinewidth": 0,
              "ticks": ""
             }
            },
            "type": "scattergeo"
           }
          ],
          "scattergl": [
           {
            "marker": {
             "colorbar": {
              "outlinewidth": 0,
              "ticks": ""
             }
            },
            "type": "scattergl"
           }
          ],
          "scattermapbox": [
           {
            "marker": {
             "colorbar": {
              "outlinewidth": 0,
              "ticks": ""
             }
            },
            "type": "scattermapbox"
           }
          ],
          "scatterpolar": [
           {
            "marker": {
             "colorbar": {
              "outlinewidth": 0,
              "ticks": ""
             }
            },
            "type": "scatterpolar"
           }
          ],
          "scatterpolargl": [
           {
            "marker": {
             "colorbar": {
              "outlinewidth": 0,
              "ticks": ""
             }
            },
            "type": "scatterpolargl"
           }
          ],
          "scatterternary": [
           {
            "marker": {
             "colorbar": {
              "outlinewidth": 0,
              "ticks": ""
             }
            },
            "type": "scatterternary"
           }
          ],
          "surface": [
           {
            "colorbar": {
             "outlinewidth": 0,
             "ticks": ""
            },
            "colorscale": [
             [
              0,
              "#0d0887"
             ],
             [
              0.1111111111111111,
              "#46039f"
             ],
             [
              0.2222222222222222,
              "#7201a8"
             ],
             [
              0.3333333333333333,
              "#9c179e"
             ],
             [
              0.4444444444444444,
              "#bd3786"
             ],
             [
              0.5555555555555556,
              "#d8576b"
             ],
             [
              0.6666666666666666,
              "#ed7953"
             ],
             [
              0.7777777777777778,
              "#fb9f3a"
             ],
             [
              0.8888888888888888,
              "#fdca26"
             ],
             [
              1,
              "#f0f921"
             ]
            ],
            "type": "surface"
           }
          ],
          "table": [
           {
            "cells": {
             "fill": {
              "color": "#EBF0F8"
             },
             "line": {
              "color": "white"
             }
            },
            "header": {
             "fill": {
              "color": "#C8D4E3"
             },
             "line": {
              "color": "white"
             }
            },
            "type": "table"
           }
          ]
         },
         "layout": {
          "annotationdefaults": {
           "arrowcolor": "#2a3f5f",
           "arrowhead": 0,
           "arrowwidth": 1
          },
          "autotypenumbers": "strict",
          "coloraxis": {
           "colorbar": {
            "outlinewidth": 0,
            "ticks": ""
           }
          },
          "colorscale": {
           "diverging": [
            [
             0,
             "#8e0152"
            ],
            [
             0.1,
             "#c51b7d"
            ],
            [
             0.2,
             "#de77ae"
            ],
            [
             0.3,
             "#f1b6da"
            ],
            [
             0.4,
             "#fde0ef"
            ],
            [
             0.5,
             "#f7f7f7"
            ],
            [
             0.6,
             "#e6f5d0"
            ],
            [
             0.7,
             "#b8e186"
            ],
            [
             0.8,
             "#7fbc41"
            ],
            [
             0.9,
             "#4d9221"
            ],
            [
             1,
             "#276419"
            ]
           ],
           "sequential": [
            [
             0,
             "#0d0887"
            ],
            [
             0.1111111111111111,
             "#46039f"
            ],
            [
             0.2222222222222222,
             "#7201a8"
            ],
            [
             0.3333333333333333,
             "#9c179e"
            ],
            [
             0.4444444444444444,
             "#bd3786"
            ],
            [
             0.5555555555555556,
             "#d8576b"
            ],
            [
             0.6666666666666666,
             "#ed7953"
            ],
            [
             0.7777777777777778,
             "#fb9f3a"
            ],
            [
             0.8888888888888888,
             "#fdca26"
            ],
            [
             1,
             "#f0f921"
            ]
           ],
           "sequentialminus": [
            [
             0,
             "#0d0887"
            ],
            [
             0.1111111111111111,
             "#46039f"
            ],
            [
             0.2222222222222222,
             "#7201a8"
            ],
            [
             0.3333333333333333,
             "#9c179e"
            ],
            [
             0.4444444444444444,
             "#bd3786"
            ],
            [
             0.5555555555555556,
             "#d8576b"
            ],
            [
             0.6666666666666666,
             "#ed7953"
            ],
            [
             0.7777777777777778,
             "#fb9f3a"
            ],
            [
             0.8888888888888888,
             "#fdca26"
            ],
            [
             1,
             "#f0f921"
            ]
           ]
          },
          "colorway": [
           "#636efa",
           "#EF553B",
           "#00cc96",
           "#ab63fa",
           "#FFA15A",
           "#19d3f3",
           "#FF6692",
           "#B6E880",
           "#FF97FF",
           "#FECB52"
          ],
          "font": {
           "color": "#2a3f5f"
          },
          "geo": {
           "bgcolor": "white",
           "lakecolor": "white",
           "landcolor": "#E5ECF6",
           "showlakes": true,
           "showland": true,
           "subunitcolor": "white"
          },
          "hoverlabel": {
           "align": "left"
          },
          "hovermode": "closest",
          "mapbox": {
           "style": "light"
          },
          "paper_bgcolor": "white",
          "plot_bgcolor": "#E5ECF6",
          "polar": {
           "angularaxis": {
            "gridcolor": "white",
            "linecolor": "white",
            "ticks": ""
           },
           "bgcolor": "#E5ECF6",
           "radialaxis": {
            "gridcolor": "white",
            "linecolor": "white",
            "ticks": ""
           }
          },
          "scene": {
           "xaxis": {
            "backgroundcolor": "#E5ECF6",
            "gridcolor": "white",
            "gridwidth": 2,
            "linecolor": "white",
            "showbackground": true,
            "ticks": "",
            "zerolinecolor": "white"
           },
           "yaxis": {
            "backgroundcolor": "#E5ECF6",
            "gridcolor": "white",
            "gridwidth": 2,
            "linecolor": "white",
            "showbackground": true,
            "ticks": "",
            "zerolinecolor": "white"
           },
           "zaxis": {
            "backgroundcolor": "#E5ECF6",
            "gridcolor": "white",
            "gridwidth": 2,
            "linecolor": "white",
            "showbackground": true,
            "ticks": "",
            "zerolinecolor": "white"
           }
          },
          "shapedefaults": {
           "line": {
            "color": "#2a3f5f"
           }
          },
          "ternary": {
           "aaxis": {
            "gridcolor": "white",
            "linecolor": "white",
            "ticks": ""
           },
           "baxis": {
            "gridcolor": "white",
            "linecolor": "white",
            "ticks": ""
           },
           "bgcolor": "#E5ECF6",
           "caxis": {
            "gridcolor": "white",
            "linecolor": "white",
            "ticks": ""
           }
          },
          "title": {
           "x": 0.05
          },
          "xaxis": {
           "automargin": true,
           "gridcolor": "white",
           "linecolor": "white",
           "ticks": "",
           "title": {
            "standoff": 15
           },
           "zerolinecolor": "white",
           "zerolinewidth": 2
          },
          "yaxis": {
           "automargin": true,
           "gridcolor": "white",
           "linecolor": "white",
           "ticks": "",
           "title": {
            "standoff": 15
           },
           "zerolinecolor": "white",
           "zerolinewidth": 2
          }
         }
        },
        "xaxis": {
         "anchor": "y",
         "constrain": "domain",
         "domain": [
          0,
          1
         ],
         "scaleanchor": "y",
         "side": "top",
         "title": {
          "text": "agent type"
         }
        },
        "yaxis": {
         "anchor": "x",
         "autorange": "reversed",
         "constrain": "domain",
         "domain": [
          0,
          1
         ],
         "title": {
          "text": "agent type"
         }
        }
       }
      }
     },
     "metadata": {},
     "output_type": "display_data"
    }
   ],
   "source": [
    "## similarity matrix\n",
    "\n",
    "sim_matrix = np.zeros([len(agent_models), len(agent_models)])\n",
    "for l1 in range(len(agent_models)):\n",
    "    for l2 in range(len(agent_models)):\n",
    "        if l1 != l2:\n",
    "            sim_matrix[l1, l2] = cosine_similarity(embeddings_sep[l1], embeddings_sep[l2]).mean()\n",
    "        else:\n",
    "            mask = np.ones([len(embeddings_sep[l1]),len(embeddings_sep[l2])], dtype=bool)\n",
    "            np.fill_diagonal(mask, 0)\n",
    "            sim_matrix[l1, l2] = (cosine_similarity(embeddings_sep[l1], embeddings_sep[l2])*mask).mean()\n",
    "\n",
    "## plot similarity matrix\n",
    "fig = px.imshow(sim_matrix,\n",
    "                labels=dict(x=\"agent type\", y=\"agent type\", color=\"similarity\"),\n",
    "                x=['optimal', 'laggy'],\n",
    "                y=['optimal', 'laggy'],\n",
    "                text_auto=True\n",
    "               )\n",
    "fig.update_xaxes(side=\"top\")\n",
    "fig.show()"
   ]
  },
  {
   "cell_type": "code",
   "execution_count": 21,
   "metadata": {},
   "outputs": [
    {
     "name": "stdout",
     "output_type": "stream",
     "text": [
      "[t-SNE] Computing 91 nearest neighbors...\n",
      "[t-SNE] Indexed 192 samples in 0.000s...\n",
      "[t-SNE] Computed neighbors for 192 samples in 0.011s...\n",
      "[t-SNE] Computed conditional probabilities for sample 192 / 192\n",
      "[t-SNE] Mean sigma: 6.709093\n",
      "[t-SNE] KL divergence after 250 iterations with early exaggeration: 52.422657\n",
      "[t-SNE] KL divergence after 1000 iterations: 0.825109\n"
     ]
    },
    {
     "data": {
      "text/plain": [
       "<matplotlib.collections.PathCollection at 0x7f1983e85630>"
      ]
     },
     "execution_count": 21,
     "metadata": {},
     "output_type": "execute_result"
    }
   ],
   "source": [
    "color_dict = {0:'#14213D', 1:'#FCA311', 2:'#976391'}\n",
    "# 0: 14213D\n",
    "# 1: FCA311\n",
    "# 2: 976391\n",
    "colors = list(map(color_dict.get, labels))\n",
    "\n",
    "# tsne = TSNE(3, verbose=1)\n",
    "tsne = TSNE(2, verbose=1)\n",
    "tsne_proj = tsne.fit_transform(embeddings)\n",
    "\n",
    "# ax = plt.figure().add_subplot(projection='3d')\n",
    "ax = plt.figure().add_subplot()\n",
    "plt.scatter(tsne_proj[:,0],\n",
    "            tsne_proj[:,1],\n",
    "            # tsne_proj[:,2],\n",
    "            color=colors)"
   ]
  },
  {
   "attachments": {},
   "cell_type": "markdown",
   "metadata": {},
   "source": [
    "# Plot Trajectory"
   ]
  },
  {
   "cell_type": "code",
   "execution_count": 27,
   "metadata": {},
   "outputs": [],
   "source": [
    "import numpy as np\n",
    "import os\n",
    "import matplotlib.pyplot as plt\n",
    "\n",
    "import skvideo.io\n",
    "import cv2"
   ]
  },
  {
   "cell_type": "code",
   "execution_count": 99,
   "metadata": {},
   "outputs": [],
   "source": [
    "## load data\n",
    "data_root_dir = os.getcwd() + '/data_videos/'\n",
    "agent = 'optimal'\n",
    "\n",
    "root_dir = data_root_dir + agent + '-test/'\n",
    "file = f'final-model-ppo-LunarLander-v2-{agent}-1.mp4'\n",
    "frames = skvideo.io.vread(root_dir + file)\n",
    "truth_data = np.load(root_dir+'env_grids.npy')[1]\n",
    "agent_poss = np.stack(np.load(root_dir+'agent_poss.npz')['arr_1'])"
   ]
  },
  {
   "cell_type": "code",
   "execution_count": 100,
   "metadata": {},
   "outputs": [],
   "source": [
    "## plot agent poss\n",
    "SCALE = 30\n",
    "agent_poss[...,1] = 400-agent_poss[...,1]*SCALE\n",
    "agent_poss[...,0] = agent_poss[...,0]*SCALE\n",
    "agent_poss = agent_poss.astype(int)"
   ]
  },
  {
   "cell_type": "code",
   "execution_count": 89,
   "metadata": {},
   "outputs": [],
   "source": [
    "agent_poss_img = np.zeros_like(truth_data, float)\n",
    "for t, poss in enumerate(agent_poss):\n",
    "    circle = cv2.circle(agent_poss_img, center=poss, \n",
    "                        radius=6, color=(128/255, 102/255, 230/255),\n",
    "                        thickness=-1)\n",
    "traj_image = agent_poss_img + truth_data"
   ]
  },
  {
   "cell_type": "code",
   "execution_count": 90,
   "metadata": {},
   "outputs": [
    {
     "name": "stderr",
     "output_type": "stream",
     "text": [
      "Clipping input data to the valid range for imshow with RGB data ([0..1] for floats or [0..255] for integers).\n"
     ]
    },
    {
     "data": {
      "image/png": "[encoded data removed]",
      "text/plain": [
       "<Figure size 300x200 with 1 Axes>"
      ]
     },
     "metadata": {},
     "output_type": "display_data"
    }
   ],
   "source": [
    "## save trace image\n",
    "fig = plt.figure(frameon=False)\n",
    "fig.set_size_inches(3,2)\n",
    "\n",
    "ax = plt.Axes(fig, [0., 0., 1., 1.])\n",
    "ax.set_axis_off()\n",
    "fig.add_axes(ax)\n",
    "\n",
    "ax.imshow(traj_image, aspect='auto')\n",
    "fig.savefig('agent_traj_'+agent+'.png')"
   ]
  },
  {
   "cell_type": "code",
   "execution_count": 103,
   "metadata": {},
   "outputs": [
    {
     "data": {
      "image/png": "[encoded data removed]",
      "text/plain": [
       "<Figure size 300x200 with 1 Axes>"
      ]
     },
     "metadata": {},
     "output_type": "display_data"
    }
   ],
   "source": [
    "## save trace image\n",
    "fig = plt.figure(frameon=False)\n",
    "fig.set_size_inches(3,2)\n",
    "\n",
    "ax = plt.Axes(fig, [0., 0., 1., 1.])\n",
    "ax.set_axis_off()\n",
    "fig.add_axes(ax)\n",
    "\n",
    "ax.imshow(frames[0], aspect='auto')\n",
    "fig.savefig('frame_'+agent+'_0.png')"
   ]
  },
  {
   "attachments": {},
   "cell_type": "markdown",
   "metadata": {},
   "source": [
    "# Plot SRs"
   ]
  },
  {
   "cell_type": "code",
   "execution_count": 45,
   "metadata": {},
   "outputs": [],
   "source": [
    "import pickle\n",
    "import numpy as np\n",
    "import matplotlib.pyplot as plt\n",
    "import torch\n",
    "from collections import Counter"
   ]
  },
  {
   "cell_type": "code",
   "execution_count": 46,
   "metadata": {},
   "outputs": [],
   "source": [
    "model = \"optimal-laggy-downstream-1\"\n",
    "sr_file = 'sr.pkl'\n",
    "sr_val_file = 'sr-test.pkl'\n",
    "truth_file = 'truth.pkl'\n",
    "truth_val_file = 'truth-test.pkl'\n",
    "pred_file = 'predictions.pkl'\n",
    "pred_val_file = 'predictions-test.pkl'\n",
    "\n",
    "with open('saved_downstream/'+model+'/'+sr_file, 'rb') as f:\n",
    "    srs = pickle.load(f)\n",
    "\n",
    "with open('saved_downstream/'+model+'/'+sr_val_file, 'rb') as f:\n",
    "    srs_val = pickle.load(f)\n",
    "\n",
    "with open('saved_downstream/'+model+'/'+pred_file, 'rb') as f:\n",
    "    preds = pickle.load(f)\n",
    "\n",
    "with open('saved_downstream/'+model+'/'+pred_val_file, 'rb') as f:\n",
    "    preds_val = pickle.load(f)\n",
    "\n",
    "with open('saved_downstream/'+model+'/'+truth_file, 'rb') as f:\n",
    "    truths = pickle.load(f)\n",
    "\n",
    "with open('saved_downstream/'+model+'/'+truth_val_file, 'rb') as f:\n",
    "    truths_val = pickle.load(f)"
   ]
  },
  {
   "cell_type": "code",
   "execution_count": 47,
   "metadata": {},
   "outputs": [],
   "source": [
    "epoch_interest = 979\n",
    "epoch_interest_val = epoch_interest\n",
    "sr_interest = srs[epoch_interest]\n",
    "sr_val_interest = srs_val[epoch_interest_val]"
   ]
  },
  {
   "cell_type": "code",
   "execution_count": 48,
   "metadata": {},
   "outputs": [
    {
     "name": "stdout",
     "output_type": "stream",
     "text": [
      "train size: 192 192\n",
      "val size: 113 113\n"
     ]
    }
   ],
   "source": [
    "## load SRs\n",
    "target_sr, pred_sr = zip(*sr_interest)\n",
    "target_sr = np.concatenate(target_sr)\n",
    "pred_sr = np.concatenate(pred_sr)\n",
    "print('train size:', len(target_sr), len(pred_sr))\n",
    "\n",
    "target_val_sr, pred_val_sr = zip(*sr_val_interest)\n",
    "target_val_sr = np.concatenate(target_val_sr)\n",
    "pred_val_sr = np.concatenate(pred_val_sr)\n",
    "print('val size:', len(target_val_sr), len(pred_val_sr))"
   ]
  },
  {
   "cell_type": "code",
   "execution_count": 124,
   "metadata": {},
   "outputs": [
    {
     "data": {
      "image/png": "[encoded data removed]",
      "text/plain": [
       "<Figure size 200x200 with 1 Axes>"
      ]
     },
     "metadata": {},
     "output_type": "display_data"
    },
    {
     "data": {
      "image/png": "[encoded data removed]",
      "text/plain": [
       "<Figure size 200x200 with 1 Axes>"
      ]
     },
     "metadata": {},
     "output_type": "display_data"
    }
   ],
   "source": [
    "## save SRs on train set\n",
    "i = 18\n",
    "gamma = 2\n",
    "w,h = 2,2\n",
    "type = 'short'\n",
    "idx = 1\n",
    "save = False\n",
    "\n",
    "## ground truth\n",
    "fig = plt.figure(frameon=False)\n",
    "fig.set_size_inches(w,h)\n",
    "ax = plt.Axes(fig, [0., 0., 1., 1.])\n",
    "ax.set_axis_off()\n",
    "fig.add_axes(ax)\n",
    "ax.imshow(target_sr[i][gamma].transpose(), aspect='auto', cmap='Greens')\n",
    "if save:\n",
    "    fig.savefig(f'SR_truth_{type}_{idx}_gamma{gamma}_train.png')\n",
    "\n",
    "## pred\n",
    "fig = plt.figure(frameon=False)\n",
    "fig.set_size_inches(w,h)\n",
    "ax = plt.Axes(fig, [0., 0., 1., 1.])\n",
    "ax.set_axis_off()\n",
    "fig.add_axes(ax)\n",
    "ax.imshow(pred_sr[i][gamma].transpose(), aspect='auto', cmap='Greens')\n",
    "if save:\n",
    "    fig.savefig(f'SR_pred_{type}_{idx}_gamma{gamma}_train.png')"
   ]
  },
  {
   "cell_type": "code",
   "execution_count": 203,
   "metadata": {},
   "outputs": [
    {
     "data": {
      "image/png": "[encoded data removed]",
      "text/plain": [
       "<Figure size 200x200 with 1 Axes>"
      ]
     },
     "metadata": {},
     "output_type": "display_data"
    },
    {
     "data": {
      "image/png": "[encoded data removed]",
      "text/plain": [
       "<Figure size 200x200 with 1 Axes>"
      ]
     },
     "metadata": {},
     "output_type": "display_data"
    }
   ],
   "source": [
    "## save SRs on val set\n",
    "i = 104\n",
    "gamma = 2\n",
    "w,h = 2,2\n",
    "type = 'short'\n",
    "idx = 1\n",
    "save = False\n",
    "\n",
    "## ground truth\n",
    "fig = plt.figure(frameon=False)\n",
    "fig.set_size_inches(w,h)\n",
    "ax = plt.Axes(fig, [0., 0., 1., 1.])\n",
    "ax.set_axis_off()\n",
    "fig.add_axes(ax)\n",
    "ax.imshow(target_val_sr[i][gamma].transpose(), aspect='auto', cmap='Greens')\n",
    "if save:\n",
    "    fig.savefig(f'SR_truth_{type}_{idx}_gamma{gamma}_test.png')\n",
    "\n",
    "## pred\n",
    "fig = plt.figure(frameon=False)\n",
    "fig.set_size_inches(w,h)\n",
    "ax = plt.Axes(fig, [0., 0., 1., 1.])\n",
    "ax.set_axis_off()\n",
    "fig.add_axes(ax)\n",
    "ax.imshow(pred_val_sr[i][gamma].transpose(), aspect='auto', cmap='Greens')\n",
    "if save:\n",
    "    fig.savefig(f'SR_pred_{type}_{idx}_gamma{gamma}_test.png')"
   ]
  },
  {
   "cell_type": "code",
   "execution_count": 57,
   "metadata": {},
   "outputs": [],
   "source": [
    "## get each discrete var\n",
    "pred_interest = preds[epoch_interest]\n",
    "pred_val_interest = preds_val[epoch_interest_val]\n",
    "truth_interest = truths[epoch_interest]\n",
    "truth_val_interest = truths_val[epoch_interest_val]"
   ]
  },
  {
   "cell_type": "code",
   "execution_count": 58,
   "metadata": {},
   "outputs": [
    {
     "name": "stdout",
     "output_type": "stream",
     "text": [
      "actions shape train torch.Size([192])\n",
      "actions shape val torch.Size([113])\n",
      "goals shape train torch.Size([192])\n",
      "goals shape val torch.Size([113])\n"
     ]
    }
   ],
   "source": [
    "pred_type, pred_action = zip(*pred_interest)\n",
    "pred_type_val, pred_action_val = zip(*pred_val_interest)\n",
    "\n",
    "pred_action = torch.concat(pred_action)\n",
    "pred_action_val = torch.concat(pred_action_val)\n",
    "print('pred actions shape train', pred_action.shape)\n",
    "print('pred actions shape val', pred_action_val.shape)\n",
    "\n",
    "pred_type = torch.concat(pred_type)\n",
    "pred_type_val = torch.concat(pred_type_val)\n",
    "print('pred goals shape train', pred_type.shape)\n",
    "print('pred goals shape val', pred_type_val.shape)"
   ]
  },
  {
   "cell_type": "code",
   "execution_count": 59,
   "metadata": {},
   "outputs": [
    {
     "name": "stdout",
     "output_type": "stream",
     "text": [
      "truth actions shape train torch.Size([192])\n",
      "truth actions shape val torch.Size([113])\n",
      "truth types shape train torch.Size([192])\n",
      "truth types shape val torch.Size([113])\n"
     ]
    }
   ],
   "source": [
    "truth_type, truth_action = zip(*truth_interest)\n",
    "truth_type_val, truth_action_val = zip(*truth_val_interest)\n",
    "\n",
    "truth_action = torch.concat(truth_action)\n",
    "truth_action_val = torch.concat(truth_action_val)\n",
    "print('truth actions shape train', truth_action.shape)\n",
    "print('truth actions shape val', truth_action_val.shape)\n",
    "\n",
    "truth_type = torch.concat(truth_type)\n",
    "truth_type_val = torch.concat(truth_type_val)\n",
    "print('truth types shape train', truth_type.shape)\n",
    "print('truth types shape val', truth_type_val.shape)"
   ]
  },
  {
   "cell_type": "code",
   "execution_count": 60,
   "metadata": {},
   "outputs": [
    {
     "name": "stdout",
     "output_type": "stream",
     "text": [
      "train set demographics\n",
      "dict_keys([2, 0, 1, 3])\n",
      "dict_values([69, 63, 25, 35])\n",
      "dict_keys([1, 0])\n",
      "dict_values([100, 92])\n",
      "val set demographics\n",
      "dict_keys([2, 3, 0, 1])\n",
      "dict_values([41, 27, 31, 14])\n",
      "dict_keys([1, 0])\n",
      "dict_values([60, 53])\n"
     ]
    }
   ],
   "source": [
    "## demographics\n",
    "print('train set demographics')\n",
    "\n",
    "truth_action = list(map(int, truth_action))\n",
    "truth_action_val = list(map(int, truth_action_val))\n",
    "# print('truth distribution': )\n",
    "print(Counter(truth_action).keys())\n",
    "print(Counter(truth_action).values())\n",
    "\n",
    "truth_type = list(map(int, truth_type))\n",
    "truth_type_val = list(map(int, truth_type_val))\n",
    "print(Counter(truth_type).keys())\n",
    "print(Counter(truth_type).values())\n",
    "\n",
    "## demographics -- val set\n",
    "print('val set demographics')\n",
    "\n",
    "# print('truth distribution': )\n",
    "print(Counter(truth_action_val).keys())\n",
    "print(Counter(truth_action_val).values())\n",
    "\n",
    "print(Counter(truth_type_val).keys())\n",
    "print(Counter(truth_type_val).values())"
   ]
  },
  {
   "cell_type": "code",
   "execution_count": 62,
   "metadata": {},
   "outputs": [
    {
     "name": "stdout",
     "output_type": "stream",
     "text": [
      "accuracy of agent type\n",
      "accuracy of laggy train:  0.8478260869565217 (78/92)\n",
      "accuracy of optimal train:  0.63 (63/100)\n",
      "accuracy of overall train:  0.734375\n",
      "accuracy of laggy val:  0.7924528301886793 (42/53)\n",
      "accuracy of optimal val:  0.55 (33/60)\n",
      "accuracy of overall val:  0.6637168141592921\n"
     ]
    }
   ],
   "source": [
    "## gather accuracy of each agent type\n",
    "print('accuracy of agent type')\n",
    "\n",
    "## train set\n",
    "id_laggy = [i for i in range(len(truth_type)) if truth_type[i] == 0]\n",
    "id_optimal = [i for i in range(len(truth_type)) if truth_type[i] == 1]\n",
    "\n",
    "id_pred_laggy = [i for i in id_laggy if pred_type[i]==0]\n",
    "id_pred_optimal = [i for i in id_optimal if pred_type[i]==1]\n",
    "\n",
    "print('accuracy of laggy train: ', len(id_pred_laggy)/len(id_laggy), f'({len(id_pred_laggy)}/{len(id_laggy)})')\n",
    "print('accuracy of optimal train: ', len(id_pred_optimal)/len(id_optimal), f'({len(id_pred_optimal)}/{len(id_optimal)})')\n",
    "print('accuracy of overall train: ', (len(id_pred_laggy)+len(id_pred_optimal))/len(truth_type))\n",
    "\n",
    "\n",
    "## val set\n",
    "id_laggy_val = [i for i in range(len(truth_type_val)) if truth_type_val[i] == 0]\n",
    "id_optimal_val = [i for i in range(len(truth_type_val)) if truth_type_val[i] == 1]\n",
    "\n",
    "id_pred_laggy_val = [i for i in id_laggy_val if pred_type_val[i]==0]\n",
    "id_pred_optimal_val = [i for i in id_optimal_val if pred_type_val[i]==1]\n",
    "\n",
    "print('accuracy of laggy val: ', len(id_pred_laggy_val)/len(id_laggy_val), f'({len(id_pred_laggy_val)}/{len(id_laggy_val)})')\n",
    "print('accuracy of optimal val: ', len(id_pred_optimal_val)/len(id_optimal_val), f'({len(id_pred_optimal_val)}/{len(id_optimal_val)})')\n",
    "print('accuracy of overall val: ', (len(id_pred_laggy_val)+len(id_pred_optimal_val))/len(truth_type_val))"
   ]
  },
  {
   "cell_type": "code",
   "execution_count": 65,
   "metadata": {},
   "outputs": [
    {
     "name": "stdout",
     "output_type": "stream",
     "text": [
      "accuracy of actions\n",
      "accuracy of a0 train:  0.7301587301587301 (46/63)\n",
      "accuracy of a1 train:  0.04 (1/25)\n",
      "accuracy of a2 train:  0.34782608695652173 (24/69)\n",
      "accuracy of a3 train:  0.37142857142857144 (13/35)\n",
      "accuracy of overall train:  0.4375\n",
      "accuracy of a0 val:  0.7741935483870968 (24/31)\n",
      "accuracy of a1 val:  0.0 (0/14)\n",
      "accuracy of a2 val:  0.4146341463414634 (17/41)\n",
      "accuracy of a3 val:  0.48148148148148145 (13/27)\n",
      "accuracy of overall val:  0.4778761061946903\n"
     ]
    }
   ],
   "source": [
    "## gather accuracy of each action type\n",
    "print('accuracy of actions')\n",
    "\n",
    "## train set\n",
    "id_a0 = [i for i in range(len(truth_action)) if truth_action[i] == 0]\n",
    "id_a1 = [i for i in range(len(truth_action)) if truth_action[i] == 1]\n",
    "id_a2 = [i for i in range(len(truth_action)) if truth_action[i] == 2]\n",
    "id_a3 = [i for i in range(len(truth_action)) if truth_action[i] == 3]\n",
    "\n",
    "id_pred_a0 = [i for i in id_a0 if pred_action[i]==0]\n",
    "id_pred_a1 = [i for i in id_a1 if pred_action[i]==1]\n",
    "id_pred_a2 = [i for i in id_a2 if pred_action[i]==2]\n",
    "id_pred_a3 = [i for i in id_a3 if pred_action[i]==3]\n",
    "\n",
    "print('accuracy of a0 train: ', len(id_pred_a0)/len(id_a0), f'({len(id_pred_a0)}/{len(id_a0)})')\n",
    "print('accuracy of a1 train: ', len(id_pred_a1)/len(id_a1), f'({len(id_pred_a1)}/{len(id_a1)})')\n",
    "print('accuracy of a2 train: ', len(id_pred_a2)/len(id_a2), f'({len(id_pred_a2)}/{len(id_a2)})')\n",
    "print('accuracy of a3 train: ', len(id_pred_a3)/len(id_a3), f'({len(id_pred_a3)}/{len(id_a3)})')\n",
    "print('accuracy of overall train: ', (len(id_pred_a0)+len(id_pred_a1)+len(id_pred_a2)+len(id_pred_a3))/len(truth_action))\n",
    "\n",
    "## val set\n",
    "id_a0_val = [i for i in range(len(truth_action_val)) if truth_action_val[i] == 0]\n",
    "id_a1_val = [i for i in range(len(truth_action_val)) if truth_action_val[i] == 1]\n",
    "id_a2_val = [i for i in range(len(truth_action_val)) if truth_action_val[i] == 2]\n",
    "id_a3_val = [i for i in range(len(truth_action_val)) if truth_action_val[i] == 3]\n",
    "\n",
    "id_pred_a0_val = [i for i in id_a0_val if pred_action_val[i]==0]\n",
    "id_pred_a1_val = [i for i in id_a1_val if pred_action_val[i]==1]\n",
    "id_pred_a2_val = [i for i in id_a2_val if pred_action_val[i]==2]\n",
    "id_pred_a3_val = [i for i in id_a3_val if pred_action_val[i]==3]\n",
    "\n",
    "print('accuracy of a0 val: ', len(id_pred_a0_val)/len(id_a0_val), f'({len(id_pred_a0_val)}/{len(id_a0_val)})')\n",
    "print('accuracy of a1 val: ', len(id_pred_a1_val)/len(id_a1_val), f'({len(id_pred_a1_val)}/{len(id_a1_val)})')\n",
    "print('accuracy of a2 val: ', len(id_pred_a2_val)/len(id_a2_val), f'({len(id_pred_a2_val)}/{len(id_a2_val)})')\n",
    "print('accuracy of a3 val: ', len(id_pred_a3_val)/len(id_a3_val), f'({len(id_pred_a3_val)}/{len(id_a3_val)})')\n",
    "print('accuracy of overall val: ', (len(id_pred_a0_val)+len(id_pred_a1_val)+len(id_pred_a2_val)+len(id_pred_a3_val))/len(truth_action_val))\n"
   ]
  },
  {
   "cell_type": "markdown",
   "metadata": {},
   "source": [
    "## SR MSE calculation"
   ]
  },
  {
   "cell_type": "code",
   "execution_count": 204,
   "metadata": {},
   "outputs": [],
   "source": [
    "from sklearn.metrics import mean_squared_error"
   ]
  },
  {
   "cell_type": "code",
   "execution_count": 207,
   "metadata": {},
   "outputs": [
    {
     "data": {
      "text/plain": [
       "(192, 3, 128, 128)"
      ]
     },
     "execution_count": 207,
     "metadata": {},
     "output_type": "execute_result"
    }
   ],
   "source": [
    "target_sr.shape"
   ]
  },
  {
   "cell_type": "code",
   "execution_count": 208,
   "metadata": {},
   "outputs": [
    {
     "name": "stdout",
     "output_type": "stream",
     "text": [
      "overall mse:  2.4347323763033537e-06\n",
      "laggy mse:  2.2863608961642967e-06\n",
      "optimal mse:  2.5712341380312864e-06\n"
     ]
    }
   ],
   "source": [
    "## train set\n",
    "\n",
    "## compute mse\n",
    "mse = []\n",
    "mse_laggy = []\n",
    "mse_optimal = []\n",
    "for i in range(len(target_sr)):\n",
    "    mse_i = mean_squared_error(pred_sr[i].flatten(), target_sr[i].flatten())\n",
    "    mse.append(mse_i)\n",
    "    if i in id_laggy:\n",
    "        mse_laggy.append(mse_i)\n",
    "    if i in id_optimal:\n",
    "        mse_optimal.append(mse_i)\n",
    "\n",
    "print('overall mse: ', sum(mse)/len(mse))\n",
    "print('laggy mse: ', sum(mse_laggy)/len(mse_laggy))\n",
    "print('optimal mse: ', sum(mse_optimal)/len(mse_optimal))"
   ]
  },
  {
   "cell_type": "code",
   "execution_count": 209,
   "metadata": {},
   "outputs": [
    {
     "name": "stdout",
     "output_type": "stream",
     "text": [
      "overall mse val:  2.5010702531483176e-06\n",
      "laggy mse val:  2.408713361598169e-06\n",
      "optimal mse val:  2.582652174017615e-06\n"
     ]
    }
   ],
   "source": [
    "## val set\n",
    "\n",
    "## compute mse\n",
    "mse_val = []\n",
    "mse_laggy_val = []\n",
    "mse_optimal_val = []\n",
    "for i in range(len(target_val_sr)):\n",
    "    mse_i = mean_squared_error(pred_val_sr[i].flatten(), target_val_sr[i].flatten())\n",
    "    mse_val.append(mse_i)\n",
    "    if i in id_laggy_val:\n",
    "        mse_laggy_val.append(mse_i)\n",
    "    if i in id_optimal_val:\n",
    "        mse_optimal_val.append(mse_i)\n",
    "\n",
    "print('overall mse val: ', sum(mse_val)/len(mse_val))\n",
    "print('laggy mse val: ', sum(mse_laggy_val)/len(mse_laggy_val))\n",
    "print('optimal mse val: ', sum(mse_optimal_val)/len(mse_optimal_val))"
   ]
  }
 ],
 "metadata": {
  "kernelspec": {
   "display_name": "rl",
   "language": "python",
   "name": "python3"
  },
  "language_info": {
   "codemirror_mode": {
    "name": "ipython",
    "version": 3
   },
   "file_extension": ".py",
   "mimetype": "text/x-python",
   "name": "python",
   "nbconvert_exporter": "python",
   "pygments_lexer": "ipython3",
   "version": "3.8.11"
  },
  "orig_nbformat": 4
 },
 "nbformat": 4,
 "nbformat_minor": 2
}
